{
 "cells": [
  {
   "cell_type": "code",
   "source": "# Use a list comprehension to extract all positive numbers from [-2, 5, -1, 8, 0, 3, -4].\n# Assign the result to the variable positive_numbers.\n\n\nassert positive_numbers == [5, 8, 3], \"The result should contain only positive numbers\"\nprint(\"Correct! You filtered positive numbers using list comprehension.\")",
   "metadata": {},
   "outputs": []
  },
  {
   "cell_type": "code",
   "source": "# Use a dictionary comprehension to create a dictionary where keys are words \n# and values are their lengths for: [\"cat\", \"dog\", \"elephant\", \"bird\"].\n# Assign the result to the variable word_lengths.\n\n\nassert word_lengths == {\"cat\": 3, \"dog\": 3, \"elephant\": 8, \"bird\": 4}, \"Dictionary should map words to their lengths\"\nprint(\"Correct! You created a word length dictionary using dictionary comprehension.\")",
   "metadata": {},
   "outputs": []
  },
  {
   "cell_type": "code",
   "source": "# Use a list comprehension to create a list of cubes for numbers 1 through 6.\n# Assign the result to the variable cubes.\n\n\nassert cubes == [1, 8, 27, 64, 125, 216], \"The result should be cubes of numbers 1-6\"\nprint(\"Correct! You created a list of cubes using list comprehension.\")",
   "metadata": {},
   "outputs": []
  },
  {
   "cell_type": "code",
   "source": "# Execute this cell to see comprehensions in action\n\n# List Comprehensions\nprint(\"=== LIST COMPREHENSIONS ===\")\n\n# Example 1: Square numbers\nnumbers = [1, 2, 3, 4, 5]\nsquares = [x**2 for x in numbers]\nprint(f\"Numbers: {numbers}\")\nprint(f\"Squares: {squares}\")\n\n# Example 2: Filter even numbers and double them\nevens_doubled = [x * 2 for x in range(10) if x % 2 == 0]\nprint(f\"Even numbers doubled: {evens_doubled}\")\n\n# Example 3: String manipulation\nwords = [\"hello\", \"world\", \"python\", \"programming\"]\nuppercase_long = [word.upper() for word in words if len(word) > 5]\nprint(f\"Long words in uppercase: {uppercase_long}\")\n\n# Dictionary Comprehensions\nprint(\"\\n=== DICTIONARY COMPREHENSIONS ===\")\n\n# Example 4: Create a dictionary of squares\nsquare_dict = {x: x**2 for x in range(1, 6)}\nprint(f\"Square dictionary: {square_dict}\")\n\n# Example 5: Transform existing dictionary\nprices = {\"apple\": 1.20, \"banana\": 0.50, \"orange\": 0.80}\nexpensive_items = {item: price for item, price in prices.items() if price > 0.75}\nprint(f\"Expensive items: {expensive_items}\")\n\n# Example 6: Create dictionary from two lists\nfruits = [\"apple\", \"banana\", \"cherry\"]\ncolors = [\"red\", \"yellow\", \"red\"]\nfruit_colors = {fruit: color for fruit, color in zip(fruits, colors)}\nprint(f\"Fruit colors: {fruit_colors}\")\n\n# Set Comprehensions\nprint(\"\\n=== SET COMPREHENSIONS ===\")\n\n# Example 7: Unique word lengths\nwords = [\"hello\", \"world\", \"hello\", \"python\", \"world\"]\nunique_lengths = {len(word) for word in words}\nprint(f\"Words: {words}\")\nprint(f\"Unique word lengths: {unique_lengths}\")\n\n# Nested Comprehensions\nprint(\"\\n=== NESTED COMPREHENSIONS ===\")\n\n# Example 8: Flatten a 2D list\nmatrix = [[1, 2, 3], [4, 5, 6], [7, 8, 9]]\nflattened = [num for row in matrix for num in row]\nprint(f\"Matrix: {matrix}\")\nprint(f\"Flattened: {flattened}\")",
   "metadata": {},
   "outputs": []
  },
  {
   "cell_type": "code",
   "source": "# Use a while loop to reverse the digits of the number 12345.\n# Assign the reversed number to the variable reversed_number.\nnumber = 12345\n\n\nassert reversed_number == 54321, \"The reverse of 12345 should be 54321\"\nprint(\"Correct! You reversed the digits using a while loop.\")",
   "metadata": {},
   "outputs": []
  },
  {
   "cell_type": "code",
   "source": "# Use a while loop to calculate 2^n where n is the first power that makes 2^n > 1000.\n# Assign n to the variable power and 2^n to the variable result.\n\n\nassert power == 10 and result == 1024, \"2^10 = 1024 is the first power of 2 greater than 1000\"\nprint(\"Correct! You found the first power of 2 greater than 1000.\")",
   "metadata": {},
   "outputs": []
  },
  {
   "cell_type": "code",
   "source": "# Execute this cell to see while loops in action\n\n# Example 1: Basic while loop with counter\nprint(\"Countdown:\")\ncount = 5\nwhile count > 0:\n    print(count)\n    count -= 1  # Decrease count by 1\nprint(\"Blast off!\")\n\n# Example 2: Accumulating values\nprint(\"\\nSum of numbers until we reach 50:\")\ntotal = 0\nnumber = 1\nwhile total < 50:\n    total += number\n    print(f\"Added {number}, total now: {total}\")\n    number += 1\n\n# Example 3: Finding a value in a list\nprint(\"\\nSearching for 'banana' in fruits:\")\nfruits = [\"apple\", \"orange\", \"banana\", \"grape\"]\nindex = 0\nfound = False\nwhile index < len(fruits) and not found:\n    if fruits[index] == \"banana\":\n        print(f\"Found banana at index {index}\")\n        found = True\n    else:\n        print(f\"Index {index}: {fruits[index]} - not banana\")\n    index += 1\n\n# Example 4: Using break statement\nprint(\"\\nNumbers until we hit a multiple of 7:\")\nnum = 1\nwhile True:  # Infinite loop...\n    if num % 7 == 0:\n        print(f\"Hit multiple of 7: {num}\")\n        break  # ...but we break out here\n    print(num)\n    num += 1\n\n# Example 5: Doubling until threshold\nprint(\"\\nDoubling starting from 1:\")\nvalue = 1\nwhile value < 100:\n    print(value)\n    value *= 2\nprint(f\"Final value: {value}\")",
   "metadata": {},
   "outputs": []
  },
  {
   "cell_type": "code",
   "source": "# Use a for loop to find the largest number in the list [3, 7, 2, 9, 1, 5].\n# Assign the result to the variable max_number.\nnumbers = [3, 7, 2, 9, 1, 5]\n\n\nassert max_number == 9, \"The largest number should be 9\"\nprint(\"Correct! You found the maximum using a for loop.\")",
   "metadata": {},
   "outputs": []
  },
  {
   "cell_type": "code",
   "source": "# Use a for loop to count vowels in the string \"programming\".\n# Assign the count to the variable vowel_count.\ntext = \"programming\"\n\n\nassert vowel_count == 3, \"There should be 3 vowels in 'programming' (o, a, i)\"\nprint(\"Correct! You counted vowels using a for loop.\")",
   "metadata": {},
   "outputs": []
  },
  {
   "cell_type": "code",
   "source": "# Use a for loop to calculate the sum of numbers from 1 to 10.\n# Assign the result to the variable total_sum.\n\n\nassert total_sum == 55, \"The sum of numbers 1 to 10 should be 55\"\nprint(\"Correct! You calculated the sum using a for loop.\")",
   "metadata": {},
   "outputs": []
  },
  {
   "cell_type": "markdown",
   "source": "**Comprehensions** provide a concise way to create lists and dictionaries using a compact syntax. They combine loops and conditional logic into a single expression.\n\n**List Comprehensions:**\n```python\nnew_list = [expression for item in iterable if condition]\n```\n\n**Dictionary Comprehensions:**\n```python\nnew_dict = {key_expr: value_expr for item in iterable if condition}\n```\n\n**Set Comprehensions:**\n```python\nnew_set = {expression for item in iterable if condition}\n```\n\nComprehensions are often more readable and faster than equivalent for loops. They're particularly useful for transforming data, filtering collections, and creating new data structures from existing ones.",
   "metadata": {}
  },
  {
   "cell_type": "code",
   "source": "# Execute this cell to see for loops in action\n\n# Example 1: Iterating through a list\nfruits = [\"apple\", \"banana\", \"cherry\"]\nprint(\"Fruits:\")\nfor fruit in fruits:\n    print(f\"- {fruit}\")\n\n# Example 2: Using range()\nprint(\"\\nCounting to 5:\")\nfor i in range(1, 6):\n    print(f\"Count: {i}\")\n\n# Example 3: Iterating with index using enumerate()\ncolors = [\"red\", \"green\", \"blue\"]\nprint(\"\\nColors with indices:\")\nfor i, color in enumerate(colors):\n    print(f\"Index {i}: {color}\")\n\n# Example 4: Iterating through a string\nword = \"Python\"\nprint(f\"\\nLetters in '{word}':\")\nfor letter in word:\n    print(letter)\n\n# Example 5: Iterating through a dictionary\nstudent_grades = {\"Alice\": 85, \"Bob\": 92, \"Charlie\": 78}\nprint(\"\\nStudent grades:\")\nfor name, grade in student_grades.items():\n    print(f\"{name}: {grade}\")\n\n# Example 6: Using break and continue\nprint(\"\\nNumbers 1-10, skipping 5, stopping at 8:\")\nfor num in range(1, 11):\n    if num == 5:\n        continue  # skip 5\n    if num == 8:\n        break     # stop at 8\n    print(num)",
   "metadata": {},
   "outputs": []
  },
  {
   "cell_type": "code",
   "source": "# Use a compact if-else to find the absolute value of a number.\n# Assign the result to the variable abs_value.\nnumber = -15\n\n\nassert abs_value == 15, \"The absolute value of -15 should be 15\"\nprint(\"Correct! You calculated absolute value using compact if-else.\")",
   "metadata": {},
   "outputs": []
  },
  {
   "cell_type": "markdown",
   "source": "**While loops** repeatedly execute code as long as a condition remains true. Unlike for loops, which iterate over a known sequence, while loops continue until a condition becomes false.\n\nBasic syntax:\n```python\nwhile condition:\n    # code to execute while condition is True\n    # usually includes code that will eventually make condition False\n```\n\nKey considerations:\n* Make sure the condition will eventually become False to avoid infinite loops\n* Often used when you don't know how many iterations you need\n* Common to modify a counter or update a variable inside the loop\n* Can use `break` to exit early and `continue` to skip to next iteration\n\nWhile loops are useful for user input validation, game loops, and situations where you need to repeat until some condition is met.",
   "metadata": {}
  },
  {
   "cell_type": "code",
   "source": "# Use a compact if-else to determine if a number is \"even\" or \"odd\".\n# Assign the result to the variable parity.\nnumber = 7\n\n\nassert parity == \"odd\", \"7 should be classified as 'odd'\"\nprint(\"Correct! You used compact if-else to determine parity.\")",
   "metadata": {},
   "outputs": []
  },
  {
   "cell_type": "code",
   "source": "# Execute this cell to see compact if-else constructions\n\n# Example 1: Basic ternary operator\nage = 20\nstatus = \"adult\" if age >= 18 else \"minor\"\nprint(f\"Age: {age}, Status: {status}\")\n\n# Example 2: Comparison with regular if-else\n# Regular way:\ntemperature = 85\nif temperature > 80:\n    clothing = \"shorts\"\nelse:\n    clothing = \"pants\"\nprint(f\"Regular if-else: {clothing}\")\n\n# Compact way:\nclothing_compact = \"shorts\" if temperature > 80 else \"pants\"\nprint(f\"Compact form: {clothing_compact}\")\n\n# Example 3: Using in function calls\nnumbers = [1, 2, 3, 4, 5]\nfor num in numbers:\n    print(f\"{num} is {'even' if num % 2 == 0 else 'odd'}\")\n\n# Example 4: With mathematical operations\nx = 10\ny = 5\nmax_value = x if x > y else y\nprint(f\"Maximum of {x} and {y} is {max_value}\")\n\n# Example 5: Handling division by zero\na = 10\nb = 0\nresult = a / b if b != 0 else \"Cannot divide by zero\"\nprint(f\"Division result: {result}\")",
   "metadata": {},
   "outputs": []
  },
  {
   "cell_type": "code",
   "source": "# Categorize a student's performance based on their grade.\n# Assign the category to the variable performance.\ngrade = 78\n\n\nassert performance == \"Satisfactory\", \"A grade of 78 should be 'Satisfactory'\"\nprint(\"Correct! You categorized the student's performance.\")",
   "metadata": {},
   "outputs": []
  },
  {
   "cell_type": "markdown",
   "source": "**For loops** allow you to iterate through a sequence of items (like lists, strings, ranges) and execute code for each item. They are essential for automating repetitive tasks.\n\nBasic syntax:\n```python\nfor item in sequence:\n    # code to execute for each item\n```\n\nCommon patterns:\n* `for item in list:` - iterate through list items\n* `for i in range(n):` - iterate n times with index\n* `for i, item in enumerate(list):` - get both index and item\n* `for key, value in dict.items():` - iterate through dictionary\n* `for char in string:` - iterate through string characters\n\nFor loops can also use `break` to exit early and `continue` to skip to the next iteration.",
   "metadata": {}
  },
  {
   "cell_type": "code",
   "source": "# Determine if a person can vote based on age (18 or older) and citizenship.\n# Set voting_eligible to True or False.\nage = 20\nis_citizen = True\n\n\nassert voting_eligible == True, \"A 20-year-old citizen should be eligible to vote\"\nprint(\"Correct! You determined voting eligibility.\")",
   "metadata": {},
   "outputs": []
  },
  {
   "cell_type": "code",
   "source": "# Check if a number is positive, negative, or zero and assign the result to the variable number_type.\nnumber = -5\n\n\nassert number_type == \"negative\", \"The result should be 'negative' for -5\"\nprint(\"Correct! You identified the number type.\")",
   "metadata": {},
   "outputs": []
  },
  {
   "cell_type": "markdown",
   "source": "Python provides a **compact way to write simple if-else statements** using the **ternary operator** (also called conditional expression). This allows you to write a simple if-else statement in a single line.\n\nThe syntax is:\n```python\nvalue_if_true if condition else value_if_false\n```\n\nThis is equivalent to:\n```python\nif condition:\n    result = value_if_true\nelse:\n    result = value_if_false\n```\n\nThe compact form is useful for simple assignments and when you need to choose between two values based on a condition. However, don't overuse it - if the logic becomes complex, regular if-else statements are more readable.",
   "metadata": {}
  },
  {
   "cell_type": "code",
   "source": "# Execute this cell to see if-elif-else in action\n\n# Example 1: Simple if statement\nage = 18\nif age >= 18:\n    print(\"You are an adult\")\n\n# Example 2: If-else statement\ntemperature = 75\nif temperature > 80:\n    print(\"It's hot outside\")\nelse:\n    print(\"It's not too hot\")\n\n# Example 3: If-elif-else chain\nscore = 85\nif score >= 90:\n    grade = \"A\"\nelif score >= 80:\n    grade = \"B\"\nelif score >= 70:\n    grade = \"C\"\nelif score >= 60:\n    grade = \"D\"\nelse:\n    grade = \"F\"\nprint(f\"Score: {score}, Grade: {grade}\")\n\n# Example 4: Using logical operators\nusername = \"admin\"\npassword = \"secret123\"\nif username == \"admin\" and password == \"secret123\":\n    print(\"Login successful\")\nelse:\n    print(\"Invalid credentials\")",
   "metadata": {},
   "outputs": []
  },
  {
   "cell_type": "markdown",
   "metadata": {},
   "source": [
    "<div style=\"background-image: url('https://www.dropbox.com/scl/fi/wdrnuojbnjx6lgfekrx85/mcnair.jpg?rlkey=wcbaw5au7vh5vt1g5d5x7fw8f&dl=1'); background-size: cover; background-position: center; height: 300px; display: flex; align-items: center; justify-content: center; color: white; text-shadow: 2px 2px 4px rgba(0,0,0,0.7); margin-bottom: 20px; position: relative;\">\n",
    "  <h1 style=\"text-align: center; font-size: 2.5em; margin: 0;\">JGSB Python Workshop <br> Part 4: Flow Control</h1>\n",
    "  <div style=\"position: absolute; bottom: 10px; left: 15px; font-size: 0.9em; color: white; text-shadow: 2px 2px 4px rgba(0,0,0,0.7);\">\n",
    "    Authored by Kerry Back\n",
    "  </div>\n",
    "  <div style=\"position: absolute; bottom: 10px; right: 15px; text-align: right; font-size: 0.9em; color: white; text-shadow: 2px 2px 4px rgba(0,0,0,0.7);\">\n",
    "    Rice University, 9/6/2025\n",
    "  </div>\n",
    "</div>"
   ]
  },
  {
   "cell_type": "markdown",
   "metadata": {},
   "source": [
    "### If-Elif-Else"
   ]
  },
  {
   "cell_type": "markdown",
   "source": "**Conditional statements** allow your program to make decisions and execute different code based on conditions. Python uses `if`, `elif` (else if), and `else` statements to control program flow.\n\nThe basic syntax is:\n```python\nif condition:\n    # code to execute if condition is True\nelif another_condition:\n    # code to execute if another_condition is True\nelse:\n    # code to execute if no conditions are True\n```\n\nKey points:\n- Conditions are evaluated as True or False (boolean values)\n- Use comparison operators: `==`, `!=`, `<`, `>`, `<=`, `>=`\n- Use logical operators: `and`, `or`, `not`\n- Indentation is crucial - Python uses indentation to define code blocks",
   "metadata": {}
  },
  {
   "cell_type": "markdown",
   "metadata": {},
   "source": [
    "### Compact If-Else Construction"
   ]
  },
  {
   "cell_type": "markdown",
   "metadata": {},
   "source": [
    "### For Loops"
   ]
  },
  {
   "cell_type": "markdown",
   "metadata": {},
   "source": [
    "### While Loops"
   ]
  },
  {
   "cell_type": "markdown",
   "metadata": {},
   "source": [
    "### List and Dictionary Comprehensions"
   ]
  }
 ],
 "metadata": {
  "kernelspec": {
   "display_name": "Python 3",
   "language": "python",
   "name": "python3"
  },
  "language_info": {
   "codemirror_mode": {
    "name": "ipython",
    "version": 3
   },
   "file_extension": ".py",
   "mimetype": "text/x-python",
   "name": "python",
   "nbconvert_exporter": "python",
   "pygments_lexer": "ipython3",
   "version": "3.8.5"
  }
 },
 "nbformat": 4,
 "nbformat_minor": 4
}