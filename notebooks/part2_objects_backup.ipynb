{
 "cells": [
  {
   "cell_type": "markdown",
   "metadata": {},
   "source": [
    "<div style=\"background-image: url('https://www.dropbox.com/scl/fi/wdrnuojbnjx6lgfekrx85/mcnair.jpg?rlkey=wcbaw5au7vh5vt1g5d5x7fw8f&dl=1'); background-size: cover; background-position: center; height: 300px; display: flex; align-items: center; justify-content: center; color: white; text-shadow: 2px 2px 4px rgba(0,0,0,0.7); margin-bottom: 20px;\">\n",
    "  <h1 style=\"text-align: center; font-size: 2.5em; margin: 0;\">JGSB Python Workshop <br> Part 2: Objects</h1>\n",
    "</div>"
   ]
  },
  {
   "cell_type": "markdown",
   "metadata": {},
   "source": [
    "[![Open In Colab](https://colab.research.google.com/assets/colab-badge.svg)](https://colab.research.google.com/github/kerryback/python_workshop/blob/main/notebooks/part2_objects.ipynb)"
   ]
  },
  {
   "cell_type": "markdown",
   "metadata": {},
   "source": [
    "### Object types \n",
    "\n",
    "We have already encountered three types of python objects\n",
    "\n",
    "* integers (ints)\n",
    "* strings\n",
    "* functions (the print function)\n",
    "\n",
    "We can tell the type of any object with the `type` function.  "
   ]
  },
  {
   "cell_type": "code",
   "execution_count": null,
   "metadata": {},
   "outputs": [
    {
     "name": "stdout",
     "output_type": "stream",
     "text": [
      "<class 'int'>\n",
      "<class 'str'>\n",
      "<class 'builtin_function_or_method'>\n"
     ]
    }
   ],
   "source": [
    "# Execute this cell. \n",
    "\n",
    "print(type(10))\n",
    "print(type(\"abc\"))\n",
    "print(type(print))"
   ]
  },
  {
   "cell_type": "markdown",
   "metadata": {},
   "source": [
    "### Floats\n",
    "\n",
    "Numbers with decimal points are considered a different type of object in python, because they require more space in memory to store.  They are called **floating point** objects, or, more simply, **floats**. "
   ]
  },
  {
   "cell_type": "code",
   "execution_count": null,
   "metadata": {},
   "outputs": [],
   "source": [
    "# Execute this cell. \n",
    "\n",
    "x = 10.0\n",
    "print(type(x))"
   ]
  },
  {
   "cell_type": "markdown",
   "metadata": {},
   "source": [
    "### Mathematical operations\n",
    "\n",
    "We can perform standard mathematical objects on ints or floats or a combination of ints and floats.\n",
    "\n",
    "* addition (+)\n",
    "* subtraction (-)\n",
    "* multiplication (*)\n",
    "* exponentiation (**)"
   ]
  },
  {
   "cell_type": "code",
   "execution_count": null,
   "metadata": {},
   "outputs": [
    {
     "name": "stdout",
     "output_type": "stream",
     "text": [
      "2*10.0 = 20.0\n",
      "3**2 = 9\n"
     ]
    }
   ],
   "source": [
    "# Execute this cell. \n",
    "\n",
    "print(\"2*10.0 =\", 2*10.0)\n",
    "print(\"3**2 =\", 3**2)  # ^ in Excel is ** in python"
   ]
  },
  {
   "cell_type": "markdown",
   "metadata": {},
   "source": [
    "### Strings\n",
    "\n",
    "Strings are sequences of letters, numbers, spaces, or symbols enclosed in either single or double quotes.\n",
    "\n",
    "It makes no difference whether you use single or double quotes, but the beginning and end of the string must be the same type."
   ]
  },
  {
   "cell_type": "code",
   "execution_count": null,
   "metadata": {},
   "outputs": [],
   "source": [
    "print(\"this is a string\")\n",
    "print('this is a string too')"
   ]
  },
  {
   "cell_type": "markdown",
   "metadata": {},
   "source": [
    "We can also use three single quotation marks before and after to create a string, or three double quotation marks before and after.  These are **triple quoted strings.**\n",
    "\n",
    "The benefit of triple quoting is that a string can be spread over several lines."
   ]
  },
  {
   "cell_type": "code",
   "execution_count": 3,
   "metadata": {},
   "outputs": [
    {
     "name": "stdout",
     "output_type": "stream",
     "text": [
      "this is\n",
      "      a third string.\n"
     ]
    }
   ],
   "source": [
    "print(\"\"\"this is\n",
    "      a third string.\"\"\")"
   ]
  },
  {
   "cell_type": "markdown",
   "metadata": {},
   "source": [
    "### String operations\n",
    "\n",
    "A pretty common thing is to paste (concatenate) two strings together.  Python provides a very simple syntax for this.  We can just 'add' them."
   ]
  },
  {
   "cell_type": "code",
   "execution_count": null,
   "metadata": {},
   "outputs": [],
   "source": [
    "# Execute this cell.\n",
    "\n",
    "\"abc\" + 'xyz'"
   ]
  },
  {
   "cell_type": "markdown",
   "metadata": {},
   "source": [
    "### Booleans\n",
    "\n",
    "Booleans are another important type of important object.  There are only two booleans: True and False.\n",
    "\n",
    "We use these to represent whether one number is larger than another, whether two numbers are equal, and many other things.\n",
    "\n",
    "The basic comparison operators are\n",
    "\n",
    "* `>` (is greater than)\n",
    "* `<` (is less than)\n",
    "* `>=` (is greater than or equal to)\n",
    "* `<=` (is less than or equal to)\n",
    "* `==` (is equal to)\n",
    "\n",
    "Notice the use of two equals signs in 'is equal to.'  A single equals sign creates an assignment statement.\n",
    "\n",
    "As an example, the expression `10>5` resolves to True."
   ]
  },
  {
   "cell_type": "code",
   "execution_count": null,
   "metadata": {},
   "outputs": [
    {
     "data": {
      "text/plain": [
       "True"
      ]
     },
     "execution_count": 10,
     "metadata": {},
     "output_type": "execute_result"
    }
   ],
   "source": [
    "# Execute this cell. \n",
    "\n",
    "10 > 5"
   ]
  },
  {
   "cell_type": "markdown",
   "metadata": {},
   "source": [
    "We sometimes assign the values `True` and `False` to variables."
   ]
  },
  {
   "cell_type": "code",
   "execution_count": null,
   "metadata": {},
   "outputs": [
    {
     "data": {
      "text/plain": [
       "True"
      ]
     },
     "execution_count": 9,
     "metadata": {},
     "output_type": "execute_result"
    }
   ],
   "source": [
    "# Execute this cell. \n",
    "\n",
    "a = (10 > 5)\n",
    "a"
   ]
  },
  {
   "cell_type": "code",
   "execution_count": 1,
   "metadata": {},
   "outputs": [
    {
     "ename": "NameError",
     "evalue": "name 'A' is not defined",
     "output_type": "error",
     "traceback": [
      "\u001b[31m---------------------------------------------------------------------------\u001b[39m",
      "\u001b[31mNameError\u001b[39m                                 Traceback (most recent call last)",
      "\u001b[36mCell\u001b[39m\u001b[36m \u001b[39m\u001b[32mIn[1]\u001b[39m\u001b[32m, line 4\u001b[39m\n\u001b[32m      1\u001b[39m \u001b[38;5;66;03m# Write a comparison that is True and assign it the name A.\u001b[39;00m\n\u001b[32m      2\u001b[39m \u001b[38;5;66;03m# Write another comparison on a second line that is False and assign it the name B.\u001b[39;00m\n\u001b[32m----> \u001b[39m\u001b[32m4\u001b[39m \u001b[38;5;28;01massert\u001b[39;00m (\u001b[43mA\u001b[49m==\u001b[38;5;28;01mTrue\u001b[39;00m) \u001b[38;5;129;01mand\u001b[39;00m (B==\u001b[38;5;28;01mFalse\u001b[39;00m), \u001b[33m\"\"\"\u001b[39m\u001b[33mIf you get an Assertion Error,\u001b[39m\n\u001b[32m      5\u001b[39m \u001b[33mthen A or B has been defined incorrectly.  If you get a Name Error,\u001b[39m\n\u001b[32m      6\u001b[39m \u001b[33mthen either A or B has not been defined.\u001b[39m\u001b[33m\"\"\"\u001b[39m\n\u001b[32m      7\u001b[39m \u001b[38;5;28mprint\u001b[39m(\u001b[33m\"\u001b[39m\u001b[33mYou did it right!\u001b[39m\u001b[33m\"\u001b[39m)\n",
      "\u001b[31mNameError\u001b[39m: name 'A' is not defined"
     ]
    }
   ],
   "source": [
    "# Write a comparison that is True and assign it the name A.\n",
    "# Write another comparison on a second line that is False and assign it the name B.\n",
    "\n",
    "assert (A==True) and (B==False), \"\"\"If you get an Assertion Error,\n",
    "then A or B has been defined incorrectly.  If you get a Name Error,\n",
    "then either A or B has not been defined.\"\"\"\n",
    "print(\"You did it right!\")"
   ]
  },
  {
   "cell_type": "markdown",
   "metadata": {},
   "source": [
    "### Logical operators\n",
    "\n",
    "We can combine booleans with `and`, `or`, or `xor`.\n",
    "\n",
    "* `A and B` is true if `A` is `True` and `B` is `True`\n",
    "* `A or B` is True if `A` is `True` or `B` is `True`\n",
    "* `A xor B` is True if one and only one of `A` and `B` is `True`.\n",
    "\n",
    "Add a code cell below. Create new variables \n",
    "\n",
    "* `C = A and B`\n",
    "* `D = A or B`\n",
    "* `E = A xor B`\n",
    "\n",
    "What values will they have?\n",
    "\n",
    "Check that you are correct using `print(C, D, E)`."
   ]
  },
  {
   "cell_type": "markdown",
   "metadata": {},
   "source": [
    "### Attributes and methods\n",
    "\n",
    "Python objects have attributes and/or methods.\n",
    "\n",
    "* An **attribute** is a value or property associated with an object.\n",
    "* A **method** is a function that belongs to an object and can be called to perform actions using or modifying that object.\n",
    "\n",
    "To access an attribute or a method we type a period (`.`) after the object or the object's name and then type the attribute or method name.  Examples will make this clear and will also clarify the difference between attributes and methods.  They are fundamental elements of python that we will see repeatedly.\n",
    "\n",
    "Ints, floats, booleans, and functions do not have very interesting attributes or methods, nor do strings have very interesting attributes.  However, strings have several useful methods. Other types of objects that we will see later have many useful attributes and methods."
   ]
  },
  {
   "cell_type": "markdown",
   "metadata": {},
   "source": [
    "### String methods\n",
    "\n",
    "Here are a few useful string methods.  Notice that the syntax is `string.method(sometimes inputs)` or `name.method(sometimes inputs)` if `name` is the name of a string.\n",
    "\n",
    "* `.upper()` converts to\n",
    "uppercase: `\"hello\".upper()`\n",
    "returns `\"HELLO\"`.  There is also a `.lower()`\n",
    "* `.strip()` removes whitespace from both ends: `\"  hello  \".strip()` returns `\"hello\"`\n",
    "* `.replace(old, new)` replaces\n",
    "text: `\"hello\".replace(\"l\", \"x\")` returns `\"hexxo\"`\n",
    "* `.startswith(text)` - checks if string starts with text: `\"hello\".startswith(\"he\")` returns `True`.  There is also an `.endswith(text)`.\n",
    "    "
   ]
  },
  {
   "cell_type": "code",
   "source": "# Convert the string \"python programming\" to uppercase and assign it to the variable result1\n\nassert result1 == \"PYTHON PROGRAMMING\", \"The result should be the uppercase version of 'python programming'\"\nprint(\"Correct! You converted the string to uppercase.\")",
   "metadata": {},
   "outputs": []
  },
  {
   "cell_type": "code",
   "source": "# Convert the string \"DATA SCIENCE\" to lowercase and assign it to the variable result2\n\nassert result2 == \"data science\", \"The result should be the lowercase version of 'DATA SCIENCE'\"\nprint(\"Correct! You converted the string to lowercase.\")",
   "metadata": {},
   "outputs": []
  },
  {
   "cell_type": "code",
   "source": "# Remove the whitespace from both ends of \"   hello world   \" and assign it to the variable result3\n\nassert result3 == \"hello world\", \"The result should be 'hello world' with no leading or trailing spaces\"\nprint(\"Correct! You stripped the whitespace from both ends.\")",
   "metadata": {},
   "outputs": []
  },
  {
   "cell_type": "code",
   "source": "# Replace all occurrences of \"cat\" with \"dog\" in the string \"the cat sat on the cat\" and assign it to the variable result4\n\nassert result4 == \"the dog sat on the dog\", \"The result should have all 'cat' replaced with 'dog'\"\nprint(\"Correct! You replaced all occurrences of 'cat' with 'dog'.\")",
   "metadata": {},
   "outputs": []
  },
  {
   "cell_type": "code",
   "source": "# Check if the string \"python\" starts with \"py\" and assign the result to the variable result5\n\nassert result5 == True, \"The result should be True since 'python' starts with 'py'\"\nprint(\"Correct! You checked if the string starts with 'py'.\")",
   "metadata": {},
   "outputs": []
  },
  {
   "cell_type": "code",
   "source": "# Check if the string \"notebook\" ends with \"book\" and assign the result to the variable result6\n\nassert result6 == True, \"The result should be True since 'notebook' ends with 'book'\"\nprint(\"Correct! You checked if the string ends with 'book'.\")",
   "metadata": {},
   "outputs": []
  },
  {
   "cell_type": "markdown",
   "metadata": {},
   "source": [
    "### "
   ]
  },
  {
   "cell_type": "markdown",
   "metadata": {},
   "source": [
    "### Automatic completions\n",
    "\n",
    "Colab provides automatic completions to explore attributes of Python objects, as well as to quickly view documentation strings. As an example, first run the following cell to create a string and assign it the name `x``."
   ]
  },
  {
   "cell_type": "code",
   "execution_count": null,
   "metadata": {},
   "outputs": [],
   "source": [
    "x = 'abc'"
   ]
  },
  {
   "cell_type": "markdown",
   "metadata": {},
   "source": [
    "If you now insert your cursor after `x` and press **period**(`.`), you will see the list of available completions (methods and attributes) of string objects."
   ]
  }
 ],
 "metadata": {
  "kernelspec": {
   "display_name": "venv",
   "language": "python",
   "name": "python3"
  },
  "language_info": {
   "codemirror_mode": {
    "name": "ipython",
    "version": 3
   },
   "file_extension": ".py",
   "mimetype": "text/x-python",
   "name": "python",
   "nbconvert_exporter": "python",
   "pygments_lexer": "ipython3",
   "version": "3.12.3"
  }
 },
 "nbformat": 4,
 "nbformat_minor": 4
}