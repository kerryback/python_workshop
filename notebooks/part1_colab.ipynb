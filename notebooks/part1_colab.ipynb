{
 "cells": [
  {
   "cell_type": "markdown",
   "metadata": {},
   "source": "<div style=\"background-image: url('https://www.dropbox.com/scl/fi/wdrnuojbnjx6lgfekrx85/mcnair.jpg?rlkey=wcbaw5au7vh5vt1g5d5x7fw8f&dl=1'); background-size: cover; background-position: center; height: 300px; display: flex; align-items: center; justify-content: center; color: white; text-shadow: 2px 2px 4px rgba(0,0,0,0.7); margin-bottom: 20px; position: relative;\">\n  <h1 style=\"text-align: center; font-size: 2.5em; margin: 0;\">JGSB Python Workshop <br> Part 1: Colab</h1>\n  <div style=\"position: absolute; bottom: 10px; left: 15px; font-size: 0.9em; color: white; text-shadow: 2px 2px 4px rgba(0,0,0,0.7);\">\n    Authored by Kerry Back\n  </div>\n  <div style=\"position: absolute; bottom: 10px; right: 15px; text-align: right; font-size: 0.9em; color: white; text-shadow: 2px 2px 4px rgba(0,0,0,0.7);\">\n    Rice University, 9/6/2025\n  </div>\n</div>",
   "outputs": []
  },
  {
   "cell_type": "markdown",
   "metadata": {
    "id": "JyG45Qk3qQLS"
   },
   "source": [
    "### Cells\n",
    "A notebook is a list of cells. Cells contain either explanatory text or executable code and its output. Click a cell to select it.\n",
    "\n",
    "\n"
   ]
  },
  {
   "cell_type": "markdown",
   "metadata": {
    "id": "KR921S_OQSHG"
   },
   "source": [
    "### Code cells\n",
    "Below is a **code cell**. Once the toolbar button indicates CONNECTED, click in the cell to select it and execute the contents by clicking the **Play icon** to the left of the cell.\n",
    "\n",
    "\n",
    "The code cell below is an example of an **assignment statement.**  It assigns the value 10 to the variable `a` and stores it in memory.  The value will be read from memory and substituted for each appearance of the variable `a` in subsequent code executions, unless subsequent code causes the value assigned to `a` to change.\n",
    "\n",
    "An example of reading from memory is in the second line below.  After the first line is executed, the python interpreter moves to the second line, reads `a` from memory and, because there is nothing else in the code block, it echoes the value to the screen."
   ]
  },
  {
   "cell_type": "code",
   "execution_count": 3,
   "metadata": {
    "cellView": "both",
    "colab": {
     "height": 35
    },
    "id": "WUtu4316QSHL",
    "outputId": "67bdf0c3-d76f-4226-fc34-a2f2d0eba60b"
   },
   "outputs": [
    {
     "data": {
      "text/plain": [
       "10"
      ]
     },
     "execution_count": 3,
     "metadata": {},
     "output_type": "execute_result"
    }
   ],
   "source": [
    "a = 10\n",
    "a"
   ]
  },
  {
   "cell_type": "markdown",
   "metadata": {},
   "source": [
    "### Print statements\n",
    "\n",
    "An alternative to the second line in the above cell is to use a print statement.  In fact, print statements are much more flexible.  Execute the following cell for examples.\n",
    "\n",
    "The blank lines in the following cell are purely optional.  They are ignored by the python interpreter.\n",
    "\n",
    "Spaces around = signs and elsewhere are also optional and ignored by the python interpreter."
   ]
  },
  {
   "cell_type": "code",
   "execution_count": null,
   "metadata": {},
   "outputs": [
    {
     "name": "stdout",
     "output_type": "stream",
     "text": [
      "10\n",
      "20\n",
      "10 20 30\n"
     ]
    }
   ],
   "source": [
    "print(a)\n",
    "\n",
    "b = 2*a\n",
    "print(b)\n",
    "\n",
    "c = 40\n",
    "print(a, b, c)"
   ]
  },
  {
   "cell_type": "markdown",
   "metadata": {},
   "source": [
    "### Other ways to execute cells \n",
    "\n",
    "* Type **Cmd/Ctrl+Enter** to run a cell in place;\n",
    "* Type **Shift+Enter** to run a cell and move focus to the next cell (adding one if none exists); or\n",
    "* Type **Alt+Enter** to run a cell and insert a new code cell immediately below it.\n",
    "\n",
    "There are additional options for running some or all cells in the **Runtime** menu."
   ]
  },
  {
   "cell_type": "markdown",
   "metadata": {},
   "source": [
    "### Notebooks vs spreadsheets and order of execution\n",
    "\n",
    "Notebooks are similar to spreadsheets in some ways but differ in others.  Assigning the value 10 to `a` and defining `b` as `2*a` is similar to having the value 10 in cell `A4` in a spreadsheet and putting `=2*A4` in cell `B4.`  The cell names in a spreadsheet are therefore similar to variable names in python.\n",
    "\n",
    "However, an important difference is that all formulas in a spreadsheet become active when we open it, but nothing is activated when we open a notebook.  When we open a notebook, we are just getting a prettyfied image of a text file.  Python has not yet done anything.  It doesn't know any variables and it doesn't know any formulas.  \n",
    "\n",
    "Python becomes active when we execute a code cell.  Only the executed code cells are meaningful.  And, they are meaningful **in the order they are executed, not in the order in which they appear in the notebook.**  This is important to keep in mind when moving around in a notebook.\n",
    "\n",
    "If it becomes confusing as to what has executed and what hasn't, and you want to get back to the order in the notebook, select a cell, use **Runtime/Restart Session** to clear python, and then use **Runtime/Run Before** to run all cells that appear in the notebook before the selected cell."
   ]
  },
  {
   "cell_type": "markdown",
   "metadata": {
    "id": "Id6tDF1HQSHD"
   },
   "source": [
    "### Text cells\n",
    "This is a **text cell**. You can **double-click** to edit this cell. Text cells\n",
    "use markdown syntax. To learn more, see the [markdown\n",
    "cheat sheet]([/notebooks/markdown_guide.ipynb](https://www.markdownguide.org/cheat-sheet/))."
   ]
  },
  {
   "cell_type": "markdown",
   "metadata": {
    "id": "7bqjkGKwQSHW"
   },
   "source": [
    "### Adding and moving cells\n",
    "\n",
    "You can add new cells by using the **+ CODE** and **+ TEXT** buttons that show when you hover between cells. These buttons are also in the toolbar above the notebook where they can be used to add a cell below the currently selected cell.\n",
    "\n",
    "You can move a cell by selecting it and clicking **Cell Up** or **Cell Down** in the top toolbar."
   ]
  },
  {
   "cell_type": "markdown",
   "metadata": {},
   "source": [
    "### Gemini within-cell code generation\n",
    "\n",
    "Create a new code cell below this one.  If you choose `generate with AI,` a prompt window will appear within the cell.  Tell Gemini what you want, and it will write code for it.  For example, tell Gemini you want to calculate the sum of the first 100 integers.  Click the `play` button after Gemini writes the code, and the cell will execute, revealing the answer."
   ]
  },
  {
   "cell_type": "markdown",
   "metadata": {},
   "source": [
    "### Gemini chatbot\n",
    "\n",
    "If you want advice instead of code or in addition to code, click the `Gemini` at the top right of the Colab window to open a chatbot.  \n",
    "\n",
    "If you need assistance with exercises in this notebook, I **strongly recommend** that you ask the chatbot and then type the code yourself, rather than using within-cell generation.  You'll have a much better chance of learning python that way."
   ]
  },
  {
   "cell_type": "markdown",
   "metadata": {
    "id": "4bqAVK-aQSHx"
   },
   "source": [
    "### Error messages\n",
    "\n",
    "Everyone makes lots of errors.  We need to learn to read error messages to find the line of code with the error and to get information about the error.  Run the cell below for an example.\n",
    "\n",
    "If an error message isn't clear, copy and paste it into the Gemini chatbot and ask for an explanation."
   ]
  },
  {
   "cell_type": "code",
   "execution_count": null,
   "metadata": {
    "cellView": "both",
    "id": "CrJf1PEmQSHx",
    "outputId": "a8c7a413-a1e6-49f1-c7b5-58986eff5047"
   },
   "outputs": [
    {
     "ename": "ZeroDivisionError",
     "evalue": "",
     "output_type": "error",
     "traceback": [
      "\u001b[1;31m---------------------------------------------------------------------------\u001b[0m\n\u001b[1;31mZeroDivisionError\u001b[0m                         Traceback (most recent call last)",
      "\u001b[1;32m<ipython-input-14-dc39888fd1d2>\u001b[0m in \u001b[0;36m<module>\u001b[1;34m()\u001b[0m\n\u001b[0;32m      1\u001b[0m \u001b[0mx\u001b[0m \u001b[1;33m=\u001b[0m \u001b[1;36m1\u001b[0m\u001b[1;33m\u001b[0m\u001b[0m\n\u001b[0;32m      2\u001b[0m \u001b[0my\u001b[0m \u001b[1;33m=\u001b[0m \u001b[1;36m4\u001b[0m\u001b[1;33m\u001b[0m\u001b[0m\n\u001b[1;32m----> 3\u001b[1;33m \u001b[0mz\u001b[0m \u001b[1;33m=\u001b[0m \u001b[0my\u001b[0m\u001b[1;33m/\u001b[0m\u001b[1;33m(\u001b[0m\u001b[1;36m1\u001b[0m\u001b[1;33m-\u001b[0m\u001b[0mx\u001b[0m\u001b[1;33m)\u001b[0m\u001b[1;33m\u001b[0m\u001b[0m\n\u001b[0m",
      "\u001b[1;31mZeroDivisionError\u001b[0m: integer division or modulo by zero"
     ]
    }
   ],
   "source": [
    "x = 1\n",
    "y = 4\n",
    "z = y/(1-x)"
   ]
  },
  {
   "cell_type": "markdown",
   "metadata": {},
   "source": [
    "### self-grading cells\n",
    "\n",
    "In subsequent parts of this workshop, we'll use self-grading code cells.  They have the following structure:\n",
    "\n",
    "* a few lines beginning with `#`\n",
    "* a blank line\n",
    "* a few lines beginning with `assert`\n",
    "\n",
    "Anything following a `#` on a line of a code cell is ignored by the python interpreter.  They are comments intended for people to read.  \n",
    "\n",
    "* The first few lines of a self-grading cell are instructions.\n",
    "* Follow the instructions and write code at the blank line.  You can add more code lines if needed using the `Enter` key as usual.\n",
    "* The lines beginning with `assert` check your answer.  You do not need to read those lines.\n",
    "\n",
    "If you have difficulty with any self-grading cell, ask the chatbot, your instructor, or a TA for help.\n",
    "\n",
    "These self-grading cells are modeled after [Ryan Orsinger's](https://github.com/ryanorsinger) [101 Exercises](https://colab.research.google.com/github/ryanorsinger/101-exercises/blob/main/101-exercises.ipynb)."
   ]
  },
  {
   "cell_type": "code",
   "execution_count": null,
   "metadata": {},
   "outputs": [],
   "source": [
    "# This is an example of a self-grading cell.\n",
    "# Assign the value 100 to a variable named y.\n",
    "\n",
    "assert y == 100, \"\"\" If you see an Assertion Error, y has been defined incorrectly.\n",
    "If you see a Name Error, y has not been defined at all.\"\"\"\n",
    "print(\"You have created y correctly.\")"
   ]
  },
  {
   "cell_type": "markdown",
   "metadata": {},
   "source": [
    "### Explore Colab\n",
    "\n",
    "Take a few minutes and click around in Colab to see what the options are.  If something isn't clear, ask the chatbot, the instructor, or a TA.\n",
    "\n",
    "When you're ready to move on, answer **Ready to Move On** on the Menti."
   ]
  },
  {
   "cell_type": "markdown",
   "metadata": {},
   "source": [
    "A few of the cells in this notebook were adapted from Google's [Overview of Colab](https://colab.research.google.com/notebooks/basic_features_overview.ipynb) notebook.  If you have extra time before we begin Part 2, you might want to check it out or look at Ryan Orsinger's [101 Exercises](https://colab.research.google.com/github/ryanorsinger/101-exercises/blob/main/101-exercises.ipynb)."
   ]
  }
 ],
 "metadata": {
  "colab": {
   "name": "1-Introduction",
   "provenance": [],
   "toc_visible": true
  },
  "kernelspec": {
   "display_name": "venv",
   "language": "python",
   "name": "python3"
  },
  "language_info": {
   "codemirror_mode": {
    "name": "ipython",
    "version": 3
   },
   "file_extension": ".py",
   "mimetype": "text/x-python",
   "name": "python",
   "nbconvert_exporter": "python",
   "pygments_lexer": "ipython3",
   "version": "3.12.3"
  }
 },
 "nbformat": 4,
 "nbformat_minor": 0
}