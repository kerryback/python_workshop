{
 "cells": [
  {
   "cell_type": "code",
   "source": "# Create a function called 'build_url' that takes a domain and optional path (default \"\") and protocol (default \"https\").\n# Test with build_url(\"example.com\") and build_url(\"example.com\", path=\"/about\", protocol=\"http\").\n\n\nurl1 = build_url(\"example.com\")\nurl2 = build_url(\"example.com\", path=\"/about\", protocol=\"http\")\nassert url1 == \"https://example.com\" and url2 == \"http://example.com/about\", \"Check your URL building logic\"\nprint(\"Correct! You created a function with multiple named arguments.\")",
   "metadata": {},
   "outputs": []
  },
  {
   "cell_type": "code",
   "source": "# Create a function called 'power' that calculates x^y, with y defaulting to 2.\n# Test it with power(5) and power(3, 4).\n\n\nresult1 = power(5)      # Should be 5^2 = 25\nresult2 = power(3, 4)   # Should be 3^4 = 81\nassert result1 == 25 and result2 == 81, \"Check your power function implementation\"\nprint(\"Correct! You created a function with default parameters.\")",
   "metadata": {},
   "outputs": []
  },
  {
   "cell_type": "code",
   "source": "# Execute this cell to see named arguments and default parameters\n\n# Example 1: Function with default parameters\ndef introduce_person(name, age, city=\"Unknown\"):\n    \"\"\"Introduce a person with optional city\"\"\"\n    return f\"Hi, I'm {name}, {age} years old, from {city}.\"\n\n# Different ways to call the function\nprint(\"=== Default Parameters ===\")\nprint(introduce_person(\"Alice\", 25))  # Uses default city\nprint(introduce_person(\"Bob\", 30, \"New York\"))  # Provides city\nprint(introduce_person(\"Charlie\", 35, city=\"Boston\"))  # Named argument for city\n\n# Example 2: Function with multiple default parameters\ndef format_price(amount, currency=\"USD\", include_symbol=True):\n    \"\"\"Format a price with currency options\"\"\"\n    symbol_map = {\"USD\": \"$\", \"EUR\": \"€\", \"GBP\": \"£\"}\n    \n    if include_symbol and currency in symbol_map:\n        return f\"{symbol_map[currency]}{amount:.2f}\"\n    else:\n        return f\"{amount:.2f} {currency}\"\n\nprint(\"\\n=== Multiple Default Parameters ===\")\nprint(format_price(29.99))  # All defaults\nprint(format_price(29.99, \"EUR\"))  # Custom currency\nprint(format_price(29.99, currency=\"GBP\"))  # Named argument\nprint(format_price(29.99, include_symbol=False))  # Override symbol\nprint(format_price(29.99, currency=\"EUR\", include_symbol=False))  # Multiple named\n\n# Example 3: Named arguments in any order\ndef create_user_profile(username, email, first_name, last_name, active=True):\n    \"\"\"Create a user profile\"\"\"\n    status = \"Active\" if active else \"Inactive\"\n    return {\n        \"username\": username,\n        \"email\": email,\n        \"full_name\": f\"{first_name} {last_name}\",\n        \"status\": status\n    }\n\nprint(\"\\n=== Named Arguments in Any Order ===\")\n# Positional order\nprofile1 = create_user_profile(\"john_doe\", \"john@email.com\", \"John\", \"Doe\")\nprint(f\"Profile 1: {profile1}\")\n\n# Named arguments (different order)\nprofile2 = create_user_profile(\n    last_name=\"Smith\",\n    first_name=\"Jane\", \n    email=\"jane@email.com\",\n    username=\"jane_smith\",\n    active=False\n)\nprint(f\"Profile 2: {profile2}\")\n\n# Example 4: Mathematical function with options\ndef calculate_compound_interest(principal, rate, time, compound_frequency=1):\n    \"\"\"Calculate compound interest with optional compounding frequency\"\"\"\n    amount = principal * (1 + rate/compound_frequency) ** (compound_frequency * time)\n    interest = amount - principal\n    return amount, interest\n\nprint(\"\\n=== Compound Interest Calculations ===\")\n# Simple annual compounding\namount1, interest1 = calculate_compound_interest(1000, 0.05, 2)\nprint(f\"$1000 at 5% for 2 years (annual): Amount=${amount1:.2f}, Interest=${interest1:.2f}\")\n\n# Monthly compounding\namount2, interest2 = calculate_compound_interest(1000, 0.05, 2, compound_frequency=12)\nprint(f\"$1000 at 5% for 2 years (monthly): Amount=${amount2:.2f}, Interest=${interest2:.2f}\")\n\n# Example 5: Text processing with options\ndef process_text(text, uppercase=False, remove_spaces=False, add_prefix=\"\"):\n    \"\"\"Process text with various options\"\"\"\n    result = text\n    \n    if uppercase:\n        result = result.upper()\n    \n    if remove_spaces:\n        result = result.replace(\" \", \"\")\n    \n    if add_prefix:\n        result = add_prefix + result\n    \n    return result\n\nprint(\"\\n=== Text Processing Examples ===\")\noriginal = \"hello world\"\nprint(f\"Original: '{original}'\")\nprint(f\"Uppercase: '{process_text(original, uppercase=True)}'\")\nprint(f\"No spaces: '{process_text(original, remove_spaces=True)}'\")\nprint(f\"With prefix: '{process_text(original, add_prefix=\\\">>> \\\")}'\")\nprint(f\"All options: '{process_text(original, uppercase=True, remove_spaces=True, add_prefix=\\\"DATA: \\\")}'\")\n\n# Example 6: Function with many optional parameters\ndef send_email(to_address, subject, body, from_address=\"noreply@company.com\", \n               priority=\"normal\", send_copy=False, format_html=False):\n    \"\"\"Simulate sending an email with many options\"\"\"\n    email_info = {\n        \"to\": to_address,\n        \"from\": from_address,\n        \"subject\": subject,\n        \"body\": body,\n        \"priority\": priority,\n        \"copy_sent\": send_copy,\n        \"html_format\": format_html\n    }\n    return f\"Email sent: {email_info}\"\n\nprint(\"\\n=== Email Function ===\")\n# Minimal call\nprint(send_email(\"user@example.com\", \"Test\", \"Hello there!\"))\n\n# With some options\nprint(send_email(\"user@example.com\", \"Urgent\", \"Please respond ASAP\", \n                 priority=\"high\", send_copy=True))",
   "metadata": {},
   "outputs": []
  },
  {
   "cell_type": "code",
   "source": "# Create a function called 'count_vowels_consonants' that takes a string and returns the count of vowels and consonants.\n# Consider only alphabetic characters. Test it with \"Hello World\".\n\n\nvowels, consonants = count_vowels_consonants(\"Hello World\")\nassert vowels == 3 and consonants == 7, \"Hello World should have 3 vowels and 7 consonants\"\nprint(\"Correct! You created a function that counts vowels and consonants.\")",
   "metadata": {},
   "outputs": []
  },
  {
   "cell_type": "code",
   "source": "# Create a function called 'circle_properties' that takes a radius and returns both area and circumference.\n# Use pi = 3.14159. Test it with radius = 4.\n\n\narea, circumference = circle_properties(4)\nassert abs(area - 50.26544) < 0.001 and abs(circumference - 25.13272) < 0.001, \"Check your area and circumference calculations\"\nprint(\"Correct! You created a function that returns multiple values.\")",
   "metadata": {},
   "outputs": []
  },
  {
   "cell_type": "code",
   "source": "# Execute this cell to see functions returning multiple values\n\n# Example 1: Basic multiple return values\ndef get_name_parts():\n    \"\"\"Return first and last name\"\"\"\n    return \"John\", \"Smith\"\n\nfirst, last = get_name_parts()\nprint(f\"First name: {first}, Last name: {last}\")\n\n# You can also receive as a tuple\nfull_name = get_name_parts()\nprint(f\"Full name tuple: {full_name}\")\n\n# Example 2: Mathematical calculations\ndef rectangle_properties(length, width):\n    \"\"\"Calculate area and perimeter of a rectangle\"\"\"\n    area = length * width\n    perimeter = 2 * (length + width)\n    return area, perimeter\n\narea, perimeter = rectangle_properties(5, 3)\nprint(f\"Rectangle 5x3 - Area: {area}, Perimeter: {perimeter}\")\n\n# Example 3: Statistics from a list\ndef get_statistics(numbers):\n    \"\"\"Return min, max, and average of a list\"\"\"\n    minimum = min(numbers)\n    maximum = max(numbers)\n    average = sum(numbers) / len(numbers)\n    return minimum, maximum, average\n\ndata = [10, 5, 8, 12, 3, 15]\nmin_val, max_val, avg_val = get_statistics(data)\nprint(f\"Data: {data}\")\nprint(f\"Min: {min_val}, Max: {max_val}, Average: {avg_val:.2f}\")\n\n# Example 4: Coordinate operations\ndef translate_point(x, y, dx, dy):\n    \"\"\"Move a point by given offsets\"\"\"\n    new_x = x + dx\n    new_y = y + dy\n    return new_x, new_y\n\noriginal_x, original_y = 10, 20\nnew_x, new_y = translate_point(original_x, original_y, 5, -3)\nprint(f\"Point moved from ({original_x}, {original_y}) to ({new_x}, {new_y})\")\n\n# Example 5: String analysis\ndef analyze_string(text):\n    \"\"\"Return length, number of words, and uppercase version\"\"\"\n    length = len(text)\n    word_count = len(text.split())\n    uppercase = text.upper()\n    return length, word_count, uppercase\n\ntext = \"Hello Python World\"\nlength, words, upper = analyze_string(text)\nprint(f\"Text: '{text}'\")\nprint(f\"Length: {length}, Words: {words}, Uppercase: '{upper}'\")\n\n# Example 6: Divmod operation (built-in that returns multiple values)\ndef custom_divmod(a, b):\n    \"\"\"Return quotient and remainder\"\"\"\n    quotient = a // b\n    remainder = a % b\n    return quotient, remainder\n\nq, r = custom_divmod(17, 5)\nprint(f\"17 divided by 5: quotient = {q}, remainder = {r}\")\n\n# You can also use Python's built-in divmod\nq2, r2 = divmod(17, 5)\nprint(f\"Using built-in divmod: quotient = {q2}, remainder = {r2}\")",
   "metadata": {},
   "outputs": []
  },
  {
   "cell_type": "code",
   "source": "# Create a function called 'find_max' that takes a list of numbers and returns the largest one.\n# Test it with the list [3, 7, 2, 9, 1].\n\n\nmax_value = find_max([3, 7, 2, 9, 1])\nassert max_value == 9, \"The maximum value should be 9\"\nprint(\"Correct! You created a function to find the maximum value.\")",
   "metadata": {},
   "outputs": []
  },
  {
   "cell_type": "code",
   "source": "# Create a function called 'is_even' that takes a number and returns True if it's even, False otherwise.\n# Then test it with the number 12.\n\n\nresult = is_even(12)\nassert result == True, \"12 should be identified as even\"\nprint(\"Correct! You created a function to check if numbers are even.\")",
   "metadata": {},
   "outputs": []
  },
  {
   "cell_type": "code",
   "source": "# Create a function called 'square' that takes a number and returns its square.\n# Then use it to calculate the square of 7.\n\n\nsquare_of_7 = square(7)\nassert square_of_7 == 49, \"The square of 7 should be 49\"\nprint(\"Correct! You created a function to calculate squares.\")",
   "metadata": {},
   "outputs": []
  },
  {
   "cell_type": "markdown",
   "source": "Python functions support **named arguments** (also called keyword arguments), which make function calls more readable and flexible. You can provide **default values** for parameters and call functions using parameter names.\n\n**Default Parameters:**\n```python\ndef greet(name, greeting=\"Hello\"):\n    return f\"{greeting}, {name}!\"\n```\n\n**Calling with Named Arguments:**\n```python\n# Positional arguments\nresult = greet(\"Alice\", \"Hi\")\n\n# Named arguments\nresult = greet(name=\"Alice\", greeting=\"Hi\")\nresult = greet(greeting=\"Hi\", name=\"Alice\")  # Order doesn't matter\n\n# Mix of positional and named\nresult = greet(\"Alice\", greeting=\"Hi\")\n```\n\n**Benefits:**\n- **Clarity** - makes function calls self-documenting\n- **Flexibility** - can call with arguments in any order\n- **Default values** - optional parameters with sensible defaults\n- **Extensibility** - easy to add new optional parameters\n\n**Best Practices:**\n- Use default values for optional parameters\n- Put required parameters first, optional ones last\n- Use descriptive parameter names",
   "metadata": {}
  },
  {
   "cell_type": "code",
   "source": "# Execute this cell to see custom functions in action\n\n# Example 1: Simple function with parameters and return value\ndef add_numbers(a, b):\n    \"\"\"Add two numbers and return the result\"\"\"\n    return a + b\n\nresult = add_numbers(5, 3)\nprint(f\"5 + 3 = {result}\")\n\n# Example 2: Function without return (performs action)\ndef greet_person(name):\n    \"\"\"Print a greeting message\"\"\"\n    print(f\"Hello, {name}! Welcome to Python!\")\n\ngreet_person(\"Alice\")\n\n# Example 3: Function with no parameters\ndef get_current_status():\n    \"\"\"Return a status message\"\"\"\n    return \"System is running normally\"\n\nstatus = get_current_status()\nprint(f\"Status: {status}\")\n\n# Example 4: Function with multiple operations\ndef calculate_circle_area(radius):\n    \"\"\"Calculate the area of a circle given its radius\"\"\"\n    pi = 3.14159\n    area = pi * radius * radius\n    return area\n\ncircle_area = calculate_circle_area(5)\nprint(f\"Area of circle with radius 5: {circle_area:.2f}\")\n\n# Example 5: Function with conditional logic\ndef classify_temperature(temp):\n    \"\"\"Classify temperature as cold, moderate, or hot\"\"\"\n    if temp < 32:\n        return \"freezing\"\n    elif temp < 70:\n        return \"cold\"\n    elif temp < 85:\n        return \"moderate\"\n    else:\n        return \"hot\"\n\ntemp_classification = classify_temperature(75)\nprint(f\"75°F is classified as: {temp_classification}\")\n\n# Example 6: Function that processes a list\ndef count_positive_numbers(numbers):\n    \"\"\"Count how many positive numbers are in a list\"\"\"\n    count = 0\n    for num in numbers:\n        if num > 0:\n            count += 1\n    return count\n\nnumbers_list = [-2, 5, -1, 8, 0, 3]\npositive_count = count_positive_numbers(numbers_list)\nprint(f\"Positive numbers in {numbers_list}: {positive_count}\")\n\n# Example 7: Function with string manipulation\ndef format_name(first, last):\n    \"\"\"Format a person's name in 'Last, First' format\"\"\"\n    return f\"{last}, {first}\"\n\nformatted = format_name(\"John\", \"Smith\")\nprint(f\"Formatted name: {formatted}\")",
   "metadata": {},
   "outputs": []
  },
  {
   "cell_type": "code",
   "source": "# Use zip() to create a list of tuples pairing names with scores.\n# Assign the result to the variable name_score_pairs.\nnames = [\"Alice\", \"Bob\", \"Charlie\"]\nscores = [85, 92, 78]\n\n\nassert name_score_pairs == [(\"Alice\", 85), (\"Bob\", 92), (\"Charlie\", 78)], \"Should create pairs of names and scores\"\nprint(\"Correct! You created name-score pairs using zip().\")",
   "metadata": {},
   "outputs": []
  },
  {
   "cell_type": "markdown",
   "source": "Python functions can **return multiple values** at once, which is useful when you need to return several related pieces of information. This is accomplished using **tuples**.\n\n**Returning Multiple Values:**\n```python\ndef function_name():\n    value1 = \"first\"\n    value2 = \"second\"\n    return value1, value2  # Returns a tuple\n```\n\n**Unpacking Return Values:**\n```python\n# Method 1: Unpack into separate variables\nfirst, second = function_name()\n\n# Method 2: Receive as a tuple\nresult = function_name()  # result is a tuple\n```\n\n**Common Use Cases:**\n- Returning coordinates (x, y)\n- Returning statistics (mean, median, mode)\n- Returning min and max values\n- Returning multiple calculations\n- Returning status and result\n\nThis feature makes functions more versatile and allows you to avoid calling multiple functions when you need related information.",
   "metadata": {}
  },
  {
   "cell_type": "code",
   "source": "# Use built-in functions to check if all numbers in [2, 4, 6, 8] are even.\n# Assign the result to the variable all_even.\nnumbers = [2, 4, 6, 8]\n\n\nassert all_even == True, \"All numbers in [2, 4, 6, 8] should be even\"\nprint(\"Correct! You checked if all numbers are even using built-in functions.\")",
   "metadata": {},
   "outputs": []
  },
  {
   "cell_type": "code",
   "source": "# Use built-in functions to find the average of numbers in [10, 20, 30, 40, 50].\n# Assign the result to the variable average.\nnumbers = [10, 20, 30, 40, 50]\n\n\nassert average == 30.0, \"The average of [10, 20, 30, 40, 50] should be 30.0\"\nprint(\"Correct! You calculated the average using built-in functions.\")",
   "metadata": {},
   "outputs": []
  },
  {
   "cell_type": "code",
   "source": "# Execute this cell to see built-in functions in action\n\n# Length and basic operations\nnumbers = [1, 2, 3, 4, 5]\nprint(f\"List: {numbers}\")\nprint(f\"Length: {len(numbers)}\")\nprint(f\"Sum: {sum(numbers)}\")\nprint(f\"Max: {max(numbers)}\")\nprint(f\"Min: {min(numbers)}\")\n\n# Type checking and conversion\nvalue = 3.14159\nprint(f\"\\nValue: {value}\")\nprint(f\"Type: {type(value)}\")\nprint(f\"Rounded to 2 decimals: {round(value, 2)}\")\nprint(f\"As integer: {int(value)}\")\nprint(f\"As string: {str(value)}\")\n\n# Working with strings\ntext = \"Hello World\"\nprint(f\"\\nText: '{text}'\")\nprint(f\"Length: {len(text)}\")\nprint(f\"Uppercase: {text.upper()}\")\n\n# Absolute value\nnegative_num = -42\nprint(f\"\\nNegative number: {negative_num}\")\nprint(f\"Absolute value: {abs(negative_num)}\")\n\n# Sorting\nfruits = [\"banana\", \"apple\", \"cherry\"]\nprint(f\"\\nOriginal list: {fruits}\")\nprint(f\"Sorted list: {sorted(fruits)}\")\n\n# Zip function - combine lists\nnames = [\"Alice\", \"Bob\", \"Charlie\"]\nages = [25, 30, 35]\ncombined = list(zip(names, ages))\nprint(f\"\\nNames: {names}\")\nprint(f\"Ages: {ages}\")\nprint(f\"Combined: {combined}\")\n\n# Enumerate - add indices\ncolors = [\"red\", \"green\", \"blue\"]\nprint(f\"\\nColors with indices:\")\nfor i, color in enumerate(colors):\n    print(f\"  {i}: {color}\")\n\n# Any and all\nbool_list1 = [True, False, True]\nbool_list2 = [True, True, True]\nprint(f\"\\nList 1: {bool_list1}\")\nprint(f\"Any True: {any(bool_list1)}\")\nprint(f\"All True: {all(bool_list1)}\")\nprint(f\"\\nList 2: {bool_list2}\")\nprint(f\"Any True: {any(bool_list2)}\")\nprint(f\"All True: {all(bool_list2)}\")",
   "metadata": {},
   "outputs": []
  },
  {
   "cell_type": "markdown",
   "source": "You can create your own **custom functions** to encapsulate code that you want to reuse or organize. Creating functions helps make your code more modular, readable, and maintainable.\n\n**Basic Function Syntax:**\n```python\ndef function_name(parameter1, parameter2):\n    \"\"\"Optional docstring explaining what the function does\"\"\"\n    # Function body\n    result = parameter1 + parameter2\n    return result  # Optional return statement\n```\n\n**Key Components:**\n- **`def`** keyword starts the function definition\n- **Function name** should be descriptive and follow Python naming conventions\n- **Parameters** are input values the function accepts (optional)\n- **Docstring** provides documentation (optional but recommended)\n- **Function body** contains the code to execute\n- **`return`** statement sends a value back to the caller (optional)\n\n**Function Types:**\n- Functions that return values\n- Functions that perform actions (no return)\n- Functions with parameters\n- Functions without parameters",
   "metadata": {}
  },
  {
   "cell_type": "markdown",
   "metadata": {},
   "source": [
    "<div style=\"background-image: url('https://www.dropbox.com/scl/fi/wdrnuojbnjx6lgfekrx85/mcnair.jpg?rlkey=wcbaw5au7vh5vt1g5d5x7fw8f&dl=1'); background-size: cover; background-position: center; height: 300px; display: flex; align-items: center; justify-content: center; color: white; text-shadow: 2px 2px 4px rgba(0,0,0,0.7); margin-bottom: 20px; position: relative;\">\n",
    "  <h1 style=\"text-align: center; font-size: 2.5em; margin: 0;\">JGSB Python Workshop <br> Part 5: Functions</h1>\n",
    "  <div style=\"position: absolute; bottom: 10px; left: 15px; font-size: 0.9em; color: white; text-shadow: 2px 2px 4px rgba(0,0,0,0.7);\">\n",
    "    Authored by Kerry Back\n",
    "  </div>\n",
    "  <div style=\"position: absolute; bottom: 10px; right: 15px; text-align: right; font-size: 0.9em; color: white; text-shadow: 2px 2px 4px rgba(0,0,0,0.7);\">\n",
    "    Rice University, 9/6/2025\n",
    "  </div>\n",
    "</div>"
   ]
  },
  {
   "cell_type": "markdown",
   "metadata": {},
   "source": [
    "### Overview"
   ]
  },
  {
   "cell_type": "markdown",
   "source": "**Functions** are reusable blocks of code that perform specific tasks. They are one of the most important concepts in programming, allowing you to:\n\n- **Organize code** into logical, manageable pieces\n- **Avoid repetition** by writing code once and using it multiple times\n- **Make code more readable** by giving meaningful names to operations\n- **Debug more easily** by isolating functionality\n- **Build complex programs** by combining simple functions\n\n**How Functions Work:**\n1. **Definition**: You define a function using the `def` keyword\n2. **Parameters**: Functions can accept input values (parameters)\n3. **Body**: The function contains code that processes the inputs\n4. **Return**: Functions can return results back to the caller\n5. **Calling**: You execute a function by calling it with arguments\n\n**Basic Syntax:**\n```python\ndef function_name(parameters):\n    \"\"\"Optional docstring describing the function\"\"\"\n    # Function body\n    return result  # Optional return statement\n```\n\nPython provides many built-in functions (like `print()`, `len()`, `max()`), and you can create your own custom functions to solve specific problems.",
   "metadata": {}
  },
  {
   "cell_type": "markdown",
   "source": "Python comes with many **built-in functions** that you can use immediately without importing anything. These functions handle common tasks and operations.\n\n**Common Built-in Functions:**\n- **`len()`** - returns the length of a sequence\n- **`max()`, `min()`** - find maximum/minimum values\n- **`sum()`** - calculates sum of numbers\n- **`abs()`** - returns absolute value\n- **`round()`** - rounds numbers to specified decimal places\n- **`type()`** - returns the type of an object\n- **`str()`, `int()`, `float()`** - convert between data types\n- **`range()`** - generates sequences of numbers\n- **`zip()`** - combines multiple iterables\n- **`enumerate()`** - adds index to iterables\n- **`sorted()`** - returns a sorted list\n- **`any()`, `all()`** - test if any/all elements are True\n\nThese functions save you time and make your code more readable by providing standard solutions to common problems.",
   "metadata": {}
  },
  {
   "cell_type": "markdown",
   "metadata": {},
   "source": [
    "### Built-in Functions"
   ]
  },
  {
   "cell_type": "markdown",
   "metadata": {},
   "source": [
    "### Creating Functions"
   ]
  },
  {
   "cell_type": "markdown",
   "metadata": {},
   "source": [
    "### Functions that Return Multiple Items"
   ]
  },
  {
   "cell_type": "markdown",
   "metadata": {},
   "source": [
    "### Functions with Named Arguments"
   ]
  }
 ],
 "metadata": {
  "kernelspec": {
   "display_name": "Python 3",
   "language": "python",
   "name": "python3"
  },
  "language_info": {
   "codemirror_mode": {
    "name": "ipython",
    "version": 3
   },
   "file_extension": ".py",
   "mimetype": "text/x-python",
   "name": "python",
   "nbconvert_exporter": "python",
   "pygments_lexer": "ipython3",
   "version": "3.8.5"
  }
 },
 "nbformat": 4,
 "nbformat_minor": 4
}