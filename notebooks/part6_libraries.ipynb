{
 "cells": [
  {
   "cell_type": "markdown",
   "metadata": {},
   "source": [
    "<div style=\"background-image: url('https://www.dropbox.com/scl/fi/wdrnuojbnjx6lgfekrx85/mcnair.jpg?rlkey=wcbaw5au7vh5vt1g5d5x7fw8f&dl=1'); background-size: cover; background-position: center; height: 300px; display: flex; align-items: center; justify-content: center; color: white; text-shadow: 2px 2px 4px rgba(0,0,0,0.7); margin-bottom: 20px; position: relative;\">\n",
    "  <h1 style=\"text-align: center; font-size: 2.5em; margin: 0;\">JGSB Python Workshop <br> Part 6: Libraries</h1>\n",
    "  <div style=\"position: absolute; bottom: 10px; left: 15px; font-size: 0.9em; color: white; text-shadow: 2px 2px 4px rgba(0,0,0,0.7);\">\n",
    "    Authored by Kerry Back\n",
    "  </div>\n",
    "  <div style=\"position: absolute; bottom: 10px; right: 15px; text-align: right; font-size: 0.9em; color: white; text-shadow: 2px 2px 4px rgba(0,0,0,0.7);\">\n",
    "    Rice University, 9/6/2025\n",
    "  </div>\n",
    "</div>"
   ]
  },
  {
   "cell_type": "markdown",
   "metadata": {},
   "source": [
    "### Overview\n",
    "\n",
    "A python library is a collection of python code.  When you import a python library, you gain access to the additional functionality provided by the code."
   ]
  },
  {
   "cell_type": "markdown",
   "metadata": {},
   "source": [
    "### Example\n",
    "\n",
    "There is no built-in square root function in python.  However, there is a `math` library that contains a square root function.  Run the following cell to see one way the square root function can be imported into a session."
   ]
  },
  {
   "cell_type": "code",
   "execution_count": null,
   "metadata": {},
   "outputs": [],
   "source": [
    "from math import sqrt\n",
    "\n",
    "w = sqrt(9)\n",
    "print(w)"
   ]
  },
  {
   "cell_type": "markdown",
   "metadata": {},
   "source": [
    "### Aliases \n",
    "\n",
    "We would not want to do so in this example, but we could also change the name when we import it using `as`.  This is usually done to abbreviate long names."
   ]
  },
  {
   "cell_type": "code",
   "execution_count": null,
   "metadata": {},
   "outputs": [],
   "source": [
    "from math import sqrt as alias_for_sqrt\n",
    "\n",
    "x = alias_for_sqrt(9)\n",
    "print(x)"
   ]
  },
  {
   "cell_type": "markdown",
   "metadata": {},
   "source": [
    "### Importing Libraries \n",
    "\n",
    "Some python libraries contain many useful things, so we will import the entire library rather than importing objects one at a time.  Here is an example.\n",
    "\n",
    "When we import an entire library, we must use the library name as a prefix afterwards to access the library objects."
   ]
  },
  {
   "cell_type": "code",
   "execution_count": null,
   "metadata": {},
   "outputs": [],
   "source": [
    "import math\n",
    "\n",
    "y = math.sqrt(9)\n",
    "print(y)"
   ]
  },
  {
   "cell_type": "markdown",
   "metadata": {},
   "source": [
    "### Automatic Completions\n",
    "\n",
    "Automatic completions work with libraries as they do with objects.\n",
    "\n",
    "Add a code cell below, type `math` and press **period**(`.`).  You will see all of the functions and other objects that are now available in your python session."
   ]
  },
  {
   "cell_type": "code",
   "execution_count": null,
   "metadata": {},
   "outputs": [],
   "source": [
    "# Compute the area of a circle with radius 2 using the math library\n",
    "# and assign it to a variable named area.\n",
    "\n",
    "\n",
    "assert area == 4*math.pi, \"A Name Error means area was not defined. An Assertion Error means it was defined incorrectly.\"\n",
    "print(\"Correct!\")"
   ]
  },
  {
   "cell_type": "markdown",
   "metadata": {},
   "source": [
    "### Aliases for Libraries\n",
    "\n",
    "We can use `as` when importing entire libraries to abbreviate the library name.  Again, we would not do it here, because `math` is a short name, but we will illustrate using `math` anyway."
   ]
  },
  {
   "cell_type": "code",
   "execution_count": null,
   "metadata": {},
   "outputs": [],
   "source": [
    "import math as alias_for_math\n",
    "\n",
    "z = alias_for_math.sqrt(9)\n",
    "print(z)"
   ]
  },
  {
   "cell_type": "markdown",
   "metadata": {},
   "source": [
    "### Alias Conventions \n",
    "\n",
    "We will use python libraries throughout the remainder of the workshop.  There are conventions regarding the aliases used when importing these libraries.  It is not necessary to follow the conventions, but everyone does.  Here are the conventions:\n",
    "\n",
    "```\n",
    "import pandas as pd\n",
    "import statsmodels.api as sm\n",
    "import statsmodels.formula.api as smf\n",
    "import matplotlib.pyplot as plt\n",
    "import seaborn as sns\n",
    "import numpy as np\n",
    "```\n",
    "\n",
    "These conventions are understood by AI.  If you ask the Gemini chatbot to explain `np.array` it will \"know\" that you are asking about the `array` function from `numpy`.  But don't feel that you need to memorize the aliases.  You can always ask AI."
   ]
  },
  {
   "cell_type": "markdown",
   "metadata": {},
   "source": [
    "### Pause here\n",
    "\n",
    "When you get here and are ready to move on, select Ready on the poll.  If you have extra time, explore the [python resources](https://workshop.kerryback.com/resources) from the workshop homepage."
   ]
  }
 ],
 "metadata": {
  "kernelspec": {
   "display_name": "venv",
   "language": "python",
   "name": "python3"
  },
  "language_info": {
   "codemirror_mode": {
    "name": "ipython",
    "version": 3
   },
   "file_extension": ".py",
   "mimetype": "text/x-python",
   "name": "python",
   "nbconvert_exporter": "python",
   "pygments_lexer": "ipython3",
   "version": "3.12.3"
  }
 },
 "nbformat": 4,
 "nbformat_minor": 4
}
