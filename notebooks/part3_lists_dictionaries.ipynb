{
 "cells": [
  {
   "cell_type": "markdown",
   "metadata": {},
   "source": [
    "<div style=\"background-image: url('https://www.dropbox.com/scl/fi/wdrnuojbnjx6lgfekrx85/mcnair.jpg?rlkey=wcbaw5au7vh5vt1g5d5x7fw8f&dl=1'); background-size: cover; background-position: center; height: 300px; display: flex; align-items: center; justify-content: center; color: white; text-shadow: 2px 2px 4px rgba(0,0,0,0.7); margin-bottom: 20px; position: relative;\">\n",
    "  <h1 style=\"text-align: center; font-size: 2.5em; margin: 0;\">JGSB Python Workshop <br> Part 3: Lists and Dictionaries</h1>\n",
    "  <div style=\"position: absolute; bottom: 10px; left: 15px; font-size: 0.9em; color: white; text-shadow: 2px 2px 4px rgba(0,0,0,0.7);\">\n",
    "    Authored by Kerry Back\n",
    "  </div>\n",
    "  <div style=\"position: absolute; bottom: 10px; right: 15px; text-align: right; font-size: 0.9em; color: white; text-shadow: 2px 2px 4px rgba(0,0,0,0.7);\">\n",
    "    Rice University, 9/6/2025\n",
    "  </div>\n",
    "</div>"
   ]
  },
  {
   "cell_type": "markdown",
   "metadata": {},
   "source": [
    "### Lists\n",
    "\n",
    "Lists are one of the most important data structures in Python. A **list** is an *ordered* collection of items (called elements) that can be of any type - numbers, strings, or even other lists.\n",
    "\n",
    "Lists are created by placing items inside square brackets `[]`, separated by commas.\n",
    "\n",
    "Python uses **zero-based indexing**, meaning the first element is at index 0, the second at index 1, and so on.  We will come back to that when we cover how to extract elements from a list."
   ]
  },
  {
   "cell_type": "code",
   "execution_count": null,
   "metadata": {},
   "outputs": [],
   "source": [
    "# Execute this cell to see examples of creating lists\n",
    "\n",
    "# List of numbers\n",
    "numbers = [1, 2, 3, 4, 5]\n",
    "print(\"Numbers:\", numbers)\n",
    "\n",
    "# List of strings  \n",
    "fruits = [\"apple\", \"banana\", \"cherry\"]\n",
    "print(\"Fruits:\", fruits)\n",
    "\n",
    "# Mixed list\n",
    "mixed = [1, \"hello\", 3.14, True]\n",
    "print(\"Mixed:\", mixed)\n",
    "\n",
    "# Empty list\n",
    "empty = []\n",
    "print(\"Empty:\", empty)"
   ]
  },
  {
   "cell_type": "markdown",
   "metadata": {},
   "source": [
    "### Concatenating lists\n",
    "\n",
    "Just like strings, lists can be combined (concatenated) using the `+` operator. When you add two lists together, you get a new list containing all elements from both lists."
   ]
  },
  {
   "cell_type": "code",
   "execution_count": null,
   "metadata": {},
   "outputs": [],
   "source": [
    "# Execute this cell to see list concatenation\n",
    "\n",
    "list1 = [1, 2, 3]\n",
    "list2 = [4, 5, 6]\n",
    "\n",
    "# Concatenate the lists\n",
    "combined = list1 + list2\n",
    "print(\"List1:\", list1)\n",
    "print(\"List2:\", list2)\n",
    "print(\"Combined:\", combined)\n",
    "\n",
    "# You can also concatenate lists directly\n",
    "result = [\"a\", \"b\"] + [\"c\", \"d\"]\n",
    "print(\"Direct concatenation:\", result)"
   ]
  },
  {
   "cell_type": "markdown",
   "metadata": {},
   "source": [
    "### List methods\n",
    "\n",
    "Lists have many useful methods that allow you to modify them or get information about them. Here are some of the most commonly used list methods:\n",
    "\n",
    "* `.append(item)` - adds an item to the end of the list\n",
    "* `.insert(index, item)` - inserts an item at a specific position  \n",
    "* `.remove(item)` - removes the first occurrence of an item\n",
    "* `.pop()` - removes and returns the last item (or item at specified index)\n",
    "* `.count(item)` - counts how many times an item appears in the list\n",
    "* `.sort()` - sorts the list in place\n",
    "* `.reverse()` - reverses the order of items in the list"
   ]
  },
  {
   "cell_type": "code",
   "execution_count": null,
   "metadata": {},
   "outputs": [],
   "source": [
    "# Execute this cell to see list methods in action\n",
    "\n",
    "# Start with a list\n",
    "my_list = [3, 1, 4, 1, 5]\n",
    "print(\"Original list:\", my_list)\n",
    "\n",
    "# Append an item\n",
    "my_list.append(9)\n",
    "print(\"After append(9):\", my_list)\n",
    "\n",
    "# Insert an item at position 2\n",
    "my_list.insert(2, 2)\n",
    "print(\"After insert(2, 2):\", my_list)\n",
    "\n",
    "# Count occurrences of 1\n",
    "count_ones = my_list.count(1)\n",
    "print(\"Count of 1s:\", count_ones)\n",
    "\n",
    "# Remove first occurrence of 1\n",
    "my_list.remove(1)\n",
    "print(\"After remove(1):\", my_list)\n",
    "\n",
    "# Sort the list\n",
    "my_list.sort()\n",
    "print(\"After sort():\", my_list)\n",
    "\n",
    "# Reverse the list\n",
    "my_list.reverse()\n",
    "print(\"After reverse():\", my_list)"
   ]
  },
  {
   "cell_type": "markdown",
   "metadata": {},
   "source": [
    "### Accessing elements and ranges in lists\n",
    "\n",
    "You can access individual elements in a list using square brackets with an index number.  Remember that python uses **zero-based indexing**, meaning the first element is at index 0, the second at index 1, and so on.\n",
    "\n",
    "You can also access ranges of elements using **slicing** with the syntax `[start:end]`, where `start` is included and `end` is excluded.\n",
    "\n",
    "* `my_list[0]` - gets the first element\n",
    "* `my_list[-1]` - gets the last element (negative indexing counts from the end)\n",
    "* `my_list[1:4]` - gets elements from index 1 to 3 (4 is excluded)\n",
    "* `my_list[:3]` - gets elements from the beginning up to index 2\n",
    "* `my_list[2:]` - gets elements from index 2 to the end"
   ]
  },
  {
   "cell_type": "code",
   "execution_count": null,
   "metadata": {},
   "outputs": [],
   "source": [
    "# Execute this cell to see list indexing and slicing\n",
    "\n",
    "colors = [\"red\", \"green\", \"blue\", \"yellow\", \"purple\", \"orange\"]\n",
    "print(\"List:\", colors)\n",
    "\n",
    "# Individual elements\n",
    "print(\"First element (index 0):\", colors[0])\n",
    "print(\"Third element (index 2):\", colors[2])\n",
    "print(\"Last element (index -1):\", colors[-1])\n",
    "print(\"Second to last (index -2):\", colors[-2])\n",
    "\n",
    "# Slicing\n",
    "print(\"First three elements [0:3]:\", colors[0:3])\n",
    "print(\"Elements 2-4 [2:5]:\", colors[2:5])\n",
    "print(\"First three [:3]:\", colors[:3])\n",
    "print(\"From index 3 to end [3:]:\", colors[3:])\n",
    "print(\"Every other element [::2]:\", colors[::2])"
   ]
  },
  {
   "cell_type": "markdown",
   "metadata": {},
   "source": [
    "Complete the following exercises."
   ]
  },
  {
   "cell_type": "code",
   "execution_count": null,
   "metadata": {},
   "outputs": [],
   "source": [
    "# Create a list containing the numbers 10, 20, 30, 40, 50\n",
    "# and assign it to the variable numbers_list.\n",
    "\n",
    "\n",
    "assert numbers_list == [10, 20, 30, 40, 50], \"The result should be a list containing [10, 20, 30, 40, 50]\"\n",
    "print(\"Correct! You created a list of numbers.\")"
   ]
  },
  {
   "cell_type": "code",
   "execution_count": null,
   "metadata": {},
   "outputs": [],
   "source": [
    "# Create a list containing the strings \"monday\", \"tuesday\", \"wednesday\"\n",
    "# and assign it to the variable days_list.\n",
    "\n",
    "\n",
    "assert days_list == [\"monday\", \"tuesday\", \"wednesday\"], \"The result should be a list containing ['monday', 'tuesday', 'wednesday']\"\n",
    "print(\"Correct! You created a list of days.\")"
   ]
  },
  {
   "cell_type": "code",
   "execution_count": null,
   "metadata": {},
   "outputs": [],
   "source": [
    "# Concatenate list1 and list2 and assign the result to the variable concat_result.\n",
    "\n",
    "list1 = [1, 2, 3]\n",
    "list2 = [4, 5, 6]\n",
    "\n",
    "\n",
    "assert concat_result == [1, 2, 3, 4, 5, 6], \"The result should be [1, 2, 3, 4, 5, 6]\"\n",
    "print(\"Correct! You concatenated the two lists.\")"
   ]
  },
  {
   "cell_type": "code",
   "execution_count": null,
   "metadata": {},
   "outputs": [],
   "source": [
    "# Concatenate list1 and list2 and assign the result to the variable fruit_combo.\n",
    "\n",
    "list1 = [\"apple\", \"banana\"]\n",
    "list2 = [\"cherry\", \"date\", \"elderberry\"]\n",
    "\n",
    "\n",
    "assert fruit_combo == [\"apple\", \"banana\", \"cherry\", \"date\", \"elderberry\"], \"The result should be ['apple', 'banana', 'cherry', 'date', 'elderberry']\"\n",
    "print(\"Correct! You concatenated the fruit lists.\")"
   ]
  },
  {
   "cell_type": "code",
   "execution_count": null,
   "metadata": {},
   "outputs": [],
   "source": [
    "# Use the append method to add the number 4 at the end of my_list.\n",
    "# Assign the modified list to the variable appended_list.\n",
    "\n",
    "my_list = [1, 2, 3]\n",
    "\n",
    "\n",
    "assert appended_list == [1, 2, 3, 4], \"The result should be [1, 2, 3, 4] after appending 4\"\n",
    "print(\"Correct! You used the append method.\")"
   ]
  },
  {
   "cell_type": "code",
   "execution_count": null,
   "metadata": {},
   "outputs": [],
   "source": [
    "# Use the count method on my_list to count \n",
    "# how many times the number 2 appears. Assign the result to count_twos.\n",
    "\n",
    "my_list = [1, 2, 2, 3, 2, 4]\n",
    "\n",
    "\n",
    "assert count_twos == 3, \"The result should be 3 since there are three 2s in the list\"\n",
    "print(\"Correct! You used the count method.\")"
   ]
  },
  {
   "cell_type": "code",
   "execution_count": null,
   "metadata": {},
   "outputs": [],
   "source": [
    "# Get the first element from my_list and assign it to the variable first_color.\n",
    "\n",
    "my_list = [\"red\", \"green\", \"blue\", \"yellow\"]\n",
    "\n",
    "\n",
    "assert first_color == \"red\", \"The result should be 'red' (the first element)\"\n",
    "print(\"Correct! You accessed the first element.\")"
   ]
  },
  {
   "cell_type": "code",
   "execution_count": null,
   "metadata": {},
   "outputs": [],
   "source": [
    "# Get the last element from my_list using negative indexing\n",
    "# and assign it to the variable last_number.\n",
    "\n",
    "my_list = [5, 10, 15, 20, 25]\n",
    "\n",
    "\n",
    "assert last_number == 25, \"The result should be 25 (the last element)\"\n",
    "print(\"Correct! You accessed the last element using negative indexing.\")"
   ]
  },
  {
   "cell_type": "code",
   "execution_count": null,
   "metadata": {},
   "outputs": [],
   "source": [
    "# Get the first three elements from my_list  using slicing\n",
    "# and assign the result to the variable first_three.\n",
    "\n",
    "my_list = [\"a\", \"b\", \"c\", \"d\", \"e\", \"f\"]\n",
    "\n",
    "\n",
    "assert first_three == [\"a\", \"b\", \"c\"], \"The result should be ['a', 'b', 'c'] (first three elements)\"\n",
    "print(\"Correct! You used slicing to get the first three elements.\")"
   ]
  },
  {
   "cell_type": "code",
   "execution_count": null,
   "metadata": {},
   "outputs": [],
   "source": [
    "# Get elements from index 2 to 4 (inclusive of 2, exclusive of 5) from my_list\n",
    "# and assign the result to the variable middle_elements.\n",
    "\n",
    "my_list = [10, 20, 30, 40, 50, 60]\n",
    "\n",
    "\n",
    "assert middle_elements == [30, 40, 50], \"The result should be [30, 40, 50] (elements at indices 2, 3, 4)\"\n",
    "print(\"Correct! You used slicing to get the middle elements.\")"
   ]
  },
  {
   "cell_type": "markdown",
   "metadata": {},
   "source": [
    "### Pause here\n",
    "\n",
    "Answer the Menti when you get here and are ready to move on.  If you have extra time, explore these [python resources](https://workshop.kerryback.com/resources)."
   ]
  },
  {
   "cell_type": "markdown",
   "metadata": {},
   "source": [
    "### Dictionaries\n",
    "\n",
    "Dictionaries are another fundamental data structure in Python. A **dictionary** is an *unordered* collection of key-value pairs. Each key is unique and is used to access its corresponding value.  \n",
    "\n",
    "Dictionaries are created using curly braces `{}` with key-value pairs separated by commas. Each key-value pair is written as `key: value`."
   ]
  },
  {
   "cell_type": "code",
   "execution_count": null,
   "metadata": {},
   "outputs": [],
   "source": [
    "# Execute this cell to see examples of creating dictionaries\n",
    "\n",
    "# Dictionary with string keys and various value types\n",
    "student = {\"name\": \"Alice\", \"age\": 20, \"gpa\": 3.75, \"enrolled\": True}\n",
    "print(\"Student:\", student)\n",
    "\n",
    "# Dictionary with mixed key types (though strings are most common)\n",
    "mixed_dict = {\"count\": 5, 42: \"answer\", \"pi\": 3.14}\n",
    "print(\"Mixed:\", mixed_dict)\n",
    "\n",
    "# Empty dictionary\n",
    "empty_dict = {}\n",
    "print(\"Empty:\", empty_dict)\n",
    "\n",
    "# We can also create dictionaries using the dict() function\n",
    "grades = dict(math=85, english=92, science=78)\n",
    "print(\"Grades:\", grades)"
   ]
  },
  {
   "cell_type": "markdown",
   "metadata": {},
   "source": [
    "### Dictionaries vs lists\n",
    "\n",
    "In a dictionary, you access values using their corresponding keys. \n",
    "\n",
    "* `dict[key]` - gets the value for a specific key\n",
    "\n",
    "Remember the following:\n",
    "\n",
    "* Elements of a list are extracted based on their position in the list.\n",
    "* Elements (values) or a list are extracted based on their names (keys).\n",
    "\n",
    "Example: Suppose we want to work with the ages of people and Alexander is 25, Yifan is 30, and Madhuja is 28.  We could put their ages in a list:\n",
    "\n",
    "* `list_ages = [25, 30, 28]`\n",
    "\n",
    "That might be fine, but we will need to remember whose age we put where.  We could instead create a dictionary:\n",
    "\n",
    "* `dict_ages = {'Alexander': 25, 'Yifan': 30, 'Madhuja': 28}\n",
    "\n",
    "Then we can find Yifan's age with\n",
    "\n",
    "* `dict_ages['Yifan']"
   ]
  },
  {
   "cell_type": "markdown",
   "metadata": {},
   "source": [
    "### Dictionary keys and values\n",
    "\n",
    "You can also get all keys or all values from a dictionary.\n",
    "\n",
    "* `dict.keys()` - returns all keys in the dictionary\n",
    "* `dict.values()` - returns all values in the dictionary\n",
    "* `dict.items()` - returns all key-value pairs as tuples\n",
    "* `key in dict` - checks if a key exists in the dictionary\n",
    "\n",
    "In the following, we introduce a new python function, which is `list`.  It converts various things that are sort of like lists into actual list objects."
   ]
  },
  {
   "cell_type": "code",
   "execution_count": null,
   "metadata": {},
   "outputs": [],
   "source": [
    "# Execute this cell to see dictionary keys and values in action\n",
    "\n",
    "car = {\"brand\": \"Toyota\", \"model\": \"Camry\", \"year\": 2020, \"color\": \"blue\"}\n",
    "print(\"Car dictionary:\", car)\n",
    "\n",
    "# Accessing values by key\n",
    "print(\"Brand:\", car[\"brand\"])\n",
    "print(\"Year:\", car[\"year\"])\n",
    "\n",
    "# Getting all keys, values, and items\n",
    "print(\"All keys:\", list(car.keys()))\n",
    "print(\"All values:\", list(car.values()))\n",
    "print(\"All items:\", list(car.items()))\n",
    "\n",
    "# Checking if a key exists\n",
    "print(\"Has 'model' key:\", \"model\" in car)\n",
    "print(\"Has 'price' key:\", \"price\" in car)\n",
    "\n",
    "# Adding a new key-value pair\n",
    "car[\"price\"] = 25000\n",
    "print(\"After adding price:\", car)"
   ]
  },
  {
   "cell_type": "markdown",
   "metadata": {},
   "source": [
    "### Dictionary methods\n",
    "\n",
    "Dictionaries have several useful methods for manipulating and accessing their data:\n",
    "\n",
    "* `.get(key, default)` - gets a value by key, returns default if key doesn't exist\n",
    "* `.pop(key, default)` - removes and returns a value by key\n",
    "* `.update(other_dict)` - adds key-value pairs from another dictionary\n",
    "* `.clear()` - removes all items from the dictionary\n",
    "* `.copy()` - creates a shallow copy of the dictionary\n",
    "* `del dict[key]` - removes a specific key-value pair"
   ]
  },
  {
   "cell_type": "code",
   "execution_count": null,
   "metadata": {},
   "outputs": [],
   "source": [
    "# Execute this cell to see dictionary methods in action\n",
    "\n",
    "# Start with a dictionary\n",
    "inventory = {\"apples\": 50, \"bananas\": 30, \"oranges\": 25}\n",
    "print(\"Original inventory:\", inventory)\n",
    "\n",
    "# Using get() method (safer than direct access)\n",
    "apple_count = inventory.get(\"apples\", 0)\n",
    "grape_count = inventory.get(\"grapes\", 0)  # doesn't exist, returns default\n",
    "print(\"Apple count:\", apple_count)\n",
    "print(\"Grape count:\", grape_count)\n",
    "\n",
    "# Update with another dictionary\n",
    "new_stock = {\"pears\": 15, \"grapes\": 40}\n",
    "inventory.update(new_stock)\n",
    "print(\"After update:\", inventory)\n",
    "\n",
    "# Pop method (remove and return)\n",
    "removed_bananas = inventory.pop(\"bananas\", 0)\n",
    "print(\"Removed bananas:\", removed_bananas)\n",
    "print(\"After pop:\", inventory)\n",
    "\n",
    "# Copy the dictionary\n",
    "backup = inventory.copy()\n",
    "print(\"Backup copy:\", backup)\n",
    "\n",
    "# Delete a key\n",
    "del inventory[\"oranges\"]\n",
    "print(\"After delete:\", inventory)\n",
    "print(\"Backup still intact:\", backup)"
   ]
  },
  {
   "cell_type": "markdown",
   "metadata": {},
   "source": [
    "Complete the following exercises"
   ]
  },
  {
   "cell_type": "code",
   "execution_count": null,
   "metadata": {},
   "outputs": [],
   "source": [
    "# Create a dictionary with keys \"name\", \"age\", and \"city\" \n",
    "# with values \"John\", 25, and \"New York\" respectively.\n",
    "# Assign it to the variable person_info.\n",
    "\n",
    "\n",
    "assert person_info == {\"name\": \"John\", \"age\": 25, \"city\": \"New York\"}, \"The result should be a dictionary with the specified key-value pairs\"\n",
    "print(\"Correct! You created a dictionary with person information.\")"
   ]
  },
  {
   "cell_type": "code",
   "execution_count": null,
   "metadata": {},
   "outputs": [],
   "source": [
    "# Create an empty dictionary and assign it to the variable empty_scores.\n",
    "\n",
    "\n",
    "assert empty_scores == {}, \"The result should be an empty dictionary\"\n",
    "print(\"Correct! You created an empty dictionary.\")"
   ]
  },
  {
   "cell_type": "code",
   "execution_count": null,
   "metadata": {},
   "outputs": [],
   "source": [
    "# Access the \"model\" value from the dictionary {\"brand\": \"Honda\", \"model\": \"Civic\", \"year\": 2019}\n",
    "# and assign it to the variable car_model.\n",
    "\n",
    "\n",
    "assert car_model == \"Civic\", \"The result should be 'Civic'\"\n",
    "print(\"Correct! You accessed the model value from the dictionary.\")"
   ]
  },
  {
   "cell_type": "code",
   "execution_count": null,
   "metadata": {},
   "outputs": [],
   "source": [
    "# Check if the key \"price\" exists in the dictionary {\"name\": \"laptop\", \"brand\": \"Dell\", \"ram\": \"8GB\"}\n",
    "# and assign the result to the variable has_price.\n",
    "\n",
    "\n",
    "assert has_price == False, \"The result should be False since 'price' key doesn't exist\"\n",
    "print(\"Correct! You checked if the key exists in the dictionary.\")"
   ]
  },
  {
   "cell_type": "code",
   "execution_count": null,
   "metadata": {},
   "outputs": [],
   "source": [
    "# Use the get method on the dictionary {\"a\": 1, \"b\": 2, \"c\": 3} to get the value for key \"b\"\n",
    "# and assign it to the variable value_b.\n",
    "\n",
    "\n",
    "assert value_b == 2, \"The result should be 2\"\n",
    "print(\"Correct! You used the get method to retrieve a value.\")"
   ]
  },
  {
   "cell_type": "code",
   "execution_count": null,
   "metadata": {},
   "outputs": [],
   "source": [
    "# Use the get method on the dictionary {\"x\": 10, \"y\": 20} to get the value for key \"z\"\n",
    "# with a default value of 0. Assign the result to the variable value_z.\n",
    "\n",
    "\n",
    "assert value_z == 0, \"The result should be 0 (the default value since 'z' doesn't exist)\"\n",
    "print(\"Correct! You used the get method with a default value.\")"
   ]
  },
  {
   "cell_type": "code",
   "execution_count": null,
   "metadata": {},
   "outputs": [],
   "source": [
    "# Start with the dictionary {\"math\": 85, \"english\": 90}. Use the update method \n",
    "# to add the key-value pairs from {\"science\": 88, \"history\": 92}.\n",
    "# Assign the updated dictionary to the variable all_grades.\n",
    "\n",
    "\n",
    "assert all_grades == {\"math\": 85, \"english\": 90, \"science\": 88, \"history\": 92}, \"The result should contain all four subjects\"\n",
    "print(\"Correct! You used the update method to merge dictionaries.\")"
   ]
  },
  {
   "cell_type": "code",
   "execution_count": null,
   "metadata": {},
   "outputs": [],
   "source": [
    "# Get all the keys from the dictionary {\"red\": 1, \"green\": 2, \"blue\": 3} as a list\n",
    "# and assign it to the variable color_keys.\n",
    "\n",
    "\n",
    "assert set(color_keys) == {\"red\", \"green\", \"blue\"}, \"The result should be a list containing all the keys\"\n",
    "print(\"Correct! You got all keys from the dictionary.\")"
   ]
  },
  {
   "cell_type": "code",
   "execution_count": null,
   "metadata": {},
   "outputs": [],
   "source": [
    "# Get all the values from the dictionary {\"apple\": 5, \"banana\": 3, \"orange\": 8} as a list\n",
    "# and assign it to the variable fruit_counts.\n",
    "\n",
    "\n",
    "assert set(fruit_counts) == {5, 3, 8}, \"The result should be a list containing all the values\"\n",
    "print(\"Correct! You got all values from the dictionary.\")"
   ]
  },
  {
   "cell_type": "markdown",
   "metadata": {},
   "source": [
    "### Range objects\n",
    "\n",
    "Before we learn about enumerating lists and dictionaries, we need to understand **range objects**. A range represents a sequence of numbers and is commonly used in loops.\n",
    "\n",
    "Range objects are created using the `range()` function:\n",
    "* `range(stop)` - creates numbers from 0 to stop-1\n",
    "* `range(start, stop)` - creates numbers from start to stop-1  \n",
    "* `range(start, stop, step)` - creates numbers from start to stop-1, incrementing by step\n",
    "\n",
    "Range objects are memory-efficient because they don't store all numbers at once - they generate them as needed."
   ]
  },
  {
   "cell_type": "code",
   "execution_count": null,
   "metadata": {},
   "outputs": [],
   "source": [
    "# Execute this cell to see range objects in action\n",
    "\n",
    "# Basic range - from 0 to 4\n",
    "print(\"range(5):\", list(range(5)))\n",
    "\n",
    "# Range with start and stop\n",
    "print(\"range(2, 8):\", list(range(2, 8)))\n",
    "\n",
    "# Range with step\n",
    "print(\"range(0, 10, 2):\", list(range(0, 10, 2)))\n",
    "\n",
    "# Negative step (counting backwards)\n",
    "print(\"range(10, 0, -2):\", list(range(10, 0, -2)))\n",
    "\n",
    "# You can get the length of a range\n",
    "print(\"Length of range(5):\", len(range(5)))\n",
    "\n",
    "# Check if a number is in a range\n",
    "print(\"Is 3 in range(5)?\", 3 in range(5))\n",
    "print(\"Is 5 in range(5)?\", 5 in range(5))"
   ]
  },
  {
   "cell_type": "markdown",
   "metadata": {},
   "source": [
    "### Enumerating lists\n",
    "\n",
    "**Enumeration** means going through each item in a collection one by one. Python provides several ways to enumerate (iterate through) lists using **for loops**:\n",
    "\n",
    "* `for item in list:` - iterates through each item directly\n",
    "* `for i in range(len(list)):` - iterates through indices, then access `list[i]`\n",
    "* `for i, item in enumerate(list):` - gets both index and item at the same time\n",
    "\n",
    "The `enumerate()` function is particularly useful when you need both the position and the value of each item."
   ]
  },
  {
   "cell_type": "code",
   "execution_count": null,
   "metadata": {},
   "outputs": [],
   "source": [
    "# Execute this cell to see list enumeration in action\n",
    "\n",
    "fruits = [\"apple\", \"banana\", \"cherry\", \"date\"]\n",
    "\n",
    "print(\"Method 1: Direct iteration through items\")\n",
    "for fruit in fruits:\n",
    "    print(f\"Fruit: {fruit}\")\n",
    "\n",
    "print(\"\\nMethod 2: Using range and indices\")\n",
    "for i in range(len(fruits)):\n",
    "    print(f\"Index {i}: {fruits[i]}\")\n",
    "\n",
    "print(\"\\nMethod 3: Using enumerate (gets both index and item)\")\n",
    "for i, fruit in enumerate(fruits):\n",
    "    print(f\"Index {i}: {fruit}\")\n",
    "\n",
    "print(\"\\nMethod 4: Using enumerate with a start value\")\n",
    "for i, fruit in enumerate(fruits, start=1):\n",
    "    print(f\"Position {i}: {fruit}\")\n",
    "\n",
    "# Practical example: finding items that meet a condition\n",
    "print(\"\\nFinding fruits that start with 'a':\")\n",
    "for i, fruit in enumerate(fruits):\n",
    "    if fruit.startswith('a'):\n",
    "        print(f\"Found '{fruit}' at index {i}\")"
   ]
  },
  {
   "cell_type": "markdown",
   "metadata": {},
   "source": [
    "### Enumerating dictionaries\n",
    "\n",
    "Dictionaries can be enumerated in several ways using for loops:\n",
    "\n",
    "* `for key in dict:` - iterates through keys only\n",
    "* `for key in dict.keys():` - explicitly iterates through keys  \n",
    "* `for value in dict.values():` - iterates through values only\n",
    "* `for key, value in dict.items():` - iterates through key-value pairs\n",
    "\n",
    "The `.items()` method is most commonly used because it gives you access to both keys and values at the same time."
   ]
  },
  {
   "cell_type": "code",
   "execution_count": null,
   "metadata": {},
   "outputs": [],
   "source": [
    "# Execute this cell to see dictionary enumeration in action\n",
    "\n",
    "student_grades = {\"Alice\": 85, \"Bob\": 92, \"Charlie\": 78, \"Diana\": 96}\n",
    "\n",
    "print(\"Method 1: Iterating through keys\")\n",
    "for name in student_grades:\n",
    "    print(f\"Student: {name}\")\n",
    "\n",
    "print(\"\\nMethod 2: Explicitly iterating through keys\")\n",
    "for name in student_grades.keys():\n",
    "    print(f\"Student: {name}, Grade: {student_grades[name]}\")\n",
    "\n",
    "print(\"\\nMethod 3: Iterating through values only\")\n",
    "for grade in student_grades.values():\n",
    "    print(f\"Grade: {grade}\")\n",
    "\n",
    "print(\"\\nMethod 4: Iterating through key-value pairs (most common)\")\n",
    "for name, grade in student_grades.items():\n",
    "    print(f\"{name} scored {grade}\")\n",
    "\n",
    "# Practical examples\n",
    "print(\"\\nStudents with grades above 90:\")\n",
    "for name, grade in student_grades.items():\n",
    "    if grade > 90:\n",
    "        print(f\"{name}: {grade}\")\n",
    "\n",
    "print(\"\\nCalculating average grade:\")\n",
    "total = sum(student_grades.values())\n",
    "count = len(student_grades)\n",
    "average = total / count\n",
    "print(f\"Average grade: {average:.1f}\")"
   ]
  },
  {
   "cell_type": "code",
   "execution_count": null,
   "metadata": {},
   "outputs": [],
   "source": [
    "# Create a range that generates numbers from 1 to 10 (inclusive) and convert it to a list.\n",
    "# Assign the result to the variable one_to_ten.\n",
    "\n",
    "one_to_ten = list(range(1, 11))\n",
    "\n",
    "assert one_to_ten == [1, 2, 3, 4, 5, 6, 7, 8, 9, 10], \"The result should be a list from 1 to 10\"\n",
    "print(\"Correct! You created a range from 1 to 10.\")"
   ]
  },
  {
   "cell_type": "code",
   "execution_count": null,
   "metadata": {},
   "outputs": [],
   "source": [
    "# Create a range that generates even numbers from 0 to 20 (inclusive) and convert it to a list.\n",
    "# Assign the result to the variable even_numbers.\n",
    "\n",
    "even_numbers = list(range(0, 21, 2))\n",
    "\n",
    "assert even_numbers == [0, 2, 4, 6, 8, 10, 12, 14, 16, 18, 20], \"The result should be even numbers from 0 to 20\"\n",
    "print(\"Correct! You created a range of even numbers.\")"
   ]
  },
  {
   "cell_type": "code",
   "execution_count": null,
   "metadata": {},
   "outputs": [],
   "source": [
    "# Use a for loop with range to create a list of squares of numbers from 0 to 4.\n",
    "# Assign the result to the variable squares.\n",
    "\n",
    "squares = []\n",
    "\n",
    "assert squares == [0, 1, 4, 9, 16], \"The result should be [0, 1, 4, 9, 16] (squares of 0-4)\"\n",
    "print(\"Correct! You created a list of squares using a for loop with range.\")"
   ]
  },
  {
   "cell_type": "code",
   "execution_count": null,
   "metadata": {},
   "outputs": [],
   "source": [
    "# Use enumerate to find the index of \"banana\" in the list [\"apple\", \"banana\", \"cherry\"].\n",
    "# Assign the index to the variable banana_index.\n",
    "\n",
    "fruits = [\"apple\", \"banana\", \"cherry\"]\n",
    "banana_index = -1  # Initialize with -1 (indicating not found)\n",
    "\n",
    "assert banana_index == 1, \"The result should be 1 (index of 'banana')\"\n",
    "print(\"Correct! You found the index of 'banana' using enumerate.\")"
   ]
  },
  {
   "cell_type": "code",
   "execution_count": null,
   "metadata": {},
   "outputs": [],
   "source": [
    "# Use a for loop to count how many numbers in [5, 12, 8, 15, 3, 20] are greater than 10.\n",
    "# Assign the count to the variable count_greater_than_10.\n",
    "\n",
    "numbers = [5, 12, 8, 15, 3, 20]\n",
    "count_greater_than_10 = 0\n",
    "\n",
    "assert count_greater_than_10 == 3, \"The result should be 3 (numbers 12, 15, and 20 are greater than 10)\"\n",
    "print(\"Correct! You counted numbers greater than 10 using a for loop.\")"
   ]
  },
  {
   "cell_type": "code",
   "execution_count": null,
   "metadata": {},
   "outputs": [],
   "source": [
    "# Use a for loop to create a list of all keys from the dictionary {\"a\": 1, \"b\": 2, \"c\": 3}.\n",
    "# Assign the result to the variable dict_keys.\n",
    "\n",
    "sample_dict = {\"a\": 1, \"b\": 2, \"c\": 3}\n",
    "dict_keys = []\n",
    "\n",
    "assert set(dict_keys) == {\"a\", \"b\", \"c\"}, \"The result should contain all keys from the dictionary\"\n",
    "print(\"Correct! You extracted all keys using a for loop.\")"
   ]
  },
  {
   "cell_type": "code",
   "execution_count": null,
   "metadata": {},
   "outputs": [],
   "source": [
    "# Use a for loop with .items() to calculate the sum of all values in {\"x\": 10, \"y\": 20, \"z\": 30}.\n",
    "# Assign the result to the variable total_sum.\n",
    "\n",
    "data = {\"x\": 10, \"y\": 20, \"z\": 30}\n",
    "total_sum = 0\n",
    "\n",
    "assert total_sum == 60, \"The result should be 60 (10 + 20 + 30)\"\n",
    "print(\"Correct! You calculated the sum of all values using a for loop with .items().\")"
   ]
  },
  {
   "cell_type": "code",
   "execution_count": null,
   "metadata": {},
   "outputs": [],
   "source": [
    "# Use a for loop to find all keys with values greater than 50 in {\"math\": 85, \"english\": 45, \"science\": 70, \"history\": 30}.\n",
    "# Store the keys in a list and assign it to the variable high_score_subjects.\n",
    "\n",
    "grades = {\"math\": 85, \"english\": 45, \"science\": 70, \"history\": 30}\n",
    "high_score_subjects = []\n",
    "\n",
    "assert set(high_score_subjects) == {\"math\", \"science\"}, \"The result should contain subjects with scores > 50\"\n",
    "print(\"Correct! You found subjects with scores greater than 50.\")"
   ]
  }
 ],
 "metadata": {
  "kernelspec": {
   "display_name": "venv",
   "language": "python",
   "name": "python3"
  },
  "language_info": {
   "codemirror_mode": {
    "name": "ipython",
    "version": 3
   },
   "file_extension": ".py",
   "mimetype": "text/x-python",
   "name": "python",
   "nbconvert_exporter": "python",
   "pygments_lexer": "ipython3",
   "version": "3.12.3"
  }
 },
 "nbformat": 4,
 "nbformat_minor": 4
}
