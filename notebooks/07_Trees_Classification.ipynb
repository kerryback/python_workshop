{
 "cells": [
  {
   "cell_type": "markdown",
   "metadata": {
    "slideshow": {
     "slide_type": "slide"
    }
   },
   "source": [
    "# Day 7\n",
    "\n",
    "### BUSI 520: Python for Business Research\n",
    "### Kerry Back, JGSB, Rice University"
   ]
  },
  {
   "cell_type": "markdown",
   "metadata": {
    "slideshow": {
     "slide_type": "slide"
    }
   },
   "source": [
    "### Outline \n",
    "\n",
    "- Some overview of ML\n",
    "- Decision trees\n",
    "- Random forests and gradient boosting \n",
    "- Classifiers \n",
    "- Start with toy data and then some sklearn datasets"
   ]
  },
  {
   "cell_type": "markdown",
   "metadata": {
    "slideshow": {
     "slide_type": "slide"
    }
   },
   "source": [
    "### Some ML Models\n",
    "\n",
    "- Linear (OLS, lasso, ridge, elastic net) -- Monday \n",
    "- Trees (decision trees, random forests, gradient boosting) -- Today\n",
    "- Neural networks -- in two weeks\n",
    "- Support vector machines, k-nearest neighbors, etc."
   ]
  },
  {
   "cell_type": "markdown",
   "metadata": {
    "slideshow": {
     "slide_type": "slide"
    }
   },
   "source": [
    "### Which model is best?\n",
    "\n",
    "- Linear models are best if you know the data are linear.\n",
    "- In general, imposing parametric assumptions is useful when you don't have much data.\n",
    "- Trees are more flexible.\n",
    "- Neural networks can approximate any functional relationship."
   ]
  },
  {
   "cell_type": "markdown",
   "metadata": {
    "slideshow": {
     "slide_type": "slide"
    }
   },
   "source": [
    "### Some terminology\n",
    "\n",
    "- Bagging = bootstrap aggregation\n",
    "  - bootstrap means to sample from the data with replacement to create random samples \n",
    "  - aggregation means to average the predictions of many models\n",
    "  - Random forests are an example of bagging\n",
    "- Boosting = train a sequence of models where each model tries to correct the errors of the previous model\n",
    "  - Gradient boosting is an example\n",
    "- Goal of bagging and boosting is to combine many weak learners to create a strong learner\n",
    "- Regression in ML = prediction of a continuous variable\n",
    "- Classification in ML = prediction of a categorical variable"
   ]
  },
  {
   "cell_type": "markdown",
   "metadata": {
    "slideshow": {
     "slide_type": "slide"
    }
   },
   "source": [
    "### Decision trees\n",
    "\n",
    "- Random forests and gradient boosting are based on decision trees\n",
    "- A decision tree starts with a yes or no question.  \n",
    "  - Depending on the answer, there is another yes or no question.\n",
    "  - Each question is of the form: Is variable $x_i$ greater than threshold $t_i$?\n",
    "  - The tree ends in a leaf node that gives the prediction.\n",
    "- In regression, the tree is grown by choosing the variable and threshold that minimizes the MSE at the next step."
   ]
  },
  {
   "cell_type": "markdown",
   "metadata": {
    "slideshow": {
     "slide_type": "slide"
    }
   },
   "source": [
    "### Example \n",
    "\n",
    "![](images/Trees_Transparent.png)"
   ]
  },
  {
   "cell_type": "markdown",
   "metadata": {
    "slideshow": {
     "slide_type": "slide"
    }
   },
   "source": [
    "### Random data\n",
    "\n",
    "- 10 features\n",
    "- target is product of first two plus noise\n",
    "- 1,500 observations (1,000 training, 200 validation, 300 test)"
   ]
  },
  {
   "cell_type": "code",
   "execution_count": 75,
   "metadata": {
    "slideshow": {
     "slide_type": "slide"
    }
   },
   "outputs": [],
   "source": [
    "import numpy as np \n",
    "\n",
    "np.random.seed(0)  # just so we all get the same results\n",
    "\n",
    "# full hypothetical sample \n",
    "X = np.random.normal(size=(1500, 10))\n",
    "y = X[:, 0] * X[:, 1] + np.random.normal(size=1500)\n",
    "\n",
    "# randomly split into training and test samples\n",
    "from sklearn.model_selection import train_test_split\n",
    "X_train, X_test, y_train, y_test = train_test_split(\n",
    "    X, y, test_size=300\n",
    ")\n",
    "X_train0, X_val, y_train0, y_val = train_test_split(\n",
    "    X_train, y_train, test_size=200\n",
    ")"
   ]
  },
  {
   "cell_type": "markdown",
   "metadata": {
    "slideshow": {
     "slide_type": "slide"
    }
   },
   "source": [
    "### Train a decision tree\n",
    "\n",
    "- We will use a max depth of 3 for illustration.\n",
    "- We will train on (X_train0, y_train0)."
   ]
  },
  {
   "cell_type": "code",
   "execution_count": 76,
   "metadata": {
    "slideshow": {
     "slide_type": "slide"
    }
   },
   "outputs": [
    {
     "data": {
      "text/html": [
       "<style>#sk-container-id-5 {\n",
       "  /* Definition of color scheme common for light and dark mode */\n",
       "  --sklearn-color-text: black;\n",
       "  --sklearn-color-line: gray;\n",
       "  /* Definition of color scheme for unfitted estimators */\n",
       "  --sklearn-color-unfitted-level-0: #fff5e6;\n",
       "  --sklearn-color-unfitted-level-1: #f6e4d2;\n",
       "  --sklearn-color-unfitted-level-2: #ffe0b3;\n",
       "  --sklearn-color-unfitted-level-3: chocolate;\n",
       "  /* Definition of color scheme for fitted estimators */\n",
       "  --sklearn-color-fitted-level-0: #f0f8ff;\n",
       "  --sklearn-color-fitted-level-1: #d4ebff;\n",
       "  --sklearn-color-fitted-level-2: #b3dbfd;\n",
       "  --sklearn-color-fitted-level-3: cornflowerblue;\n",
       "\n",
       "  /* Specific color for light theme */\n",
       "  --sklearn-color-text-on-default-background: var(--sg-text-color, var(--theme-code-foreground, var(--jp-content-font-color1, black)));\n",
       "  --sklearn-color-background: var(--sg-background-color, var(--theme-background, var(--jp-layout-color0, white)));\n",
       "  --sklearn-color-border-box: var(--sg-text-color, var(--theme-code-foreground, var(--jp-content-font-color1, black)));\n",
       "  --sklearn-color-icon: #696969;\n",
       "\n",
       "  @media (prefers-color-scheme: dark) {\n",
       "    /* Redefinition of color scheme for dark theme */\n",
       "    --sklearn-color-text-on-default-background: var(--sg-text-color, var(--theme-code-foreground, var(--jp-content-font-color1, white)));\n",
       "    --sklearn-color-background: var(--sg-background-color, var(--theme-background, var(--jp-layout-color0, #111)));\n",
       "    --sklearn-color-border-box: var(--sg-text-color, var(--theme-code-foreground, var(--jp-content-font-color1, white)));\n",
       "    --sklearn-color-icon: #878787;\n",
       "  }\n",
       "}\n",
       "\n",
       "#sk-container-id-5 {\n",
       "  color: var(--sklearn-color-text);\n",
       "}\n",
       "\n",
       "#sk-container-id-5 pre {\n",
       "  padding: 0;\n",
       "}\n",
       "\n",
       "#sk-container-id-5 input.sk-hidden--visually {\n",
       "  border: 0;\n",
       "  clip: rect(1px 1px 1px 1px);\n",
       "  clip: rect(1px, 1px, 1px, 1px);\n",
       "  height: 1px;\n",
       "  margin: -1px;\n",
       "  overflow: hidden;\n",
       "  padding: 0;\n",
       "  position: absolute;\n",
       "  width: 1px;\n",
       "}\n",
       "\n",
       "#sk-container-id-5 div.sk-dashed-wrapped {\n",
       "  border: 1px dashed var(--sklearn-color-line);\n",
       "  margin: 0 0.4em 0.5em 0.4em;\n",
       "  box-sizing: border-box;\n",
       "  padding-bottom: 0.4em;\n",
       "  background-color: var(--sklearn-color-background);\n",
       "}\n",
       "\n",
       "#sk-container-id-5 div.sk-container {\n",
       "  /* jupyter's `normalize.less` sets `[hidden] { display: none; }`\n",
       "     but bootstrap.min.css set `[hidden] { display: none !important; }`\n",
       "     so we also need the `!important` here to be able to override the\n",
       "     default hidden behavior on the sphinx rendered scikit-learn.org.\n",
       "     See: https://github.com/scikit-learn/scikit-learn/issues/21755 */\n",
       "  display: inline-block !important;\n",
       "  position: relative;\n",
       "}\n",
       "\n",
       "#sk-container-id-5 div.sk-text-repr-fallback {\n",
       "  display: none;\n",
       "}\n",
       "\n",
       "div.sk-parallel-item,\n",
       "div.sk-serial,\n",
       "div.sk-item {\n",
       "  /* draw centered vertical line to link estimators */\n",
       "  background-image: linear-gradient(var(--sklearn-color-text-on-default-background), var(--sklearn-color-text-on-default-background));\n",
       "  background-size: 2px 100%;\n",
       "  background-repeat: no-repeat;\n",
       "  background-position: center center;\n",
       "}\n",
       "\n",
       "/* Parallel-specific style estimator block */\n",
       "\n",
       "#sk-container-id-5 div.sk-parallel-item::after {\n",
       "  content: \"\";\n",
       "  width: 100%;\n",
       "  border-bottom: 2px solid var(--sklearn-color-text-on-default-background);\n",
       "  flex-grow: 1;\n",
       "}\n",
       "\n",
       "#sk-container-id-5 div.sk-parallel {\n",
       "  display: flex;\n",
       "  align-items: stretch;\n",
       "  justify-content: center;\n",
       "  background-color: var(--sklearn-color-background);\n",
       "  position: relative;\n",
       "}\n",
       "\n",
       "#sk-container-id-5 div.sk-parallel-item {\n",
       "  display: flex;\n",
       "  flex-direction: column;\n",
       "}\n",
       "\n",
       "#sk-container-id-5 div.sk-parallel-item:first-child::after {\n",
       "  align-self: flex-end;\n",
       "  width: 50%;\n",
       "}\n",
       "\n",
       "#sk-container-id-5 div.sk-parallel-item:last-child::after {\n",
       "  align-self: flex-start;\n",
       "  width: 50%;\n",
       "}\n",
       "\n",
       "#sk-container-id-5 div.sk-parallel-item:only-child::after {\n",
       "  width: 0;\n",
       "}\n",
       "\n",
       "/* Serial-specific style estimator block */\n",
       "\n",
       "#sk-container-id-5 div.sk-serial {\n",
       "  display: flex;\n",
       "  flex-direction: column;\n",
       "  align-items: center;\n",
       "  background-color: var(--sklearn-color-background);\n",
       "  padding-right: 1em;\n",
       "  padding-left: 1em;\n",
       "}\n",
       "\n",
       "\n",
       "/* Toggleable style: style used for estimator/Pipeline/ColumnTransformer box that is\n",
       "clickable and can be expanded/collapsed.\n",
       "- Pipeline and ColumnTransformer use this feature and define the default style\n",
       "- Estimators will overwrite some part of the style using the `sk-estimator` class\n",
       "*/\n",
       "\n",
       "/* Pipeline and ColumnTransformer style (default) */\n",
       "\n",
       "#sk-container-id-5 div.sk-toggleable {\n",
       "  /* Default theme specific background. It is overwritten whether we have a\n",
       "  specific estimator or a Pipeline/ColumnTransformer */\n",
       "  background-color: var(--sklearn-color-background);\n",
       "}\n",
       "\n",
       "/* Toggleable label */\n",
       "#sk-container-id-5 label.sk-toggleable__label {\n",
       "  cursor: pointer;\n",
       "  display: block;\n",
       "  width: 100%;\n",
       "  margin-bottom: 0;\n",
       "  padding: 0.5em;\n",
       "  box-sizing: border-box;\n",
       "  text-align: center;\n",
       "}\n",
       "\n",
       "#sk-container-id-5 label.sk-toggleable__label-arrow:before {\n",
       "  /* Arrow on the left of the label */\n",
       "  content: \"▸\";\n",
       "  float: left;\n",
       "  margin-right: 0.25em;\n",
       "  color: var(--sklearn-color-icon);\n",
       "}\n",
       "\n",
       "#sk-container-id-5 label.sk-toggleable__label-arrow:hover:before {\n",
       "  color: var(--sklearn-color-text);\n",
       "}\n",
       "\n",
       "/* Toggleable content - dropdown */\n",
       "\n",
       "#sk-container-id-5 div.sk-toggleable__content {\n",
       "  max-height: 0;\n",
       "  max-width: 0;\n",
       "  overflow: hidden;\n",
       "  text-align: left;\n",
       "  /* unfitted */\n",
       "  background-color: var(--sklearn-color-unfitted-level-0);\n",
       "}\n",
       "\n",
       "#sk-container-id-5 div.sk-toggleable__content.fitted {\n",
       "  /* fitted */\n",
       "  background-color: var(--sklearn-color-fitted-level-0);\n",
       "}\n",
       "\n",
       "#sk-container-id-5 div.sk-toggleable__content pre {\n",
       "  margin: 0.2em;\n",
       "  border-radius: 0.25em;\n",
       "  color: var(--sklearn-color-text);\n",
       "  /* unfitted */\n",
       "  background-color: var(--sklearn-color-unfitted-level-0);\n",
       "}\n",
       "\n",
       "#sk-container-id-5 div.sk-toggleable__content.fitted pre {\n",
       "  /* unfitted */\n",
       "  background-color: var(--sklearn-color-fitted-level-0);\n",
       "}\n",
       "\n",
       "#sk-container-id-5 input.sk-toggleable__control:checked~div.sk-toggleable__content {\n",
       "  /* Expand drop-down */\n",
       "  max-height: 200px;\n",
       "  max-width: 100%;\n",
       "  overflow: auto;\n",
       "}\n",
       "\n",
       "#sk-container-id-5 input.sk-toggleable__control:checked~label.sk-toggleable__label-arrow:before {\n",
       "  content: \"▾\";\n",
       "}\n",
       "\n",
       "/* Pipeline/ColumnTransformer-specific style */\n",
       "\n",
       "#sk-container-id-5 div.sk-label input.sk-toggleable__control:checked~label.sk-toggleable__label {\n",
       "  color: var(--sklearn-color-text);\n",
       "  background-color: var(--sklearn-color-unfitted-level-2);\n",
       "}\n",
       "\n",
       "#sk-container-id-5 div.sk-label.fitted input.sk-toggleable__control:checked~label.sk-toggleable__label {\n",
       "  background-color: var(--sklearn-color-fitted-level-2);\n",
       "}\n",
       "\n",
       "/* Estimator-specific style */\n",
       "\n",
       "/* Colorize estimator box */\n",
       "#sk-container-id-5 div.sk-estimator input.sk-toggleable__control:checked~label.sk-toggleable__label {\n",
       "  /* unfitted */\n",
       "  background-color: var(--sklearn-color-unfitted-level-2);\n",
       "}\n",
       "\n",
       "#sk-container-id-5 div.sk-estimator.fitted input.sk-toggleable__control:checked~label.sk-toggleable__label {\n",
       "  /* fitted */\n",
       "  background-color: var(--sklearn-color-fitted-level-2);\n",
       "}\n",
       "\n",
       "#sk-container-id-5 div.sk-label label.sk-toggleable__label,\n",
       "#sk-container-id-5 div.sk-label label {\n",
       "  /* The background is the default theme color */\n",
       "  color: var(--sklearn-color-text-on-default-background);\n",
       "}\n",
       "\n",
       "/* On hover, darken the color of the background */\n",
       "#sk-container-id-5 div.sk-label:hover label.sk-toggleable__label {\n",
       "  color: var(--sklearn-color-text);\n",
       "  background-color: var(--sklearn-color-unfitted-level-2);\n",
       "}\n",
       "\n",
       "/* Label box, darken color on hover, fitted */\n",
       "#sk-container-id-5 div.sk-label.fitted:hover label.sk-toggleable__label.fitted {\n",
       "  color: var(--sklearn-color-text);\n",
       "  background-color: var(--sklearn-color-fitted-level-2);\n",
       "}\n",
       "\n",
       "/* Estimator label */\n",
       "\n",
       "#sk-container-id-5 div.sk-label label {\n",
       "  font-family: monospace;\n",
       "  font-weight: bold;\n",
       "  display: inline-block;\n",
       "  line-height: 1.2em;\n",
       "}\n",
       "\n",
       "#sk-container-id-5 div.sk-label-container {\n",
       "  text-align: center;\n",
       "}\n",
       "\n",
       "/* Estimator-specific */\n",
       "#sk-container-id-5 div.sk-estimator {\n",
       "  font-family: monospace;\n",
       "  border: 1px dotted var(--sklearn-color-border-box);\n",
       "  border-radius: 0.25em;\n",
       "  box-sizing: border-box;\n",
       "  margin-bottom: 0.5em;\n",
       "  /* unfitted */\n",
       "  background-color: var(--sklearn-color-unfitted-level-0);\n",
       "}\n",
       "\n",
       "#sk-container-id-5 div.sk-estimator.fitted {\n",
       "  /* fitted */\n",
       "  background-color: var(--sklearn-color-fitted-level-0);\n",
       "}\n",
       "\n",
       "/* on hover */\n",
       "#sk-container-id-5 div.sk-estimator:hover {\n",
       "  /* unfitted */\n",
       "  background-color: var(--sklearn-color-unfitted-level-2);\n",
       "}\n",
       "\n",
       "#sk-container-id-5 div.sk-estimator.fitted:hover {\n",
       "  /* fitted */\n",
       "  background-color: var(--sklearn-color-fitted-level-2);\n",
       "}\n",
       "\n",
       "/* Specification for estimator info (e.g. \"i\" and \"?\") */\n",
       "\n",
       "/* Common style for \"i\" and \"?\" */\n",
       "\n",
       ".sk-estimator-doc-link,\n",
       "a:link.sk-estimator-doc-link,\n",
       "a:visited.sk-estimator-doc-link {\n",
       "  float: right;\n",
       "  font-size: smaller;\n",
       "  line-height: 1em;\n",
       "  font-family: monospace;\n",
       "  background-color: var(--sklearn-color-background);\n",
       "  border-radius: 1em;\n",
       "  height: 1em;\n",
       "  width: 1em;\n",
       "  text-decoration: none !important;\n",
       "  margin-left: 1ex;\n",
       "  /* unfitted */\n",
       "  border: var(--sklearn-color-unfitted-level-1) 1pt solid;\n",
       "  color: var(--sklearn-color-unfitted-level-1);\n",
       "}\n",
       "\n",
       ".sk-estimator-doc-link.fitted,\n",
       "a:link.sk-estimator-doc-link.fitted,\n",
       "a:visited.sk-estimator-doc-link.fitted {\n",
       "  /* fitted */\n",
       "  border: var(--sklearn-color-fitted-level-1) 1pt solid;\n",
       "  color: var(--sklearn-color-fitted-level-1);\n",
       "}\n",
       "\n",
       "/* On hover */\n",
       "div.sk-estimator:hover .sk-estimator-doc-link:hover,\n",
       ".sk-estimator-doc-link:hover,\n",
       "div.sk-label-container:hover .sk-estimator-doc-link:hover,\n",
       ".sk-estimator-doc-link:hover {\n",
       "  /* unfitted */\n",
       "  background-color: var(--sklearn-color-unfitted-level-3);\n",
       "  color: var(--sklearn-color-background);\n",
       "  text-decoration: none;\n",
       "}\n",
       "\n",
       "div.sk-estimator.fitted:hover .sk-estimator-doc-link.fitted:hover,\n",
       ".sk-estimator-doc-link.fitted:hover,\n",
       "div.sk-label-container:hover .sk-estimator-doc-link.fitted:hover,\n",
       ".sk-estimator-doc-link.fitted:hover {\n",
       "  /* fitted */\n",
       "  background-color: var(--sklearn-color-fitted-level-3);\n",
       "  color: var(--sklearn-color-background);\n",
       "  text-decoration: none;\n",
       "}\n",
       "\n",
       "/* Span, style for the box shown on hovering the info icon */\n",
       ".sk-estimator-doc-link span {\n",
       "  display: none;\n",
       "  z-index: 9999;\n",
       "  position: relative;\n",
       "  font-weight: normal;\n",
       "  right: .2ex;\n",
       "  padding: .5ex;\n",
       "  margin: .5ex;\n",
       "  width: min-content;\n",
       "  min-width: 20ex;\n",
       "  max-width: 50ex;\n",
       "  color: var(--sklearn-color-text);\n",
       "  box-shadow: 2pt 2pt 4pt #999;\n",
       "  /* unfitted */\n",
       "  background: var(--sklearn-color-unfitted-level-0);\n",
       "  border: .5pt solid var(--sklearn-color-unfitted-level-3);\n",
       "}\n",
       "\n",
       ".sk-estimator-doc-link.fitted span {\n",
       "  /* fitted */\n",
       "  background: var(--sklearn-color-fitted-level-0);\n",
       "  border: var(--sklearn-color-fitted-level-3);\n",
       "}\n",
       "\n",
       ".sk-estimator-doc-link:hover span {\n",
       "  display: block;\n",
       "}\n",
       "\n",
       "/* \"?\"-specific style due to the `<a>` HTML tag */\n",
       "\n",
       "#sk-container-id-5 a.estimator_doc_link {\n",
       "  float: right;\n",
       "  font-size: 1rem;\n",
       "  line-height: 1em;\n",
       "  font-family: monospace;\n",
       "  background-color: var(--sklearn-color-background);\n",
       "  border-radius: 1rem;\n",
       "  height: 1rem;\n",
       "  width: 1rem;\n",
       "  text-decoration: none;\n",
       "  /* unfitted */\n",
       "  color: var(--sklearn-color-unfitted-level-1);\n",
       "  border: var(--sklearn-color-unfitted-level-1) 1pt solid;\n",
       "}\n",
       "\n",
       "#sk-container-id-5 a.estimator_doc_link.fitted {\n",
       "  /* fitted */\n",
       "  border: var(--sklearn-color-fitted-level-1) 1pt solid;\n",
       "  color: var(--sklearn-color-fitted-level-1);\n",
       "}\n",
       "\n",
       "/* On hover */\n",
       "#sk-container-id-5 a.estimator_doc_link:hover {\n",
       "  /* unfitted */\n",
       "  background-color: var(--sklearn-color-unfitted-level-3);\n",
       "  color: var(--sklearn-color-background);\n",
       "  text-decoration: none;\n",
       "}\n",
       "\n",
       "#sk-container-id-5 a.estimator_doc_link.fitted:hover {\n",
       "  /* fitted */\n",
       "  background-color: var(--sklearn-color-fitted-level-3);\n",
       "}\n",
       "</style><div id=\"sk-container-id-5\" class=\"sk-top-container\"><div class=\"sk-text-repr-fallback\"><pre>DecisionTreeRegressor(max_depth=3)</pre><b>In a Jupyter environment, please rerun this cell to show the HTML representation or trust the notebook. <br />On GitHub, the HTML representation is unable to render, please try loading this page with nbviewer.org.</b></div><div class=\"sk-container\" hidden><div class=\"sk-item\"><div class=\"sk-estimator fitted sk-toggleable\"><input class=\"sk-toggleable__control sk-hidden--visually\" id=\"sk-estimator-id-5\" type=\"checkbox\" checked><label for=\"sk-estimator-id-5\" class=\"sk-toggleable__label fitted sk-toggleable__label-arrow fitted\">&nbsp;&nbsp;DecisionTreeRegressor<a class=\"sk-estimator-doc-link fitted\" rel=\"noreferrer\" target=\"_blank\" href=\"https://scikit-learn.org/1.5/modules/generated/sklearn.tree.DecisionTreeRegressor.html\">?<span>Documentation for DecisionTreeRegressor</span></a><span class=\"sk-estimator-doc-link fitted\">i<span>Fitted</span></span></label><div class=\"sk-toggleable__content fitted\"><pre>DecisionTreeRegressor(max_depth=3)</pre></div> </div></div></div></div>"
      ],
      "text/plain": [
       "DecisionTreeRegressor(max_depth=3)"
      ]
     },
     "execution_count": 76,
     "metadata": {
      "slideshow": {
       "slide_type": "slide"
      }
     },
     "output_type": "execute_result"
    }
   ],
   "source": [
    "from sklearn.tree import DecisionTreeRegressor\n",
    "\n",
    "model = DecisionTreeRegressor(max_depth=3)\n",
    "model.fit(X_train0, y_train0)"
   ]
  },
  {
   "cell_type": "markdown",
   "metadata": {
    "slideshow": {
     "slide_type": "slide"
    }
   },
   "source": [
    "### View the tree\n",
    "\n",
    "- We do this only for illustration."
   ]
  },
  {
   "cell_type": "code",
   "execution_count": 77,
   "metadata": {
    "slideshow": {
     "slide_type": "slide"
    }
   },
   "outputs": [],
   "source": [
    "from sklearn.tree import plot_tree\n",
    "import matplotlib.pyplot as plt"
   ]
  },
  {
   "cell_type": "code",
   "execution_count": 78,
   "metadata": {
    "slideshow": {
     "slide_type": "slide"
    }
   },
   "outputs": [
    {
     "data": {
      "image/png": "[encoded data removed]",
      "text/plain": [
       "<Figure size 640x480 with 1 Axes>"
      ]
     },
     "metadata": {
      "slideshow": {
       "slide_type": "slide"
      }
     },
     "output_type": "display_data"
    }
   ],
   "source": [
    "plot_tree(model, filled=True)\n",
    "plt.show()"
   ]
  },
  {
   "cell_type": "markdown",
   "metadata": {
    "slideshow": {
     "slide_type": "slide"
    }
   },
   "source": [
    "### Random forest \n",
    "\n",
    "- Bootstrap samples are used to create random datasets.\n",
    "- A tree is fit to each random dataset.\n",
    "- Average predictions of all trees to get the final prediction (for regression)\n",
    "  - Can choose a random subset of $n$ features at each split to select from. \n",
    "- Key hyperparameters are n_estimators, max_features, and max_depth."
   ]
  },
  {
   "cell_type": "markdown",
   "metadata": {
    "slideshow": {
     "slide_type": "slide"
    }
   },
   "source": [
    "### Gradient boosting\n",
    "\n",
    "- Fit a decision tree.\n",
    "- Look at its errors.  Fit a new decision tree to predict the errors.\n",
    "- Add a fraction (learning rate) of the error prediction to get a new prediction.\n",
    "- Continue ...\n",
    "- Key hyperparameters are n_estimators, learning_rate, and max_depth.\n",
    "- Probably want to use xgboost library (eXtreme Gradient Boosting)."
   ]
  },
  {
   "cell_type": "markdown",
   "metadata": {
    "slideshow": {
     "slide_type": "slide"
    }
   },
   "source": [
    "### Overfitting / underfitting \n",
    "\n",
    "- Decision trees can overfit if we allow them to grow too deep. \n",
    "- If they are too shallow, they will underfit.\n",
    "- In general,\n",
    "  - Model too complex or not sufficiently regularized (penalized) -> overfit \n",
    "  - Model too simple or too regularized -> underfit"
   ]
  },
  {
   "cell_type": "markdown",
   "metadata": {
    "slideshow": {
     "slide_type": "slide"
    }
   },
   "source": [
    "### Random forest example"
   ]
  },
  {
   "cell_type": "code",
   "execution_count": 79,
   "metadata": {
    "slideshow": {
     "slide_type": "slide"
    }
   },
   "outputs": [],
   "source": [
    "from sklearn.ensemble import RandomForestRegressor \n",
    "\n",
    "# train and validate\n",
    "depths = range(2, 22, 2)\n",
    "train_scores = []\n",
    "val_scores = []\n",
    "for depth in depths:\n",
    "    model = RandomForestRegressor(max_depth=depth)\n",
    "    model.fit(X_train0, y_train0)\n",
    "    train_scores.append(model.score(X_train0, y_train0))\n",
    "    val_scores.append(model.score(X_val, y_val))"
   ]
  },
  {
   "cell_type": "code",
   "execution_count": 80,
   "metadata": {
    "slideshow": {
     "slide_type": "slide"
    }
   },
   "outputs": [
    {
     "data": {
      "image/png": "[encoded data removed]",
      "text/plain": [
       "<Figure size 640x480 with 1 Axes>"
      ]
     },
     "metadata": {
      "slideshow": {
       "slide_type": "slide"
      }
     },
     "output_type": "display_data"
    }
   ],
   "source": [
    "# plot results\n",
    "\n",
    "import matplotlib.pyplot as plt\n",
    "plt.plot(depths, train_scores, label='train')\n",
    "plt.plot(depths, val_scores, label='validation')\n",
    "plt.xlabel('max_depth')\n",
    "plt.ylabel('R^2')\n",
    "plt.legend()\n",
    "plt.show()"
   ]
  },
  {
   "cell_type": "code",
   "execution_count": 81,
   "metadata": {
    "slideshow": {
     "slide_type": "slide"
    }
   },
   "outputs": [
    {
     "data": {
      "text/plain": [
       "(np.float64(-5.814890768275992), np.float64(7.784652577665882e-09))"
      ]
     },
     "execution_count": 81,
     "metadata": {
      "slideshow": {
       "slide_type": "slide"
      }
     },
     "output_type": "execute_result"
    }
   ],
   "source": [
    "# Diebold-Mariano test \n",
    "\n",
    "from dieboldmariano import dm_test\n",
    "\n",
    "benchmark_predict = np.repeat(y_test.mean(), len(y_test))\n",
    "best_depth = depths[np.argmax(val_scores)]\n",
    "model = RandomForestRegressor(max_depth=best_depth)\n",
    "model.fit(X_train, y_train)  # fit using all data other than test data\n",
    "model_predict = model.predict(X_test)\n",
    "dm_test(y_test, model_predict, benchmark_predict, one_sided=True)"
   ]
  },
  {
   "cell_type": "markdown",
   "metadata": {
    "slideshow": {
     "slide_type": "slide"
    }
   },
   "source": [
    "### Feature importances\n",
    "\n",
    "- In linear models with standardized right-hand side variables, the coefficients give the importance of each variable.\n",
    "- In decision trees, we can look at the feature importances, which tell us which features are used the most for splitting."
   ]
  },
  {
   "cell_type": "code",
   "execution_count": 82,
   "metadata": {
    "slideshow": {
     "slide_type": "slide"
    }
   },
   "outputs": [
    {
     "data": {
      "text/plain": [
       "array([0.27893596, 0.28527914, 0.0710107 , 0.05339588, 0.04650545,\n",
       "       0.05839854, 0.04809928, 0.05846844, 0.05056529, 0.04934132])"
      ]
     },
     "execution_count": 82,
     "metadata": {
      "slideshow": {
       "slide_type": "slide"
      }
     },
     "output_type": "execute_result"
    }
   ],
   "source": [
    "model.feature_importances_"
   ]
  },
  {
   "cell_type": "markdown",
   "metadata": {
    "slideshow": {
     "slide_type": "slide"
    }
   },
   "source": [
    "### Gradient boosting example with cross validation"
   ]
  },
  {
   "cell_type": "code",
   "execution_count": 83,
   "metadata": {
    "slideshow": {
     "slide_type": "slide"
    }
   },
   "outputs": [
    {
     "name": "stdout",
     "output_type": "stream",
     "text": [
      "R2 on test data is 0.387006955062173\n",
      "\n",
      "best hyperparameters are {'learning_rate': 0.1, 'max_depth': 6}\n",
      "\n",
      "feature importances are [0.15721264 0.22603351 0.07810193 0.06738326 0.06656754 0.07817706\n",
      " 0.07429293 0.09016509 0.08388416 0.07818186]\n"
     ]
    }
   ],
   "source": [
    "from xgboost import XGBRegressor\n",
    "from sklearn.model_selection import GridSearchCV\n",
    "\n",
    "depths = range(2, 12, 2)\n",
    "learning_rates = [0.1, 0.01, 0.001]\n",
    "cv = GridSearchCV(\n",
    "    XGBRegressor(), \n",
    "    {'max_depth': depths, 'learning_rate': learning_rates}\n",
    ")\n",
    "\n",
    "# use all of our training data for cross-validation\n",
    "cv.fit(X_train, y_train)\n",
    "\n",
    "# test on test data \n",
    "print(f\"R2 on test data is {cv.score(X_test, y_test)}\")\n",
    "\n",
    "# see best hyperparameters\n",
    "print(f\"\\nbest hyperparameters are {cv.best_params_}\")\n",
    "\n",
    "# feature importances\n",
    "print(f\"\\nfeature importances are {cv.best_estimator_.feature_importances_}\")"
   ]
  },
  {
   "cell_type": "markdown",
   "metadata": {
    "slideshow": {
     "slide_type": "slide"
    }
   },
   "source": [
    "### Classification\n",
    "\n",
    "- Binary or multi-class\n",
    "- Can use lasso or ridge versions of logistic regression\n",
    "- Tree-based classifiers use same syntax as regressors.  Generally same hyperparameters.\n",
    "- Same issues with overfitting and underfitting.  Can use cross validation to choose hyperparameters as in the regression case.\n",
    "- One difference is goodness of fit measure.  \n",
    "  - Regression usually uses MSE (but can use MAE).  \n",
    "  - Classification uses accuracy, precision, recall, F1 score, etc."
   ]
  },
  {
   "cell_type": "markdown",
   "metadata": {
    "slideshow": {
     "slide_type": "slide"
    }
   },
   "source": [
    "### Goodness of fit in binary classification \n",
    "\n",
    "- Accuracy = % correct \n",
    "- Precision = % of positive predictions that are correct\n",
    "- Recall = % of actual positives that are predicted correctly\n",
    "- F1 score = harmonic mean of precision and recall (harmonic mean = reciprocal of average reciprocal).\n",
    "- Example: cancer screening\n",
    "  - Precision = % of people who test positive who actually have cancer\n",
    "  - Recall = % of people who have cancer who test positive\n",
    "  - F1 score = balance between the two"
   ]
  },
  {
   "cell_type": "markdown",
   "metadata": {
    "slideshow": {
     "slide_type": "slide"
    }
   },
   "source": [
    "### Predicting probabilities\n",
    "\n",
    "- Classifiers actually predict probabilities of being in each class.\n",
    "- Probabilities are by default converted to class predictions as: highest probability class is the prediction.\n",
    "- Can use other thresholds to convert probabilities to class predictions.\n",
    "- Example: cancer screening\n",
    "  - If we want to catch all cases of cancer, we might set a low threshold.\n",
    "  - If we want to be very sure that a positive test is correct, we might set a high threshold."
   ]
  },
  {
   "cell_type": "markdown",
   "metadata": {
    "slideshow": {
     "slide_type": "slide"
    }
   },
   "source": [
    "### Impurity\n",
    "\n",
    "- In tree models, prediction is most dominant class in each leaf node.\n",
    "  - Choose splits to minimize impurity (Gini or entropy) rather than MSE.\n",
    "  - Pure means all observations in a node are of the same class.\n",
    "- With $k$ classes, the Gini impurity of a group of observations is \n",
    "$$ 1 - \\sum_{i=1}^k p_i^2 $$\n",
    "  - $p_i$ is the fraction of the observations that are in class $i$.\n",
    "  - Perfect purity (all in 1 class) -> Gini impurity = 0\n",
    "  - Equal fraction in all classes -> Gini impurity = $1 - 1/k$"
   ]
  },
  {
   "cell_type": "code",
   "execution_count": 84,
   "metadata": {
    "slideshow": {
     "slide_type": "slide"
    }
   },
   "outputs": [],
   "source": [
    "### Revised random data \n",
    "\n",
    "import numpy as np \n",
    "\n",
    "np.random.seed(0)  # just so we all get the same results\n",
    "\n",
    "# full hypothetical sample \n",
    "X = np.random.normal(size=(1500, 10))\n",
    "y = X[:, 0] * X[:, 1] + np.random.normal(size=1500)\n",
    "\n",
    "# classify into three categories\n",
    "y = np.select([y < -1, np.abs(y) <= 1, y > 1], [0, 1, 2])\n",
    "\n",
    "# randomly split into training and test samples\n",
    "from sklearn.model_selection import train_test_split\n",
    "X_train, X_test, y_train, y_test = train_test_split(\n",
    "    X, y, test_size=300\n",
    ")\n",
    "X_train0, X_val, y_train0, y_val = train_test_split(\n",
    "    X_train, y_train, test_size=200\n",
    ")"
   ]
  },
  {
   "cell_type": "markdown",
   "metadata": {
    "slideshow": {
     "slide_type": "slide"
    }
   },
   "source": [
    "### Decision tree classifier"
   ]
  },
  {
   "cell_type": "code",
   "execution_count": 85,
   "metadata": {
    "slideshow": {
     "slide_type": "slide"
    }
   },
   "outputs": [
    {
     "data": {
      "text/html": [
       "<style>#sk-container-id-6 {\n",
       "  /* Definition of color scheme common for light and dark mode */\n",
       "  --sklearn-color-text: black;\n",
       "  --sklearn-color-line: gray;\n",
       "  /* Definition of color scheme for unfitted estimators */\n",
       "  --sklearn-color-unfitted-level-0: #fff5e6;\n",
       "  --sklearn-color-unfitted-level-1: #f6e4d2;\n",
       "  --sklearn-color-unfitted-level-2: #ffe0b3;\n",
       "  --sklearn-color-unfitted-level-3: chocolate;\n",
       "  /* Definition of color scheme for fitted estimators */\n",
       "  --sklearn-color-fitted-level-0: #f0f8ff;\n",
       "  --sklearn-color-fitted-level-1: #d4ebff;\n",
       "  --sklearn-color-fitted-level-2: #b3dbfd;\n",
       "  --sklearn-color-fitted-level-3: cornflowerblue;\n",
       "\n",
       "  /* Specific color for light theme */\n",
       "  --sklearn-color-text-on-default-background: var(--sg-text-color, var(--theme-code-foreground, var(--jp-content-font-color1, black)));\n",
       "  --sklearn-color-background: var(--sg-background-color, var(--theme-background, var(--jp-layout-color0, white)));\n",
       "  --sklearn-color-border-box: var(--sg-text-color, var(--theme-code-foreground, var(--jp-content-font-color1, black)));\n",
       "  --sklearn-color-icon: #696969;\n",
       "\n",
       "  @media (prefers-color-scheme: dark) {\n",
       "    /* Redefinition of color scheme for dark theme */\n",
       "    --sklearn-color-text-on-default-background: var(--sg-text-color, var(--theme-code-foreground, var(--jp-content-font-color1, white)));\n",
       "    --sklearn-color-background: var(--sg-background-color, var(--theme-background, var(--jp-layout-color0, #111)));\n",
       "    --sklearn-color-border-box: var(--sg-text-color, var(--theme-code-foreground, var(--jp-content-font-color1, white)));\n",
       "    --sklearn-color-icon: #878787;\n",
       "  }\n",
       "}\n",
       "\n",
       "#sk-container-id-6 {\n",
       "  color: var(--sklearn-color-text);\n",
       "}\n",
       "\n",
       "#sk-container-id-6 pre {\n",
       "  padding: 0;\n",
       "}\n",
       "\n",
       "#sk-container-id-6 input.sk-hidden--visually {\n",
       "  border: 0;\n",
       "  clip: rect(1px 1px 1px 1px);\n",
       "  clip: rect(1px, 1px, 1px, 1px);\n",
       "  height: 1px;\n",
       "  margin: -1px;\n",
       "  overflow: hidden;\n",
       "  padding: 0;\n",
       "  position: absolute;\n",
       "  width: 1px;\n",
       "}\n",
       "\n",
       "#sk-container-id-6 div.sk-dashed-wrapped {\n",
       "  border: 1px dashed var(--sklearn-color-line);\n",
       "  margin: 0 0.4em 0.5em 0.4em;\n",
       "  box-sizing: border-box;\n",
       "  padding-bottom: 0.4em;\n",
       "  background-color: var(--sklearn-color-background);\n",
       "}\n",
       "\n",
       "#sk-container-id-6 div.sk-container {\n",
       "  /* jupyter's `normalize.less` sets `[hidden] { display: none; }`\n",
       "     but bootstrap.min.css set `[hidden] { display: none !important; }`\n",
       "     so we also need the `!important` here to be able to override the\n",
       "     default hidden behavior on the sphinx rendered scikit-learn.org.\n",
       "     See: https://github.com/scikit-learn/scikit-learn/issues/21755 */\n",
       "  display: inline-block !important;\n",
       "  position: relative;\n",
       "}\n",
       "\n",
       "#sk-container-id-6 div.sk-text-repr-fallback {\n",
       "  display: none;\n",
       "}\n",
       "\n",
       "div.sk-parallel-item,\n",
       "div.sk-serial,\n",
       "div.sk-item {\n",
       "  /* draw centered vertical line to link estimators */\n",
       "  background-image: linear-gradient(var(--sklearn-color-text-on-default-background), var(--sklearn-color-text-on-default-background));\n",
       "  background-size: 2px 100%;\n",
       "  background-repeat: no-repeat;\n",
       "  background-position: center center;\n",
       "}\n",
       "\n",
       "/* Parallel-specific style estimator block */\n",
       "\n",
       "#sk-container-id-6 div.sk-parallel-item::after {\n",
       "  content: \"\";\n",
       "  width: 100%;\n",
       "  border-bottom: 2px solid var(--sklearn-color-text-on-default-background);\n",
       "  flex-grow: 1;\n",
       "}\n",
       "\n",
       "#sk-container-id-6 div.sk-parallel {\n",
       "  display: flex;\n",
       "  align-items: stretch;\n",
       "  justify-content: center;\n",
       "  background-color: var(--sklearn-color-background);\n",
       "  position: relative;\n",
       "}\n",
       "\n",
       "#sk-container-id-6 div.sk-parallel-item {\n",
       "  display: flex;\n",
       "  flex-direction: column;\n",
       "}\n",
       "\n",
       "#sk-container-id-6 div.sk-parallel-item:first-child::after {\n",
       "  align-self: flex-end;\n",
       "  width: 50%;\n",
       "}\n",
       "\n",
       "#sk-container-id-6 div.sk-parallel-item:last-child::after {\n",
       "  align-self: flex-start;\n",
       "  width: 50%;\n",
       "}\n",
       "\n",
       "#sk-container-id-6 div.sk-parallel-item:only-child::after {\n",
       "  width: 0;\n",
       "}\n",
       "\n",
       "/* Serial-specific style estimator block */\n",
       "\n",
       "#sk-container-id-6 div.sk-serial {\n",
       "  display: flex;\n",
       "  flex-direction: column;\n",
       "  align-items: center;\n",
       "  background-color: var(--sklearn-color-background);\n",
       "  padding-right: 1em;\n",
       "  padding-left: 1em;\n",
       "}\n",
       "\n",
       "\n",
       "/* Toggleable style: style used for estimator/Pipeline/ColumnTransformer box that is\n",
       "clickable and can be expanded/collapsed.\n",
       "- Pipeline and ColumnTransformer use this feature and define the default style\n",
       "- Estimators will overwrite some part of the style using the `sk-estimator` class\n",
       "*/\n",
       "\n",
       "/* Pipeline and ColumnTransformer style (default) */\n",
       "\n",
       "#sk-container-id-6 div.sk-toggleable {\n",
       "  /* Default theme specific background. It is overwritten whether we have a\n",
       "  specific estimator or a Pipeline/ColumnTransformer */\n",
       "  background-color: var(--sklearn-color-background);\n",
       "}\n",
       "\n",
       "/* Toggleable label */\n",
       "#sk-container-id-6 label.sk-toggleable__label {\n",
       "  cursor: pointer;\n",
       "  display: block;\n",
       "  width: 100%;\n",
       "  margin-bottom: 0;\n",
       "  padding: 0.5em;\n",
       "  box-sizing: border-box;\n",
       "  text-align: center;\n",
       "}\n",
       "\n",
       "#sk-container-id-6 label.sk-toggleable__label-arrow:before {\n",
       "  /* Arrow on the left of the label */\n",
       "  content: \"▸\";\n",
       "  float: left;\n",
       "  margin-right: 0.25em;\n",
       "  color: var(--sklearn-color-icon);\n",
       "}\n",
       "\n",
       "#sk-container-id-6 label.sk-toggleable__label-arrow:hover:before {\n",
       "  color: var(--sklearn-color-text);\n",
       "}\n",
       "\n",
       "/* Toggleable content - dropdown */\n",
       "\n",
       "#sk-container-id-6 div.sk-toggleable__content {\n",
       "  max-height: 0;\n",
       "  max-width: 0;\n",
       "  overflow: hidden;\n",
       "  text-align: left;\n",
       "  /* unfitted */\n",
       "  background-color: var(--sklearn-color-unfitted-level-0);\n",
       "}\n",
       "\n",
       "#sk-container-id-6 div.sk-toggleable__content.fitted {\n",
       "  /* fitted */\n",
       "  background-color: var(--sklearn-color-fitted-level-0);\n",
       "}\n",
       "\n",
       "#sk-container-id-6 div.sk-toggleable__content pre {\n",
       "  margin: 0.2em;\n",
       "  border-radius: 0.25em;\n",
       "  color: var(--sklearn-color-text);\n",
       "  /* unfitted */\n",
       "  background-color: var(--sklearn-color-unfitted-level-0);\n",
       "}\n",
       "\n",
       "#sk-container-id-6 div.sk-toggleable__content.fitted pre {\n",
       "  /* unfitted */\n",
       "  background-color: var(--sklearn-color-fitted-level-0);\n",
       "}\n",
       "\n",
       "#sk-container-id-6 input.sk-toggleable__control:checked~div.sk-toggleable__content {\n",
       "  /* Expand drop-down */\n",
       "  max-height: 200px;\n",
       "  max-width: 100%;\n",
       "  overflow: auto;\n",
       "}\n",
       "\n",
       "#sk-container-id-6 input.sk-toggleable__control:checked~label.sk-toggleable__label-arrow:before {\n",
       "  content: \"▾\";\n",
       "}\n",
       "\n",
       "/* Pipeline/ColumnTransformer-specific style */\n",
       "\n",
       "#sk-container-id-6 div.sk-label input.sk-toggleable__control:checked~label.sk-toggleable__label {\n",
       "  color: var(--sklearn-color-text);\n",
       "  background-color: var(--sklearn-color-unfitted-level-2);\n",
       "}\n",
       "\n",
       "#sk-container-id-6 div.sk-label.fitted input.sk-toggleable__control:checked~label.sk-toggleable__label {\n",
       "  background-color: var(--sklearn-color-fitted-level-2);\n",
       "}\n",
       "\n",
       "/* Estimator-specific style */\n",
       "\n",
       "/* Colorize estimator box */\n",
       "#sk-container-id-6 div.sk-estimator input.sk-toggleable__control:checked~label.sk-toggleable__label {\n",
       "  /* unfitted */\n",
       "  background-color: var(--sklearn-color-unfitted-level-2);\n",
       "}\n",
       "\n",
       "#sk-container-id-6 div.sk-estimator.fitted input.sk-toggleable__control:checked~label.sk-toggleable__label {\n",
       "  /* fitted */\n",
       "  background-color: var(--sklearn-color-fitted-level-2);\n",
       "}\n",
       "\n",
       "#sk-container-id-6 div.sk-label label.sk-toggleable__label,\n",
       "#sk-container-id-6 div.sk-label label {\n",
       "  /* The background is the default theme color */\n",
       "  color: var(--sklearn-color-text-on-default-background);\n",
       "}\n",
       "\n",
       "/* On hover, darken the color of the background */\n",
       "#sk-container-id-6 div.sk-label:hover label.sk-toggleable__label {\n",
       "  color: var(--sklearn-color-text);\n",
       "  background-color: var(--sklearn-color-unfitted-level-2);\n",
       "}\n",
       "\n",
       "/* Label box, darken color on hover, fitted */\n",
       "#sk-container-id-6 div.sk-label.fitted:hover label.sk-toggleable__label.fitted {\n",
       "  color: var(--sklearn-color-text);\n",
       "  background-color: var(--sklearn-color-fitted-level-2);\n",
       "}\n",
       "\n",
       "/* Estimator label */\n",
       "\n",
       "#sk-container-id-6 div.sk-label label {\n",
       "  font-family: monospace;\n",
       "  font-weight: bold;\n",
       "  display: inline-block;\n",
       "  line-height: 1.2em;\n",
       "}\n",
       "\n",
       "#sk-container-id-6 div.sk-label-container {\n",
       "  text-align: center;\n",
       "}\n",
       "\n",
       "/* Estimator-specific */\n",
       "#sk-container-id-6 div.sk-estimator {\n",
       "  font-family: monospace;\n",
       "  border: 1px dotted var(--sklearn-color-border-box);\n",
       "  border-radius: 0.25em;\n",
       "  box-sizing: border-box;\n",
       "  margin-bottom: 0.5em;\n",
       "  /* unfitted */\n",
       "  background-color: var(--sklearn-color-unfitted-level-0);\n",
       "}\n",
       "\n",
       "#sk-container-id-6 div.sk-estimator.fitted {\n",
       "  /* fitted */\n",
       "  background-color: var(--sklearn-color-fitted-level-0);\n",
       "}\n",
       "\n",
       "/* on hover */\n",
       "#sk-container-id-6 div.sk-estimator:hover {\n",
       "  /* unfitted */\n",
       "  background-color: var(--sklearn-color-unfitted-level-2);\n",
       "}\n",
       "\n",
       "#sk-container-id-6 div.sk-estimator.fitted:hover {\n",
       "  /* fitted */\n",
       "  background-color: var(--sklearn-color-fitted-level-2);\n",
       "}\n",
       "\n",
       "/* Specification for estimator info (e.g. \"i\" and \"?\") */\n",
       "\n",
       "/* Common style for \"i\" and \"?\" */\n",
       "\n",
       ".sk-estimator-doc-link,\n",
       "a:link.sk-estimator-doc-link,\n",
       "a:visited.sk-estimator-doc-link {\n",
       "  float: right;\n",
       "  font-size: smaller;\n",
       "  line-height: 1em;\n",
       "  font-family: monospace;\n",
       "  background-color: var(--sklearn-color-background);\n",
       "  border-radius: 1em;\n",
       "  height: 1em;\n",
       "  width: 1em;\n",
       "  text-decoration: none !important;\n",
       "  margin-left: 1ex;\n",
       "  /* unfitted */\n",
       "  border: var(--sklearn-color-unfitted-level-1) 1pt solid;\n",
       "  color: var(--sklearn-color-unfitted-level-1);\n",
       "}\n",
       "\n",
       ".sk-estimator-doc-link.fitted,\n",
       "a:link.sk-estimator-doc-link.fitted,\n",
       "a:visited.sk-estimator-doc-link.fitted {\n",
       "  /* fitted */\n",
       "  border: var(--sklearn-color-fitted-level-1) 1pt solid;\n",
       "  color: var(--sklearn-color-fitted-level-1);\n",
       "}\n",
       "\n",
       "/* On hover */\n",
       "div.sk-estimator:hover .sk-estimator-doc-link:hover,\n",
       ".sk-estimator-doc-link:hover,\n",
       "div.sk-label-container:hover .sk-estimator-doc-link:hover,\n",
       ".sk-estimator-doc-link:hover {\n",
       "  /* unfitted */\n",
       "  background-color: var(--sklearn-color-unfitted-level-3);\n",
       "  color: var(--sklearn-color-background);\n",
       "  text-decoration: none;\n",
       "}\n",
       "\n",
       "div.sk-estimator.fitted:hover .sk-estimator-doc-link.fitted:hover,\n",
       ".sk-estimator-doc-link.fitted:hover,\n",
       "div.sk-label-container:hover .sk-estimator-doc-link.fitted:hover,\n",
       ".sk-estimator-doc-link.fitted:hover {\n",
       "  /* fitted */\n",
       "  background-color: var(--sklearn-color-fitted-level-3);\n",
       "  color: var(--sklearn-color-background);\n",
       "  text-decoration: none;\n",
       "}\n",
       "\n",
       "/* Span, style for the box shown on hovering the info icon */\n",
       ".sk-estimator-doc-link span {\n",
       "  display: none;\n",
       "  z-index: 9999;\n",
       "  position: relative;\n",
       "  font-weight: normal;\n",
       "  right: .2ex;\n",
       "  padding: .5ex;\n",
       "  margin: .5ex;\n",
       "  width: min-content;\n",
       "  min-width: 20ex;\n",
       "  max-width: 50ex;\n",
       "  color: var(--sklearn-color-text);\n",
       "  box-shadow: 2pt 2pt 4pt #999;\n",
       "  /* unfitted */\n",
       "  background: var(--sklearn-color-unfitted-level-0);\n",
       "  border: .5pt solid var(--sklearn-color-unfitted-level-3);\n",
       "}\n",
       "\n",
       ".sk-estimator-doc-link.fitted span {\n",
       "  /* fitted */\n",
       "  background: var(--sklearn-color-fitted-level-0);\n",
       "  border: var(--sklearn-color-fitted-level-3);\n",
       "}\n",
       "\n",
       ".sk-estimator-doc-link:hover span {\n",
       "  display: block;\n",
       "}\n",
       "\n",
       "/* \"?\"-specific style due to the `<a>` HTML tag */\n",
       "\n",
       "#sk-container-id-6 a.estimator_doc_link {\n",
       "  float: right;\n",
       "  font-size: 1rem;\n",
       "  line-height: 1em;\n",
       "  font-family: monospace;\n",
       "  background-color: var(--sklearn-color-background);\n",
       "  border-radius: 1rem;\n",
       "  height: 1rem;\n",
       "  width: 1rem;\n",
       "  text-decoration: none;\n",
       "  /* unfitted */\n",
       "  color: var(--sklearn-color-unfitted-level-1);\n",
       "  border: var(--sklearn-color-unfitted-level-1) 1pt solid;\n",
       "}\n",
       "\n",
       "#sk-container-id-6 a.estimator_doc_link.fitted {\n",
       "  /* fitted */\n",
       "  border: var(--sklearn-color-fitted-level-1) 1pt solid;\n",
       "  color: var(--sklearn-color-fitted-level-1);\n",
       "}\n",
       "\n",
       "/* On hover */\n",
       "#sk-container-id-6 a.estimator_doc_link:hover {\n",
       "  /* unfitted */\n",
       "  background-color: var(--sklearn-color-unfitted-level-3);\n",
       "  color: var(--sklearn-color-background);\n",
       "  text-decoration: none;\n",
       "}\n",
       "\n",
       "#sk-container-id-6 a.estimator_doc_link.fitted:hover {\n",
       "  /* fitted */\n",
       "  background-color: var(--sklearn-color-fitted-level-3);\n",
       "}\n",
       "</style><div id=\"sk-container-id-6\" class=\"sk-top-container\"><div class=\"sk-text-repr-fallback\"><pre>DecisionTreeClassifier(max_depth=3)</pre><b>In a Jupyter environment, please rerun this cell to show the HTML representation or trust the notebook. <br />On GitHub, the HTML representation is unable to render, please try loading this page with nbviewer.org.</b></div><div class=\"sk-container\" hidden><div class=\"sk-item\"><div class=\"sk-estimator fitted sk-toggleable\"><input class=\"sk-toggleable__control sk-hidden--visually\" id=\"sk-estimator-id-6\" type=\"checkbox\" checked><label for=\"sk-estimator-id-6\" class=\"sk-toggleable__label fitted sk-toggleable__label-arrow fitted\">&nbsp;&nbsp;DecisionTreeClassifier<a class=\"sk-estimator-doc-link fitted\" rel=\"noreferrer\" target=\"_blank\" href=\"https://scikit-learn.org/1.5/modules/generated/sklearn.tree.DecisionTreeClassifier.html\">?<span>Documentation for DecisionTreeClassifier</span></a><span class=\"sk-estimator-doc-link fitted\">i<span>Fitted</span></span></label><div class=\"sk-toggleable__content fitted\"><pre>DecisionTreeClassifier(max_depth=3)</pre></div> </div></div></div></div>"
      ],
      "text/plain": [
       "DecisionTreeClassifier(max_depth=3)"
      ]
     },
     "execution_count": 85,
     "metadata": {
      "slideshow": {
       "slide_type": "slide"
      }
     },
     "output_type": "execute_result"
    }
   ],
   "source": [
    "from sklearn.tree import DecisionTreeClassifier\n",
    "\n",
    "model = DecisionTreeClassifier(max_depth=3)\n",
    "model.fit(X_train0, y_train0)"
   ]
  },
  {
   "cell_type": "code",
   "execution_count": 86,
   "metadata": {
    "slideshow": {
     "slide_type": "slide"
    }
   },
   "outputs": [
    {
     "data": {
      "image/png": "[encoded data removed]",
      "text/plain": [
       "<Figure size 640x480 with 1 Axes>"
      ]
     },
     "metadata": {
      "slideshow": {
       "slide_type": "slide"
      }
     },
     "output_type": "display_data"
    }
   ],
   "source": [
    "plot_tree(model, filled=True)\n",
    "plt.show()"
   ]
  },
  {
   "cell_type": "markdown",
   "metadata": {
    "slideshow": {
     "slide_type": "slide"
    }
   },
   "source": [
    "### Random forest classifier"
   ]
  },
  {
   "cell_type": "code",
   "execution_count": 87,
   "metadata": {
    "slideshow": {
     "slide_type": "slide"
    }
   },
   "outputs": [
    {
     "name": "stdout",
     "output_type": "stream",
     "text": [
      "accuracy on test data is 0.63\n",
      "\n",
      "best hyperparameters are {'max_depth': 16}\n",
      "\n",
      "feature importances are [0.16687997 0.17617539 0.08728818 0.07671825 0.08247482 0.08678349\n",
      " 0.0756431  0.08334694 0.08370289 0.08098698]\n"
     ]
    }
   ],
   "source": [
    "from sklearn.ensemble import RandomForestClassifier\n",
    "\n",
    "depths = range(2, 22, 2)\n",
    "cv = GridSearchCV(\n",
    "    RandomForestClassifier(), \n",
    "    {'max_depth': depths}\n",
    ")\n",
    "\n",
    "# use all of our training data for cross-validation\n",
    "cv.fit(X_train, y_train)\n",
    "\n",
    "# test on test data \n",
    "print(f\"accuracy on test data is {cv.score(X_test, y_test)}\")\n",
    "\n",
    "# see best hyperparameters\n",
    "print(f\"\\nbest hyperparameters are {cv.best_params_}\")\n",
    "\n",
    "# feature importances\n",
    "print(f\"\\nfeature importances are {cv.best_estimator_.feature_importances_}\")"
   ]
  },
  {
   "cell_type": "markdown",
   "metadata": {
    "slideshow": {
     "slide_type": "slide"
    }
   },
   "source": [
    "### More on GridSearchCV\n",
    "\n",
    "- After running it, the model is automatically fit on all of the (training) data using the best parameters.\n",
    "- Then methods of models are available: .predict, .score, .feature_importances_, .best_params_, .predict_proba, etc."
   ]
  },
  {
   "cell_type": "code",
   "execution_count": 88,
   "metadata": {
    "slideshow": {
     "slide_type": "slide"
    }
   },
   "outputs": [
    {
     "data": {
      "text/plain": [
       "array([[0.04252002, 0.44427695, 0.51320303],\n",
       "       [0.04249497, 0.87481507, 0.08268996],\n",
       "       [0.12707821, 0.52913918, 0.34378261],\n",
       "       [0.09113424, 0.72451944, 0.18434631],\n",
       "       [0.58857143, 0.30142857, 0.11      ],\n",
       "       [0.15671429, 0.34228571, 0.501     ],\n",
       "       [0.11639415, 0.73950915, 0.14409669],\n",
       "       [0.1565243 , 0.60216749, 0.24130821],\n",
       "       [0.59      , 0.28      , 0.13      ],\n",
       "       [0.17531217, 0.64575661, 0.17893122],\n",
       "       [0.19419812, 0.3946142 , 0.41118768],\n",
       "       [0.35663919, 0.44286943, 0.20049138],\n",
       "       [0.24278765, 0.63447316, 0.12273919],\n",
       "       [0.46      , 0.32591837, 0.21408163],\n",
       "       [0.32491067, 0.41662124, 0.25846809],\n",
       "       [0.06      , 0.54      , 0.4       ],\n",
       "       [0.23504135, 0.40430821, 0.36065045],\n",
       "       [0.14987966, 0.6896587 , 0.16046165],\n",
       "       [0.23369048, 0.54793651, 0.21837302],\n",
       "       [0.04459183, 0.54819218, 0.40721599],\n",
       "       [0.08584211, 0.8200559 , 0.09410199],\n",
       "       [0.41106679, 0.43013389, 0.15879932],\n",
       "       [0.67      , 0.27      , 0.06      ],\n",
       "       [0.4359985 , 0.44415012, 0.11985139],\n",
       "       [0.22518324, 0.5662646 , 0.20855216],\n",
       "       [0.77117552, 0.19808374, 0.03074074],\n",
       "       [0.05653356, 0.76287584, 0.18059059],\n",
       "       [0.07837198, 0.73489694, 0.18673108],\n",
       "       [0.18108113, 0.58920003, 0.22971884],\n",
       "       [0.27722371, 0.64568479, 0.0770915 ],\n",
       "       [0.03138462, 0.18523077, 0.78338462],\n",
       "       [0.17649088, 0.66603843, 0.15747069],\n",
       "       [0.62574074, 0.27185185, 0.10240741],\n",
       "       [0.16652259, 0.70759544, 0.12588198],\n",
       "       [0.26      , 0.46      , 0.28      ],\n",
       "       [0.23666353, 0.63170657, 0.13162991],\n",
       "       [0.10037392, 0.75864648, 0.1409796 ],\n",
       "       [0.05366244, 0.73627988, 0.21005768],\n",
       "       [0.10352657, 0.44275362, 0.45371981],\n",
       "       [0.22668646, 0.55385932, 0.21945421],\n",
       "       [0.12194298, 0.38451754, 0.49353947],\n",
       "       [0.09707524, 0.74671874, 0.15620602],\n",
       "       [0.10085825, 0.80798098, 0.09116077],\n",
       "       [0.44      , 0.51      , 0.05      ],\n",
       "       [0.15167652, 0.65200168, 0.1963218 ],\n",
       "       [0.13342779, 0.67006556, 0.19650665],\n",
       "       [0.10193341, 0.7434428 , 0.1546238 ],\n",
       "       [0.45407225, 0.43729269, 0.10863506],\n",
       "       [0.24975823, 0.55654834, 0.19369344],\n",
       "       [0.26108201, 0.53017725, 0.20874074],\n",
       "       [0.04      , 0.160625  , 0.799375  ],\n",
       "       [0.42770266, 0.42677357, 0.14552377],\n",
       "       [0.13411315, 0.64837449, 0.21751236],\n",
       "       [0.05291582, 0.6624362 , 0.28464798],\n",
       "       [0.06071662, 0.83093849, 0.10834489],\n",
       "       [0.16778573, 0.70101302, 0.13120125],\n",
       "       [0.12696512, 0.41664632, 0.45638857],\n",
       "       [0.5       , 0.34      , 0.16      ],\n",
       "       [0.21700091, 0.67613482, 0.10686427],\n",
       "       [0.08329417, 0.39775286, 0.51895296],\n",
       "       [0.21601679, 0.58204365, 0.20193956],\n",
       "       [0.12481018, 0.65031152, 0.2248783 ],\n",
       "       [0.42      , 0.41941176, 0.16058824],\n",
       "       [0.23566544, 0.50007845, 0.26425612],\n",
       "       [0.10709408, 0.65721578, 0.23569014],\n",
       "       [0.09591272, 0.6157513 , 0.28833597],\n",
       "       [0.10737408, 0.64680552, 0.2458204 ],\n",
       "       [0.2627206 , 0.55482163, 0.18245777],\n",
       "       [0.16796877, 0.72400094, 0.10803029],\n",
       "       [0.10093651, 0.778541  , 0.12052249],\n",
       "       [0.18498855, 0.59637955, 0.2186319 ],\n",
       "       [0.11      , 0.21      , 0.68      ],\n",
       "       [0.16361369, 0.5189293 , 0.31745702],\n",
       "       [0.16322845, 0.62287303, 0.21389852],\n",
       "       [0.02984318, 0.8182376 , 0.15191922],\n",
       "       [0.09954976, 0.76538344, 0.13506681],\n",
       "       [0.34618738, 0.48593711, 0.16787552],\n",
       "       [0.12678403, 0.49733174, 0.37588423],\n",
       "       [0.17688347, 0.40075276, 0.42236377],\n",
       "       [0.12275916, 0.56431639, 0.31292444],\n",
       "       [0.40960907, 0.44481567, 0.14557526],\n",
       "       [0.19      , 0.2       , 0.61      ],\n",
       "       [0.07063276, 0.77765201, 0.15171523],\n",
       "       [0.20264316, 0.56246154, 0.2348953 ],\n",
       "       [0.06162516, 0.77173242, 0.16664242],\n",
       "       [0.33677725, 0.54529915, 0.1179236 ],\n",
       "       [0.11592915, 0.73161128, 0.15245957],\n",
       "       [0.28      , 0.54941176, 0.17058824],\n",
       "       [0.48527273, 0.40354545, 0.11118182],\n",
       "       [0.29      , 0.51      , 0.2       ],\n",
       "       [0.17950885, 0.74236597, 0.07812518],\n",
       "       [0.54166667, 0.3875641 , 0.07076923],\n",
       "       [0.18200733, 0.53510176, 0.28289091],\n",
       "       [0.11076253, 0.25818083, 0.63105664],\n",
       "       [0.05428519, 0.67017645, 0.27553836],\n",
       "       [0.25020074, 0.44418228, 0.30561698],\n",
       "       [0.1855251 , 0.68725315, 0.12722175],\n",
       "       [0.5124243 , 0.40378203, 0.08379367],\n",
       "       [0.09935845, 0.6192249 , 0.28141665],\n",
       "       [0.18928157, 0.60786472, 0.20285371],\n",
       "       [0.13054419, 0.64056355, 0.22889226],\n",
       "       [0.1489106 , 0.77407779, 0.07701161],\n",
       "       [0.09672225, 0.72620449, 0.17707326],\n",
       "       [0.17310836, 0.6581665 , 0.16872514],\n",
       "       [0.10686907, 0.71781108, 0.17531986],\n",
       "       [0.09407897, 0.68748801, 0.21843302],\n",
       "       [0.11109774, 0.36311278, 0.52578947],\n",
       "       [0.59280741, 0.28445185, 0.12274074],\n",
       "       [0.18519656, 0.5672692 , 0.24753424],\n",
       "       [0.11748146, 0.74761153, 0.13490701],\n",
       "       [0.17453454, 0.71683695, 0.10862852],\n",
       "       [0.16520154, 0.63509665, 0.19970181],\n",
       "       [0.02488248, 0.47896368, 0.49615385],\n",
       "       [0.28505334, 0.66240384, 0.05254282],\n",
       "       [0.05290842, 0.77626593, 0.17082565],\n",
       "       [0.13114035, 0.74681176, 0.12204789],\n",
       "       [0.10498413, 0.58466667, 0.31034921],\n",
       "       [0.20400324, 0.74115232, 0.05484444],\n",
       "       [0.07002198, 0.74282801, 0.18715001],\n",
       "       [0.08222393, 0.68963428, 0.22814179],\n",
       "       [0.10732907, 0.7047738 , 0.18789714],\n",
       "       [0.65074074, 0.28851852, 0.06074074],\n",
       "       [0.09610491, 0.68470641, 0.21918868],\n",
       "       [0.14209302, 0.42418605, 0.43372093],\n",
       "       [0.13282336, 0.41279744, 0.4543792 ],\n",
       "       [0.35492507, 0.55768242, 0.08739251],\n",
       "       [0.19693201, 0.51428828, 0.28877971],\n",
       "       [0.10833926, 0.59819229, 0.29346845],\n",
       "       [0.02400833, 0.36194306, 0.61404861],\n",
       "       [0.17130435, 0.53549872, 0.29319693],\n",
       "       [0.38159801, 0.49599697, 0.12240502],\n",
       "       [0.32315705, 0.44002999, 0.23681296],\n",
       "       [0.08499243, 0.79702044, 0.11798713],\n",
       "       [0.15509691, 0.71426357, 0.13063952],\n",
       "       [0.54      , 0.34964286, 0.11035714],\n",
       "       [0.11882099, 0.51168501, 0.369494  ],\n",
       "       [0.48460384, 0.47966983, 0.03572633],\n",
       "       [0.2725    , 0.43084231, 0.29665769],\n",
       "       [0.21244298, 0.37351754, 0.41403947],\n",
       "       [0.32621229, 0.55539351, 0.1183942 ],\n",
       "       [0.0477537 , 0.38542171, 0.56682459],\n",
       "       [0.42268734, 0.42527132, 0.15204134],\n",
       "       [0.06439183, 0.66436548, 0.27124269],\n",
       "       [0.16447506, 0.61223338, 0.22329156],\n",
       "       [0.27256263, 0.49699798, 0.23043939],\n",
       "       [0.110331  , 0.67942032, 0.21024869],\n",
       "       [0.12603212, 0.46124152, 0.41272636],\n",
       "       [0.18621955, 0.60357769, 0.21020276],\n",
       "       [0.29279004, 0.54235354, 0.16485642],\n",
       "       [0.13513325, 0.63194903, 0.23291773],\n",
       "       [0.06125555, 0.83030922, 0.10843523],\n",
       "       [0.17522408, 0.65469614, 0.17007978],\n",
       "       [0.10903086, 0.67688462, 0.21408452],\n",
       "       [0.15      , 0.28      , 0.57      ],\n",
       "       [0.1830891 , 0.6539702 , 0.16294071],\n",
       "       [0.22040662, 0.60306493, 0.17652846],\n",
       "       [0.09755542, 0.74074677, 0.16169781],\n",
       "       [0.13598741, 0.63182379, 0.2321888 ],\n",
       "       [0.05072665, 0.75097565, 0.1982977 ],\n",
       "       [0.27251282, 0.60620513, 0.12128205],\n",
       "       [0.0921399 , 0.63946159, 0.26839851],\n",
       "       [0.0742472 , 0.58207481, 0.34367799],\n",
       "       [0.43      , 0.45      , 0.12      ],\n",
       "       [0.11      , 0.35      , 0.54      ],\n",
       "       [0.1327701 , 0.76062341, 0.1066065 ],\n",
       "       [0.20973573, 0.60412836, 0.18613591],\n",
       "       [0.10674896, 0.63959155, 0.25365949],\n",
       "       [0.07481282, 0.26047179, 0.66471538],\n",
       "       [0.07398441, 0.74891824, 0.17709735],\n",
       "       [0.70074074, 0.24851852, 0.05074074],\n",
       "       [0.19437976, 0.56416482, 0.24145542],\n",
       "       [0.49950886, 0.45782733, 0.04266382],\n",
       "       [0.02413201, 0.66368717, 0.31218082],\n",
       "       [0.16851078, 0.64287895, 0.18861027],\n",
       "       [0.12704791, 0.72526275, 0.14768935],\n",
       "       [0.22514764, 0.5220798 , 0.25277256],\n",
       "       [0.04874408, 0.74510288, 0.20615304],\n",
       "       [0.16281494, 0.72334789, 0.11383717],\n",
       "       [0.27532563, 0.48174962, 0.24292474],\n",
       "       [0.28774968, 0.58400399, 0.12824633],\n",
       "       [0.2095607 , 0.69510056, 0.09533874],\n",
       "       [0.09102744, 0.53969502, 0.36927754],\n",
       "       [0.39850712, 0.3816092 , 0.21988369],\n",
       "       [0.14      , 0.31      , 0.55      ],\n",
       "       [0.20333333, 0.265     , 0.53166667],\n",
       "       [0.22176636, 0.40052087, 0.37771276],\n",
       "       [0.04739938, 0.69471838, 0.25788224],\n",
       "       [0.14432812, 0.78294944, 0.07272244],\n",
       "       [0.38587146, 0.4889334 , 0.12519514],\n",
       "       [0.20433772, 0.69011664, 0.10554564],\n",
       "       [0.17187369, 0.65398746, 0.17413885],\n",
       "       [0.78      , 0.15      , 0.07      ],\n",
       "       [0.12257961, 0.74615337, 0.13126702],\n",
       "       [0.38039216, 0.56797683, 0.05163102],\n",
       "       [0.06394656, 0.805254  , 0.13079944],\n",
       "       [0.13032787, 0.6295082 , 0.24016393],\n",
       "       [0.07796469, 0.79456172, 0.12747359],\n",
       "       [0.17757391, 0.52131697, 0.30110912],\n",
       "       [0.09090909, 0.36051948, 0.54857143],\n",
       "       [0.08579231, 0.44410196, 0.47010573],\n",
       "       [0.17921836, 0.59221562, 0.22856602],\n",
       "       [0.11941788, 0.76388804, 0.11669408],\n",
       "       [0.07142857, 0.42142857, 0.50714286],\n",
       "       [0.09621365, 0.73774949, 0.16603686],\n",
       "       [0.10577264, 0.37338198, 0.52084538],\n",
       "       [0.04078419, 0.56667585, 0.39253995],\n",
       "       [0.17250068, 0.63788831, 0.18961102],\n",
       "       [0.22925731, 0.59037446, 0.18036823],\n",
       "       [0.15928298, 0.62417661, 0.21654042],\n",
       "       [0.54      , 0.39      , 0.07      ],\n",
       "       [0.21220463, 0.63713317, 0.1506622 ],\n",
       "       [0.12125   , 0.32      , 0.55875   ],\n",
       "       [0.15872768, 0.68833462, 0.15293769],\n",
       "       [0.19444908, 0.58484172, 0.22070921],\n",
       "       [0.14524723, 0.66610224, 0.18865054],\n",
       "       [0.0808799 , 0.63378205, 0.28533805],\n",
       "       [0.15303742, 0.71006288, 0.1368997 ],\n",
       "       [0.10764199, 0.69546644, 0.19689158],\n",
       "       [0.20442203, 0.55743509, 0.23814288],\n",
       "       [0.21133333, 0.32266667, 0.466     ],\n",
       "       [0.26218328, 0.54632158, 0.19149515],\n",
       "       [0.0836852 , 0.79111902, 0.12519578],\n",
       "       [0.10371287, 0.75515755, 0.14112958],\n",
       "       [0.1733968 , 0.54388403, 0.28271917],\n",
       "       [0.0698116 , 0.83906176, 0.09112664],\n",
       "       [0.64556968, 0.28111972, 0.0733106 ],\n",
       "       [0.10260017, 0.73768486, 0.15971497],\n",
       "       [0.17345411, 0.64794441, 0.17860148],\n",
       "       [0.15959288, 0.6562733 , 0.18413382],\n",
       "       [0.13276025, 0.52148614, 0.34575361],\n",
       "       [0.13614711, 0.65341902, 0.21043387],\n",
       "       [0.35913963, 0.43601974, 0.20484062],\n",
       "       [0.13643673, 0.64038797, 0.2231753 ],\n",
       "       [0.42471111, 0.43305916, 0.14222973],\n",
       "       [0.48      , 0.38      , 0.14      ],\n",
       "       [0.07611427, 0.59997066, 0.32391507],\n",
       "       [0.47833333, 0.45166667, 0.07      ],\n",
       "       [0.23754291, 0.59714427, 0.16531283],\n",
       "       [0.21539211, 0.57470954, 0.20989836],\n",
       "       [0.43089286, 0.44910714, 0.12      ],\n",
       "       [0.09240802, 0.74670356, 0.16088842],\n",
       "       [0.07010207, 0.6308411 , 0.29905683],\n",
       "       [0.06226648, 0.75673072, 0.18100279],\n",
       "       [0.12      , 0.35333333, 0.52666667],\n",
       "       [0.05922991, 0.72416191, 0.21660818],\n",
       "       [0.05875196, 0.73656917, 0.20467887],\n",
       "       [0.20411747, 0.58526744, 0.2106151 ],\n",
       "       [0.13625391, 0.64926629, 0.21447981],\n",
       "       [0.12108183, 0.61207205, 0.26684612],\n",
       "       [0.12611048, 0.72695349, 0.14693603],\n",
       "       [0.04710489, 0.72019539, 0.23269971],\n",
       "       [0.02844424, 0.77732902, 0.19422674],\n",
       "       [0.25932576, 0.58556752, 0.15510673],\n",
       "       [0.29858192, 0.60661225, 0.09480583],\n",
       "       [0.25163153, 0.56565419, 0.18271429],\n",
       "       [0.22385537, 0.69636459, 0.07978005],\n",
       "       [0.13051372, 0.61901075, 0.25047553],\n",
       "       [0.04731831, 0.85174348, 0.10093821],\n",
       "       [0.11696487, 0.58787939, 0.29515573],\n",
       "       [0.13132205, 0.72613613, 0.14254182],\n",
       "       [0.18567271, 0.61034125, 0.20398603],\n",
       "       [0.15      , 0.24      , 0.61      ],\n",
       "       [0.1560896 , 0.4499911 , 0.3939193 ],\n",
       "       [0.0858865 , 0.78562158, 0.12849191],\n",
       "       [0.15112069, 0.40792729, 0.44095202],\n",
       "       [0.10500989, 0.74846883, 0.14652128],\n",
       "       [0.26695855, 0.48147821, 0.25156324],\n",
       "       [0.42519231, 0.37978205, 0.19502564],\n",
       "       [0.05394072, 0.47162925, 0.47443003],\n",
       "       [0.08053156, 0.63012234, 0.2893461 ],\n",
       "       [0.09091842, 0.82248876, 0.08659283],\n",
       "       [0.07089721, 0.82864483, 0.10045797],\n",
       "       [0.15086897, 0.64216931, 0.20696172],\n",
       "       [0.17746125, 0.58032312, 0.24221563],\n",
       "       [0.27142857, 0.32      , 0.40857143],\n",
       "       [0.65      , 0.25      , 0.1       ],\n",
       "       [0.07244725, 0.79166501, 0.13588774],\n",
       "       [0.11821899, 0.61978548, 0.26199553],\n",
       "       [0.1154415 , 0.75818729, 0.12637121],\n",
       "       [0.10591022, 0.77675326, 0.11733652],\n",
       "       [0.18776465, 0.57215845, 0.2400769 ],\n",
       "       [0.05      , 0.29941176, 0.65058824],\n",
       "       [0.15440151, 0.69619631, 0.14940219],\n",
       "       [0.18314723, 0.5762548 , 0.24059797],\n",
       "       [0.15810891, 0.63986822, 0.20202287],\n",
       "       [0.67      , 0.21      , 0.12      ],\n",
       "       [0.18232803, 0.61872229, 0.19894968],\n",
       "       [0.06658612, 0.81542175, 0.11799213],\n",
       "       [0.34760417, 0.33264093, 0.3197549 ],\n",
       "       [0.10525038, 0.69693532, 0.1978143 ],\n",
       "       [0.20957849, 0.58501744, 0.20540408],\n",
       "       [0.07979882, 0.81948123, 0.10071995],\n",
       "       [0.10996218, 0.59414023, 0.29589759],\n",
       "       [0.10830224, 0.76576732, 0.12593043],\n",
       "       [0.31284541, 0.56340729, 0.1237473 ],\n",
       "       [0.20576617, 0.63130563, 0.1629282 ],\n",
       "       [0.11735473, 0.55663749, 0.32600778],\n",
       "       [0.15244814, 0.67779776, 0.1697541 ],\n",
       "       [0.08824957, 0.65032825, 0.26142218],\n",
       "       [0.13914556, 0.70207185, 0.15878259]])"
      ]
     },
     "execution_count": 88,
     "metadata": {
      "slideshow": {
       "slide_type": "slide"
      }
     },
     "output_type": "execute_result"
    }
   ],
   "source": [
    "# probabilities from the best hyperparameters \n",
    "\n",
    "cv.predict_proba(X_test)"
   ]
  },
  {
   "cell_type": "markdown",
   "metadata": {
    "slideshow": {
     "slide_type": "slide"
    }
   },
   "source": [
    "### Confusion matrix and ROC curve\n",
    "\n",
    "- Confusion matrix is a table of actual vs. predicted classes.  Reveals where the errors are.\n",
    "- ROC curve is a plot of true positive rate vs. false positive rate for different thresholds of the predicted probabilities.\n",
    "  - Used for binary classification.  Can extend to multiclass by creating dummies.\n",
    "  - AUC is the Area Under the (ROC) Curve.  AUC = 1 is perfect, AUC = 0.5 is random.\n",
    "  - Useful for picking an optimal threshold, given a model."
   ]
  },
  {
   "cell_type": "code",
   "execution_count": 89,
   "metadata": {
    "slideshow": {
     "slide_type": "slide"
    }
   },
   "outputs": [
    {
     "data": {
      "image/png": "[encoded data removed]",
      "text/plain": [
       "<Figure size 640x480 with 2 Axes>"
      ]
     },
     "metadata": {
      "slideshow": {
       "slide_type": "slide"
      }
     },
     "output_type": "display_data"
    }
   ],
   "source": [
    "from sklearn.metrics import ConfusionMatrixDisplay\n",
    "\n",
    "ConfusionMatrixDisplay.from_estimator(\n",
    "    estimator=cv, \n",
    "    X=X_test, \n",
    "    y=y_test\n",
    ")\n",
    "plt.show()"
   ]
  },
  {
   "cell_type": "markdown",
   "metadata": {
    "slideshow": {
     "slide_type": "slide"
    }
   },
   "source": [
    "### Binary classification example \n",
    "\n",
    "- Target = dummy for y > 0"
   ]
  },
  {
   "cell_type": "code",
   "execution_count": 90,
   "metadata": {
    "slideshow": {
     "slide_type": "slide"
    }
   },
   "outputs": [],
   "source": [
    "### Second revision of data \n",
    "\n",
    "import numpy as np \n",
    "\n",
    "np.random.seed(0)  # just so we all get the same results\n",
    "\n",
    "# full hypothetical sample \n",
    "X = np.random.normal(size=(1500, 10))\n",
    "y = X[:, 0] * X[:, 1] + np.random.normal(size=1500)\n",
    "\n",
    "# classify into two categories\n",
    "y = 1 * (y > 0)\n",
    "\n",
    "# randomly split into training and test samples\n",
    "from sklearn.model_selection import train_test_split\n",
    "X_train, X_test, y_train, y_test = train_test_split(\n",
    "    X, y, test_size=300\n",
    ")\n",
    "X_train0, X_val, y_train0, y_val = train_test_split(\n",
    "    X_train, y_train, test_size=200\n",
    ")"
   ]
  },
  {
   "cell_type": "code",
   "execution_count": 91,
   "metadata": {
    "slideshow": {
     "slide_type": "slide"
    }
   },
   "outputs": [
    {
     "name": "stdout",
     "output_type": "stream",
     "text": [
      "accuracy on test data is 0.61\n",
      "\n",
      "best hyperparameters are {'max_depth': 10}\n",
      "\n",
      "feature importances are [0.15459823 0.14353626 0.0949279  0.08389458 0.08679904 0.09218103\n",
      " 0.08275622 0.09064638 0.08656148 0.08409889]\n"
     ]
    }
   ],
   "source": [
    "# exact same code as for multi-class classification\n",
    "\n",
    "depths = range(2, 22, 2)\n",
    "cv = GridSearchCV(\n",
    "    RandomForestClassifier(), \n",
    "    {'max_depth': depths}\n",
    ")\n",
    "\n",
    "# use all of our training data for cross-validation\n",
    "cv.fit(X_train, y_train)\n",
    "\n",
    "# test on test data \n",
    "print(f\"accuracy on test data is {cv.score(X_test, y_test)}\")\n",
    "\n",
    "# see best hyperparameters\n",
    "print(f\"\\nbest hyperparameters are {cv.best_params_}\")\n",
    "\n",
    "# feature importances\n",
    "print(f\"\\nfeature importances are {cv.best_estimator_.feature_importances_}\")"
   ]
  },
  {
   "cell_type": "code",
   "execution_count": 92,
   "metadata": {
    "slideshow": {
     "slide_type": "slide"
    }
   },
   "outputs": [
    {
     "data": {
      "image/png": "[encoded data removed]",
      "text/plain": [
       "<Figure size 640x480 with 1 Axes>"
      ]
     },
     "metadata": {
      "slideshow": {
       "slide_type": "slide"
      }
     },
     "output_type": "display_data"
    }
   ],
   "source": [
    "from sklearn.metrics import RocCurveDisplay\n",
    "\n",
    "RocCurveDisplay.from_estimator(\n",
    "    estimator=cv, \n",
    "    X=X_test, \n",
    "    y=y_test, \n",
    ")\n",
    "plt.show()"
   ]
  },
  {
   "cell_type": "markdown",
   "metadata": {
    "slideshow": {
     "slide_type": "slide"
    }
   },
   "source": [
    "### Saving models\n",
    "\n",
    "To save a trained model so you can use it again without training again, use joblib.dump(model, 'filename').\n",
    "\n",
    "    import joblib\n",
    "    joblib.dump(model, 'filename')\n",
    "\n",
    "or \n",
    "    \n",
    "        from joblib import dump\n",
    "        dump(model, 'filename')"
   ]
  },
  {
   "cell_type": "code",
   "execution_count": 93,
   "metadata": {
    "slideshow": {
     "slide_type": "slide"
    }
   },
   "outputs": [
    {
     "data": {
      "text/plain": [
       "['mymodel.joblib']"
      ]
     },
     "execution_count": 93,
     "metadata": {
      "slideshow": {
       "slide_type": "slide"
      }
     },
     "output_type": "execute_result"
    }
   ],
   "source": [
    "# saving \n",
    "\n",
    "from joblib import dump\n",
    "dump(cv, 'mymodel.joblib')"
   ]
  },
  {
   "cell_type": "code",
   "execution_count": 94,
   "metadata": {
    "slideshow": {
     "slide_type": "slide"
    }
   },
   "outputs": [
    {
     "data": {
      "text/plain": [
       "array([1, 0, 1, 1, 0, 1, 1, 1, 0, 0, 0, 0, 0, 0, 0, 1, 0, 0, 1, 1, 1, 0,\n",
       "       0, 0, 1, 0, 1, 1, 0, 0, 1, 1, 0, 1, 0, 0, 1, 1, 1, 0, 1, 1, 1, 0,\n",
       "       1, 1, 1, 0, 1, 1, 1, 0, 0, 1, 1, 1, 1, 0, 1, 0, 0, 1, 0, 1, 1, 1,\n",
       "       1, 0, 1, 1, 1, 1, 1, 0, 0, 1, 0, 1, 1, 1, 0, 1, 1, 1, 1, 0, 0, 1,\n",
       "       0, 0, 0, 0, 0, 1, 1, 1, 1, 0, 1, 0, 1, 1, 1, 1, 1, 1, 1, 0, 1, 1,\n",
       "       0, 1, 1, 0, 0, 1, 1, 0, 0, 0, 1, 0, 1, 1, 1, 0, 0, 1, 1, 1, 0, 0,\n",
       "       1, 0, 0, 1, 0, 0, 1, 0, 1, 0, 1, 1, 0, 1, 0, 0, 0, 0, 0, 1, 1, 1,\n",
       "       0, 0, 1, 0, 1, 1, 1, 1, 0, 1, 0, 0, 0, 1, 1, 0, 1, 0, 1, 0, 1, 0,\n",
       "       1, 0, 0, 0, 0, 1, 0, 1, 1, 0, 1, 1, 0, 0, 1, 0, 1, 0, 1, 1, 0, 1,\n",
       "       1, 1, 1, 0, 1, 0, 1, 1, 0, 0, 0, 0, 0, 1, 1, 1, 0, 1, 0, 0, 0, 0,\n",
       "       1, 1, 1, 1, 1, 0, 1, 1, 1, 1, 1, 0, 1, 0, 1, 1, 0, 0, 0, 0, 1, 0,\n",
       "       1, 1, 1, 1, 1, 0, 1, 1, 1, 0, 0, 0, 0, 0, 1, 1, 1, 1, 1, 1, 1, 1,\n",
       "       1, 0, 0, 0, 1, 1, 0, 1, 1, 0, 1, 0, 0, 1, 1, 1, 1, 1, 1, 1, 1, 0,\n",
       "       1, 1, 1, 1, 1, 1, 0, 1, 0, 1, 1, 1, 1, 0])"
      ]
     },
     "execution_count": 94,
     "metadata": {
      "slideshow": {
       "slide_type": "slide"
      }
     },
     "output_type": "execute_result"
    }
   ],
   "source": [
    "# loading and reusing\n",
    "\n",
    "from joblib import load\n",
    "cv = load('mymodel.joblib')\n",
    "cv.predict(X_test)"
   ]
  },
  {
   "cell_type": "markdown",
   "metadata": {
    "slideshow": {
     "slide_type": "slide"
    }
   },
   "source": [
    "### Ask Julius \n",
    "\n",
    "- Get the California house price data, run random forest regressor on it, and show the feature importances.\n",
    "- Get the digits data, show the images, run a classifier on it, and show the confusion matrix.\n",
    "- Get the breast cancer data, run a classifier on it, and show the confusion matrix and ROC curve."
   ]
  }
 ],
 "metadata": {
  "kernelspec": {
   "display_name": "Python 3",
   "language": "python",
   "name": "python3"
  },
  "language_info": {
   "codemirror_mode": {
    "name": "ipython",
    "version": 3
   },
   "file_extension": ".py",
   "mimetype": "text/x-python",
   "name": "python",
   "nbconvert_exporter": "python",
   "pygments_lexer": "ipython3",
   "version": "3.12.5"
  }
 },
 "nbformat": 4,
 "nbformat_minor": 2
}
