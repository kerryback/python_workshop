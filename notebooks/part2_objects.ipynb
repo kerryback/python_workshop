{
 "cells": [
  {
   "cell_type": "markdown",
   "metadata": {},
   "source": [
    "<div style=\"background-image: url('https://www.dropbox.com/scl/fi/wdrnuojbnjx6lgfekrx85/mcnair.jpg?rlkey=wcbaw5au7vh5vt1g5d5x7fw8f&dl=1'); background-size: cover; background-position: center; height: 300px; display: flex; align-items: center; justify-content: center; color: white; text-shadow: 2px 2px 4px rgba(0,0,0,0.7); margin-bottom: 20px;\">\n",
    "  <h1 style=\"text-align: center; font-size: 2.5em; margin: 0;\">JGSB Python Workshop <br> Part 2: Objects</h1>\n",
    "</div>"
   ]
  },
  {
   "cell_type": "markdown",
   "metadata": {},
   "source": [
    "### Object types \n",
    "\n",
    "We have already encountered three types of python objects\n",
    "\n",
    "* integers (ints)\n",
    "* strings\n",
    "* functions (the print function)\n",
    "\n",
    "We can tell the type of any object with the `type` function.  "
   ]
  },
  {
   "cell_type": "code",
   "execution_count": null,
   "metadata": {},
   "outputs": [],
   "source": [
    "# Execute this cell. \n",
    "\n",
    "print(type(10))\n",
    "print(type(\"abc\"))\n",
    "print(type(print))"
   ]
  },
  {
   "cell_type": "markdown",
   "metadata": {},
   "source": [
    "### Floats\n",
    "\n",
    "Numbers with decimal points are considered a different type of object in python, because they require more space in memory to store.  They are called **floating point** objects, or, more simply, **floats**. "
   ]
  },
  {
   "cell_type": "code",
   "execution_count": null,
   "metadata": {},
   "outputs": [],
   "source": [
    "# Execute this cell. \n",
    "\n",
    "x = 10.0\n",
    "print(type(x))"
   ]
  },
  {
   "cell_type": "markdown",
   "metadata": {},
   "source": [
    "### Mathematical operations\n",
    "\n",
    "We can perform standard mathematical objects on ints or floats or a combination of ints and floats.\n",
    "\n",
    "* addition (+)\n",
    "* subtraction (-)\n",
    "* multiplication (*)\n",
    "* exponentiation (**)"
   ]
  },
  {
   "cell_type": "code",
   "execution_count": null,
   "metadata": {},
   "outputs": [],
   "source": [
    "# Execute this cell. \n",
    "\n",
    "print(\"2*10.0 =\", 2*10.0)\n",
    "print(\"3**2 =\", 3**2)  # ^ in Excel is ** in python"
   ]
  },
  {
   "cell_type": "markdown",
   "metadata": {},
   "source": [
    "### Strings\n",
    "\n",
    "Strings are sequences of letters, numbers, spaces, or symbols enclosed in either single or double quotes.\n",
    "\n",
    "It makes no difference whether you use single or double quotes, but the beginning and end of the string must be the same type."
   ]
  },
  {
   "cell_type": "code",
   "execution_count": null,
   "metadata": {},
   "outputs": [],
   "source": [
    "print(\"this is a string\")\n",
    "print('this is a string too')"
   ]
  },
  {
   "cell_type": "markdown",
   "metadata": {},
   "source": [
    "We can also use three single quotation marks before and after to create a string, or three double quotation marks before and after.  These are **triple quoted strings.**\n",
    "\n",
    "The benefit of triple quoting is that a string can be spread over several lines."
   ]
  },
  {
   "cell_type": "code",
   "execution_count": null,
   "metadata": {},
   "outputs": [],
   "source": [
    "print(\"\"\"this is\n",
    "      a third string.\"\"\")"
   ]
  },
  {
   "cell_type": "markdown",
   "metadata": {},
   "source": [
    "### String operations\n",
    "\n",
    "A pretty common thing is to paste (concatenate) two strings together.  Python provides a very simple syntax for this.  We can just 'add' them."
   ]
  },
  {
   "cell_type": "code",
   "execution_count": null,
   "metadata": {},
   "outputs": [],
   "source": [
    "# Execute this cell.\n",
    "\n",
    "\"abc\" + 'xyz'"
   ]
  },
  {
   "cell_type": "markdown",
   "metadata": {},
   "source": [
    "### Booleans\n",
    "\n",
    "Booleans are another important type of important object.  There are only two booleans: True and False.\n",
    "\n",
    "We use these to represent whether one number is larger than another, whether two numbers are equal, and many other things.\n",
    "\n",
    "The basic comparison operators are\n",
    "\n",
    "* `>` (is greater than)\n",
    "* `<` (is less than)\n",
    "* `>=` (is greater than or equal to)\n",
    "* `<=` (is less than or equal to)\n",
    "* `==` (is equal to)\n",
    "\n",
    "Notice the use of two equals signs in 'is equal to.'  A single equals sign creates an assignment statement.\n",
    "\n",
    "As an example, the expression `10>5` resolves to True."
   ]
  },
  {
   "cell_type": "code",
   "execution_count": null,
   "metadata": {},
   "outputs": [],
   "source": [
    "# Execute this cell. \n",
    "\n",
    "10 > 5"
   ]
  },
  {
   "cell_type": "markdown",
   "metadata": {},
   "source": [
    "We sometimes assign the values `True` and `False` to variables."
   ]
  },
  {
   "cell_type": "code",
   "execution_count": null,
   "metadata": {},
   "outputs": [],
   "source": [
    "# Execute this cell. \n",
    "\n",
    "a = (10 > 5)\n",
    "a"
   ]
  },
  {
   "cell_type": "code",
   "execution_count": null,
   "metadata": {},
   "outputs": [],
   "source": [
    "# Write a comparison that is True and assign it the name A.\n",
    "# Write another comparison on a second line that is False and assign it the name B.\n",
    "\n",
    "assert (A==True) and (B==False), \"\"\"If you get an Assertion Error,\n",
    "then A or B has been defined incorrectly.  If you get a Name Error,\n",
    "then either A or B has not been defined.\"\"\"\n",
    "print(\"You did it right!\")"
   ]
  },
  {
   "cell_type": "markdown",
   "metadata": {},
   "source": [
    "### Logical operators\n",
    "\n",
    "We can combine booleans with `and`, `or`, or `xor`.\n",
    "\n",
    "* `A and B` is true if `A` is `True` and `B` is `True`\n",
    "* `A or B` is True if `A` is `True` or `B` is `True`\n",
    "* `A xor B` is True if one and only one of `A` and `B` is `True`.\n",
    "\n",
    "Add a code cell below. Create new variables \n",
    "\n",
    "* `C = A and B`\n",
    "* `D = A or B`\n",
    "* `E = A xor B`\n",
    "\n",
    "What values will they have?\n",
    "\n",
    "Check that you are correct using `print(C, D, E)`."
   ]
  },
  {
   "cell_type": "markdown",
   "metadata": {},
   "source": [
    "### Attributes and methods\n",
    "\n",
    "Python objects have attributes and/or methods.\n",
    "\n",
    "* An **attribute** is a value or property associated with an object.\n",
    "* A **method** is a function that belongs to an object and can be called to perform actions using or modifying that object.\n",
    "\n",
    "To access an attribute or a method we type a period (`.`) after the object or the object's name and then type the attribute or method name.  Examples will make this clear and will also clarify the difference between attributes and methods.  They are fundamental elements of python that we will see repeatedly.\n",
    "\n",
    "Ints, floats, booleans, and functions do not have very interesting attributes or methods, nor do strings have very interesting attributes.  However, strings have several useful methods. Other types of objects that we will see later have many useful attributes and methods."
   ]
  },
  {
   "cell_type": "markdown",
   "metadata": {},
   "source": [
    "### String methods\n",
    "\n",
    "Here are a few useful string methods.  Notice that the syntax is `string.method(sometimes inputs)` or `name.method(sometimes inputs)` if `name` is the name of a string.\n",
    "\n",
    "* `.upper()` converts to\n",
    "uppercase: `\"hello\".upper()`\n",
    "returns `\"HELLO\"`.  There is also a `.lower()`\n",
    "* `.strip()` removes whitespace from both ends: `\"  hello  \".strip()` returns `\"hello\"`\n",
    "* `.replace(old, new)` replaces\n",
    "text: `\"hello\".replace(\"l\", \"x\")` returns `\"hexxo\"`\n",
    "* `.startswith(text)` - checks if string starts with text: `\"hello\".startswith(\"he\")` returns `True`.  There is also an `.endswith(text)`.\n",
    "\n",
    "If the examples in the following cell seem unclear, add a code cell and experiment.\n",
    "    "
   ]
  },
  {
   "cell_type": "code",
   "execution_count": null,
   "metadata": {},
   "outputs": [],
   "source": [
    "# Execute this cell\n",
    "\n",
    "print('tsla'.upper())\n",
    "\n",
    "ticker = 'tsla' \n",
    "print(ticker.upper())\n",
    "\n",
    "ticker = 'tsla'.upper()\n",
    "print(ticker)"
   ]
  },
  {
   "cell_type": "markdown",
   "metadata": {},
   "source": [
    "Complete the following exercises."
   ]
  },
  {
   "cell_type": "code",
   "execution_count": null,
   "metadata": {},
   "outputs": [],
   "source": [
    "# Convert the string \"python programming\" to uppercase and \n",
    "# assign it to the variable result1.\n",
    "\n",
    "assert result1 == \"PYTHON PROGRAMMING\", \"The result should be the uppercase version of 'python programming'\"\"\"\n",
    "print(\"Correct! You converted the string to uppercase.\")"
   ]
  },
  {
   "cell_type": "code",
   "execution_count": null,
   "metadata": {},
   "outputs": [],
   "source": [
    "# Convert the string \"BUSINESS SCHOOL\" to lowercase \n",
    "# and assign it to the variable result2.\n",
    "\n",
    "  assert result2 == \"business school\", \"The result should be the lowercase version of 'BUSINESS \n",
    "  SCHOOL'\"\n",
    "  print(\"Correct! You converted the string to lowercase.\")"
   ]
  },
  {
   "cell_type": "code",
   "execution_count": null,
   "metadata": {},
   "outputs": [],
   "source": [
    "# Remove the whitespace from both ends of \"   hello world   \" \n",
    "# and assign it to the variable result3.\n",
    "\n",
    "  assert result3 == \"hello world\", \"The result should be 'hello world' with no leading or \n",
    "  trailing spaces\"\n",
    "  print(\"Correct! You stripped the whitespace from both ends.\")"
   ]
  },
  {
   "cell_type": "code",
   "execution_count": null,
   "metadata": {},
   "outputs": [],
   "source": [
    "# Replace all occurrences of \"cat\" with \"dog\" in the \n",
    "# string \"the cat sat on the cat\" and assign it to the variable result4.\n",
    "\n",
    "  assert result4 == \"the dog sat on the dog\", \"The result should have all 'cat' replaced \n",
    "  with 'dog'\"\n",
    "  print(\"Correct! You replaced all occurrences of 'cat' with 'dog'.\")"
   ]
  },
  {
   "cell_type": "code",
   "execution_count": null,
   "metadata": {},
   "outputs": [],
   "source": [
    "# Check if the string \"python\" starts with \"py\" \n",
    "# and assign the result to the variable result5.\n",
    "\n",
    "  assert result5 == True, \"The result should be True since 'python' starts with 'py'\"\n",
    "  print(\"Correct! You checked if the string starts with 'py'.\")"
   ]
  },
  {
   "cell_type": "markdown",
   "metadata": {},
   "source": [
    "### "
   ]
  },
  {
   "cell_type": "markdown",
   "metadata": {},
   "source": [
    "### Automatic completions\n",
    "\n",
    "Colab provides automatic completions to explore attributes of Python objects, as well as to quickly view documentation strings. As an example, first run the following cell to create a string and assign it the name `x``."
   ]
  },
  {
   "cell_type": "code",
   "execution_count": null,
   "metadata": {},
   "outputs": [],
   "source": [
    "# Execute this cell. \n",
    "\n",
    "x = 'abc'"
   ]
  },
  {
   "cell_type": "markdown",
   "metadata": {},
   "source": [
    "Add a code cell below, type `x` and press **period**(`.`).  You should see the list of available completions (methods and attributes) of string objects."
   ]
  },
  {
   "cell_type": "markdown",
   "metadata": {},
   "source": [
    "Add another code cell below, type `\"abc\"` and press **period**(`.`).  You should see the same list of methods and attributes of string objects. "
   ]
  },
  {
   "cell_type": "markdown",
   "metadata": {},
   "source": [
    "### Pause here\n",
    "\n",
    "When you get here and are ready to move on, select Ready on the poll.  If you have extra time, explore the [python resources](https://workshop.kerryback.com/resources) from the workshop homepage."
   ]
  }
 ],
 "metadata": {
  "kernelspec": {
   "display_name": "venv",
   "language": "python",
   "name": "python3"
  },
  "language_info": {
   "codemirror_mode": {
    "name": "ipython",
    "version": 3
   },
   "file_extension": ".py",
   "mimetype": "text/x-python",
   "name": "python",
   "nbconvert_exporter": "python",
   "pygments_lexer": "ipython3",
   "version": "3.12.3"
  }
 },
 "nbformat": 4,
 "nbformat_minor": 4
}
