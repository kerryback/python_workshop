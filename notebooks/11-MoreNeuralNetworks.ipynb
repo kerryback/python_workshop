{
 "cells": [
  {
   "cell_type": "markdown",
   "metadata": {
    "slideshow": {
     "slide_type": "slide"
    }
   },
   "source": [
    "# Day 11: More on Neural Networks\n",
    "\n",
    "### BUSI 520 - Python for Business Research\n",
    "### Kerry Back, JGSB, Rice University"
   ]
  },
  {
   "cell_type": "markdown",
   "metadata": {
    "slideshow": {
     "slide_type": "slide"
    }
   },
   "source": [
    "### Outline \n",
    "\n",
    "- Gradient descent\n",
    "- Backpropagation\n",
    "- Automatic differentiation\n",
    "- Pytorch "
   ]
  },
  {
   "cell_type": "markdown",
   "metadata": {
    "slideshow": {
     "slide_type": "slide"
    }
   },
   "source": [
    "### Fitting a neural network\n",
    "\n",
    "* Let $\\theta$ denote all of the bias and weight parameters.  Consider observation $i$ with target value $y_i$ and features $x_i$.  Denote the\n",
    "prediction of the network by $h(x_i, \\theta)$.  \n",
    "* In regression, we want to minimize \n",
    "$$ \\frac{1}{2} \\text{SSE} = \\frac{1}{2}\\sum_{i=1}^n [y_i - h(x_i, \\theta)]^2.$$\n",
    "* The gradient with respect to $\\theta$ is \n",
    "$$ \\sum_{i=1}^n [y_i - h(x_i, \\theta)] \\nabla_\\theta h(x_i, \\theta)$$\n",
    "- To minimize, we want to take a step in the opposite direction of the gradient (gradient descent)."
   ]
  },
  {
   "cell_type": "markdown",
   "metadata": {
    "slideshow": {
     "slide_type": "slide"
    }
   },
   "source": [
    "### Mini-batch gradient descent\n",
    "\n",
    "* The overall gradient is a sum over all training samples:\n",
    "$$ \\sum_{i=1}^n [y_i - h(x_i, \\theta)] \\nabla_\\theta h(x_i, \\theta)$$\n",
    "* Should we wait until we have added all of these together before taking a step?\n",
    "* Instead, add up 100, take a small step, add up another 100, etc. (or different number than 100).\n",
    "* After going through all observations, shuffle them and start again (called a new epoch)."
   ]
  },
  {
   "cell_type": "markdown",
   "metadata": {
    "slideshow": {
     "slide_type": "slide"
    }
   },
   "source": [
    "### Stochastic gradient descent\n",
    "\n",
    "- Batch size = 1 is called stochastic gradient descent.\n",
    "- This means that the gradient is calculated and a step is taken for each observation."
   ]
  },
  {
   "cell_type": "markdown",
   "metadata": {
    "slideshow": {
     "slide_type": "slide"
    }
   },
   "source": [
    "### Example of gradient calculation\n",
    "\n",
    "* Suppose there is only a single hidden layer with a single neuron. \n",
    "* Let $\\theta = (\\theta_1, \\theta_2)$ where $\\theta_1 = (b, w)$ of the\n",
    "hidden layer neuron and $\\theta_2 = (b, w)$ of the output layer.\n",
    "* Let $y_i = f(x_i, \\theta_1)$ denote the hidden layer neuron value.\n",
    "* Let $z_i = g(y_i, \\theta_2)$ denote the output layer value.\n",
    "* The network prediction is \n",
    "$$h(x_i, \\theta_1, \\theta_2) = g(f(x_i, \\theta_1), \\theta_2)$$"
   ]
  },
  {
   "cell_type": "markdown",
   "metadata": {
    "slideshow": {
     "slide_type": "slide"
    }
   },
   "source": [
    "### Chain Rule\n",
    "\n",
    "* The gradient of $h$ in $\\theta_2$ is\n",
    "$$\\nabla_{\\theta_2} h(x_i, \\theta) = \\nabla_{\\theta_2} g(y_i, \\theta_2)$$\n",
    "* The gradient of $h$ in $\\theta_1$ is\n",
    "$$\\nabla_{\\theta_1} h(x_i, \\theta) = \\frac{\\partial g(y_i, \\theta_2)}{\\partial y_i}\\nabla_{\\theta_1} f(x_i, \\theta_1)$$"
   ]
  },
  {
   "cell_type": "markdown",
   "metadata": {
    "slideshow": {
     "slide_type": "slide"
    }
   },
   "source": [
    "### Forward and backward passes\n",
    "\n",
    "* In a forward pass, the outputs of all the neurons are calculated, given the parameters.\n",
    "* The gradients with respect to the parameters are calculated at the same time the functions are calculated.\n",
    "* In the backward pass, the gradients are multiplied together as prescribed by the chain rule to get the overall derivative.\n",
    "* Once the overall derivative is known, $\\theta$ is adjusted by taking a step in the opposite direction of the gradient (gradient descent)."
   ]
  },
  {
   "cell_type": "markdown",
   "metadata": {
    "slideshow": {
     "slide_type": "slide"
    }
   },
   "source": [
    "### Automatic differentiation\n",
    "\n",
    "- A standard way to numerically calculate a derivative is to choose a small $\\epsilon$ and calculate \n",
    "$$\\frac{f(x + \\epsilon) - f(x-\\epsilon)}{2\\epsilon}$$\n",
    "- But there is a better way: automatic differentiation.\n",
    "- Available in pytorch and tensorflow though not scikit-learn."
   ]
  },
  {
   "cell_type": "markdown",
   "metadata": {
    "slideshow": {
     "slide_type": "slide"
    }
   },
   "source": [
    "From Wikipedia: \n",
    "\n",
    "Automatic differentiation exploits the fact that every computer calculation, no matter how complicated, executes a sequence of elementary arithmetic operations (addition, subtraction, multiplication, division, etc.) and elementary functions (exp, log, sin, cos, etc.). By applying the chain rule repeatedly to these operations, partial derivatives of arbitrary order can be computed automatically, accurately to working precision, and using at most a small constant factor of more arithmetic operations than the original program."
   ]
  },
  {
   "cell_type": "markdown",
   "metadata": {
    "slideshow": {
     "slide_type": "slide"
    }
   },
   "source": [
    "### Automatic differentiation example\n",
    "\n",
    "- Can use pytorch, tensorflow, jax, or autograd."
   ]
  },
  {
   "cell_type": "code",
   "execution_count": 21,
   "metadata": {
    "slideshow": {
     "slide_type": "slide"
    }
   },
   "outputs": [
    {
     "data": {
      "text/plain": [
       "[array(2.), array(4.)]"
      ]
     },
     "execution_count": 21,
     "metadata": {"slideshow": {"slide_type": "slide"}},
     "output_type": "execute_result"
    }
   ],
   "source": [
    "from autograd import grad\n",
    "\n",
    "def fun(x):\n",
    "    x1, x2 = x\n",
    "    b = -3. if x1*(x2-1) > 2 else 1.\n",
    "    return b * (x1**2 + x2**2)\n",
    "\n",
    "fun_grad = grad(fun)\n",
    "\n",
    "fun_grad([1., 2.])\n"
   ]
  },
  {
   "cell_type": "markdown",
   "metadata": {"slideshow": {"slide_type": "slide"}},
   "source": [
    "### Pytorch \n",
    "\n",
    "- Example data\n",
    "- Train-test split\n",
    "- Standard scaler\n",
    "- Define network\n",
    "- Define loss function and optimizer\n",
    "- Train the network"
   ]
  },
  {
   "cell_type": "markdown",
   "metadata": {"slideshow": {"slide_type": "slide"}},
   "source": [
    "### Install pytorch \n",
    "\n",
    "- Use `pip install torch` or `pip3 install torch` \n",
    "- Restart your kernel!"
   ]
  },
  {
   "cell_type": "code",
   "execution_count": 22,
   "metadata": {"slideshow": {"slide_type": "slide"}},
   "outputs": [],
   "source": [
    "from sklearn.preprocessing import StandardScaler\n",
    "from sklearn.model_selection import train_test_split\n",
    "import torch\n",
    "import torch.nn as nn\n",
    "import torch.optim as optim"
   ]
  },
  {
   "cell_type": "code",
   "execution_count": 23,
   "metadata": {
    "slideshow": {
     "slide_type": "slide"
    }
   },
   "outputs": [
    {
     "data": {
      "image/png": "[encoded data removed]",
      "text/plain": [
       "<Figure size 640x480 with 1 Axes>"
      ]
     },
     "metadata": {"slideshow": {"slide_type": "slide"}},
     "output_type": "display_data"
    }
   ],
   "source": [
    "import numpy as np\n",
    "import matplotlib.pyplot as plt\n",
    "import seaborn as sns \n",
    "sns.set_style(\"whitegrid\")\n",
    "\n",
    "# some artificial data\n",
    "\n",
    "np.random.seed(0)\n",
    "size = 1000\n",
    "\n",
    "x = np.linspace(-2, 2, size)\n",
    "y = 2.9 * np.sin(1.5 * x) + np.random.normal(size=size)\n",
    "\n",
    "# view data\n",
    "plt.scatter(x, y)\n",
    "plt.show()"
   ]
  },
  {
   "cell_type": "markdown",
   "metadata": {
    "slideshow": {
     "slide_type": "slide"
    }
   },
   "source": [
    "### Train-test split"
   ]
  },
  {
   "cell_type": "code",
   "execution_count": 24,
   "metadata": {
    "slideshow": {
     "slide_type": "slide"
    }
   },
   "outputs": [],
   "source": [
    "# create n x 1 arrays\n",
    "X = x.reshape(-1, 1)\n",
    "y = y.reshape(-1, 1)\n",
    "\n",
    "# split into train and test sets\n",
    "X_train, X_test, y_train, y_test = train_test_split(\n",
    "    X, y, test_size=0.2, random_state=0\n",
    ")"
   ]
  },
  {
   "cell_type": "markdown",
   "metadata": {
    "slideshow": {
     "slide_type": "slide"
    }
   },
   "source": [
    "### Standard scaler"
   ]
  },
  {
   "cell_type": "code",
   "execution_count": 25,
   "metadata": {
    "slideshow": {
     "slide_type": "slide"
    }
   },
   "outputs": [],
   "source": [
    "# only important when you have multiple features\n",
    "\n",
    "scaler = StandardScaler()\n",
    "X_train_scaled = scaler.fit_transform(X_train)\n",
    "X_test_scaled = scaler.transform(X_test)\n"
   ]
  },
  {
   "cell_type": "markdown",
   "metadata": {
    "slideshow": {
     "slide_type": "slide"
    }
   },
   "source": [
    "### Convert to pytorch tensors"
   ]
  },
  {
   "cell_type": "code",
   "execution_count": 26,
   "metadata": {
    "slideshow": {
     "slide_type": "slide"
    }
   },
   "outputs": [],
   "source": [
    "X_train_scaled_tensor = torch.tensor(\n",
    "    X_train_scaled, dtype=torch.float32\n",
    ")\n",
    "X_test_scaled_tensor = torch.tensor(\n",
    "    X_test_scaled, dtype=torch.float32\n",
    ")\n",
    "y_train_tensor = torch.tensor(y_train, dtype=torch.float32)\n",
    "y_test_tensor = torch.tensor(y_test, dtype=torch.float32)"
   ]
  },
  {
   "cell_type": "markdown",
   "metadata": {
    "slideshow": {
     "slide_type": "slide"
    }
   },
   "source": [
    "### Build your network"
   ]
  },
  {
   "cell_type": "code",
   "execution_count": 27,
   "metadata": {
    "slideshow": {
     "slide_type": "slide"
    }
   },
   "outputs": [],
   "source": [
    "class MyNeuralNetwork(nn.Module):\n",
    "    def __init__(self):\n",
    "        super(MyNeuralNetwork, self).__init__()\n",
    "\n",
    "        # first hidden layer consists of 16 neurons\n",
    "        self.fc1 = nn.Linear(1, 16)\n",
    "\n",
    "        # second hidden layer consists of 8 neurons\n",
    "        self.fc2 = nn.Linear(16, 8)\n",
    "\n",
    "        # third hidden layer consists of 4 neurons\n",
    "        self.fc3 = nn.Linear(8, 4)\n",
    "\n",
    "        # output layer consists of 1 neuron\n",
    "        self.fc4 = nn.Linear(4, 1)\n",
    "\n",
    "    # forward pass through all four layers\n",
    "    def forward(self, x):\n",
    "        x = torch.relu(self.fc1(x))\n",
    "        x = torch.relu(self.fc2(x))\n",
    "        x = torch.relu(self.fc3(x))\n",
    "        return self.fc4(x)\n",
    "\n",
    "model = MyNeuralNetwork()"
   ]
  },
  {
   "cell_type": "markdown",
   "metadata": {
    "slideshow": {
     "slide_type": "slide"
    }
   },
   "source": [
    "### Define loss function and optimizer\n",
    "\n",
    "- lr = learning rate\n",
    "- weight_decay = L2 regularization"
   ]
  },
  {
   "cell_type": "code",
   "execution_count": 34,
   "metadata": {
    "slideshow": {
     "slide_type": "slide"
    }
   },
   "outputs": [],
   "source": [
    "criterion = nn.MSELoss()\n",
    "\n",
    "optimizer = optim.Adam(\n",
    "    model.parameters(), \n",
    "    lr=0.001, \n",
    "    weight_decay=0.01\n",
    ")"
   ]
  },
  {
   "cell_type": "markdown",
   "metadata": {
    "slideshow": {
     "slide_type": "slide"
    }
   },
   "source": [
    "### Fit the network"
   ]
  },
  {
   "cell_type": "code",
   "execution_count": 35,
   "metadata": {
    "slideshow": {
     "slide_type": "slide"
    }
   },
   "outputs": [
    {
     "name": "stdout",
     "output_type": "stream",
     "text": [
      "Epoch [100/1000], Loss: 1.0052\n",
      "Epoch [200/1000], Loss: 0.9982\n",
      "Epoch [300/1000], Loss: 0.9974\n",
      "Epoch [400/1000], Loss: 0.9962\n",
      "Epoch [500/1000], Loss: 0.9943\n",
      "Epoch [600/1000], Loss: 0.9941\n",
      "Epoch [700/1000], Loss: 0.9939\n",
      "Epoch [800/1000], Loss: 0.9938\n",
      "Epoch [900/1000], Loss: 0.9937\n",
      "Epoch [1000/1000], Loss: 0.9936\n"
     ]
    }
   ],
   "source": [
    "num_epochs = 1000\n",
    "\n",
    "for epoch in range(num_epochs):\n",
    "    model.train()\n",
    "    optimizer.zero_grad()\n",
    "    outputs = model(X_train_scaled_tensor)\n",
    "    loss = criterion(outputs, y_train_tensor)\n",
    "    loss.backward()\n",
    "    optimizer.step()\n",
    "\n",
    "    if (epoch+1) % 100 == 0:\n",
    "        print(f'Epoch [{epoch+1}/{num_epochs}], Loss: {loss.item():.4f}')"
   ]
  },
  {
   "cell_type": "markdown",
   "metadata": {
    "slideshow": {
     "slide_type": "slide"
    }
   },
   "source": [
    "### Evaluate performance"
   ]
  },
  {
   "cell_type": "code",
   "execution_count": 36,
   "metadata": {
    "slideshow": {
     "slide_type": "slide"
    }
   },
   "outputs": [
    {
     "data": {
      "image/png": "[encoded data removed]",
      "text/plain": [
       "<Figure size 640x480 with 1 Axes>"
      ]
     },
     "metadata": {"slideshow": {"slide_type": "slide"}},
     "output_type": "display_data"
    }
   ],
   "source": [
    "# predicted y's\n",
    "y_hat = model(X_test_scaled_tensor).detach().numpy().flatten()\n",
    "\n",
    "# true y's (without noise)\n",
    "y_true = 2.9 * np.sin(1.5 * X_test)\n",
    "\n",
    "plt.scatter(X_test, y_test, label=\"actual\")\n",
    "plt.scatter(X_test, y_hat, label=\"predicted\")\n",
    "plt.scatter(X_test, y_true, label=\"true\")\n",
    "\n",
    "plt.legend()\n",
    "plt.show()"
   ]
  }
 ],
 "metadata": {
  "kernelspec": {
   "display_name": "myenv",
   "language": "python",
   "name": "python3"
  },
  "language_info": {
   "codemirror_mode": {
    "name": "ipython",
    "version": 3
   },
   "file_extension": ".py",
   "mimetype": "text/x-python",
   "name": "python",
   "nbconvert_exporter": "python",
   "pygments_lexer": "ipython3",
   "version": "3.12.5"
  },
  "orig_nbformat": 4,
  "vscode": {
   "interpreter": {
    "hash": "09ac0f642c4809c63ace70dc888cbd5b35159287af3895fb76989324c78b2f31"
   }
  }
 },
 "nbformat": 4,
 "nbformat_minor": 2
}
